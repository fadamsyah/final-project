{
 "cells": [
  {
   "cell_type": "code",
   "execution_count": 1,
   "metadata": {},
   "outputs": [
    {
     "name": "stderr",
     "output_type": "stream",
     "text": [
      "Failed to load Python extension for LZ4 support. LZ4 compression will not be available.\n"
     ]
    }
   ],
   "source": [
    "import numpy as np\n",
    "import matplotlib.pyplot as plt\n",
    "import pandas as pd\n",
    "import rosbag\n",
    "import pymap3d as pm\n",
    "\n",
    "from scipy.signal import savgol_filter\n",
    "%matplotlib inline\n",
    "\n",
    "def wrap_angle(angle):\n",
    "    return (angle + np.pi) % (2 * np.pi) - np.pi"
   ]
  },
  {
   "cell_type": "code",
   "execution_count": 2,
   "metadata": {},
   "outputs": [],
   "source": [
    "def wrap_angle(angle):\n",
    "    return (angle + np.pi) % (2 * np.pi) - np.pi\n",
    "\n",
    "def to_euler(x, y, z, w):\n",
    "    \"\"\"Return as xyz (roll pitch yaw) Euler angles.\"\"\"\n",
    "    roll = np.arctan2(2 * (w * x + y * z), 1 - 2 * (x**2 + y**2))\n",
    "    pitch = np.arcsin(2 * (w * y - z * x))\n",
    "    yaw = np.arctan2(2 * (w * z + x * y), 1 - 2 * (y**2 + z**2))\n",
    "    return np.array([roll, pitch, yaw])"
   ]
  },
  {
   "cell_type": "markdown",
   "metadata": {
    "collapsed": "true"
   },
   "source": [
    "# LURUS"
   ]
  },
  {
   "cell_type": "code",
   "execution_count": null,
   "metadata": {},
   "outputs": [],
   "source": [
    "bag = rosbag.Bag('bag/get_31_LURUS.bag')\n",
    "# print(bag)"
   ]
  },
  {
   "cell_type": "markdown",
   "metadata": {},
   "source": [
    "## CHECK "
   ]
  },
  {
   "cell_type": "code",
   "execution_count": null,
   "metadata": {},
   "outputs": [],
   "source": [
    "lat0, lon0, h0 = -6.8712, 107.5738, 768\n",
    "gps_t = []\n",
    "gps_pos = []\n",
    "gps_cov = []\n",
    "for topic, msg, _ in bag.read_messages(topics=['/fix']):\n",
    "    gps_t.append(msg.header.stamp.to_sec())\n",
    "    gps_pos.append(pm.geodetic2enu(msg.latitude, msg.longitude, msg.altitude, lat0, lon0, h0))\n",
    "    gps_cov.append(msg.position_covariance)\n",
    "gps_t = np.array(gps_t)\n",
    "gps_pos = np.array(gps_pos)\n",
    "gps_cov = np.array(gps_cov).reshape(-1,3,3)\n",
    "\n",
    "# Ambil sb. x & sb. y saja sampai limm\n",
    "limm = -1\n",
    "#X_fm = (-1) * np.copy(gps_pos[:limm,:2])\n",
    "X_fm = np.copy(gps_pos[:limm,:2])\n",
    "ttime = np.copy(gps_t[:limm])\n",
    "\n",
    "x = []\n",
    "y = []\n",
    "yaw = []\n",
    "t = []\n",
    "for topic, msg, _ in bag.read_messages(topics=['/get_waypoints']):\n",
    "    x.append(msg.x)\n",
    "    y.append(msg.y)\n",
    "    yaw.append(msg.yaw)\n",
    "    t.append(msg.header.stamp.to_sec())\n",
    "x = np.array(x)\n",
    "y = np.array(y)\n",
    "yaw = wrap_angle(np.array(yaw) * (-1) - np.pi*3/2)\n",
    "t = np.array(t)\n",
    "\n",
    "lim = [0, -1]\n",
    "plt.scatter(X_fm[lim[0]:lim[1],0], X_fm[lim[0]:lim[1],1], s=3., label='gps')\n",
    "plt.scatter(x,y,s=2., label='get_wp_gps_imu')\n",
    "plt.legend()\n",
    "plt.show()"
   ]
  },
  {
   "cell_type": "code",
   "execution_count": null,
   "metadata": {},
   "outputs": [],
   "source": [
    "# Filter the waypoints and remove the outlier !\n",
    "X = np.copy(x)\n",
    "Y = np.copy(y)\n",
    "T = np.copy(t)\n",
    "YAW = np.copy(yaw)\n",
    "\n",
    "for m in range(6):\n",
    "    X_filtered = savgol_filter(X, 51, 3)\n",
    "    Y_filtered = savgol_filter(Y, 51, 3)\n",
    "    dist = np.sqrt((X_filtered - X)**2 + (Y_filtered - Y)**2)\n",
    "    X = X[dist <= 0.5]\n",
    "    Y = Y[dist <= 0.5]\n",
    "    T = T[dist <= 0.5]\n",
    "    YAW = YAW[dist <= 0.5]\n",
    "    if m % 1 == 0:\n",
    "        None\n",
    "#         plt.scatter(x, y, label='Raw Data', s=0.5,color='red')\n",
    "#         plt.plot(X, Y, label='Outlier Rejection')\n",
    "#         plt.legend()\n",
    "#         plt.title('Iterasi ke-{}'.format(m))\n",
    "#         plt.show()\n",
    "plt.scatter(x, y, label='Raw Data', s=0.5,color='red')\n",
    "plt.plot(X, Y, label='Outlier Rejection')\n",
    "plt.legend()\n",
    "plt.title('Iterasi ke-{}'.format(m))\n",
    "plt.show()"
   ]
  },
  {
   "cell_type": "code",
   "execution_count": null,
   "metadata": {},
   "outputs": [],
   "source": [
    "num_f = 201\n",
    "\n",
    "dst = 0.1\n",
    "\n",
    "wp_x = [X[0]]\n",
    "wp_y = [Y[0]]\n",
    "wp_yaw = [YAW[0]]\n",
    "for i in range(1, X.shape[0]):\n",
    "    dist = np.sqrt((X[i] - wp_x[-1])**2 + (Y[i] - wp_y[-1])**2)\n",
    "    while dist >= dst:\n",
    "    #if dist >= dst:\n",
    "        wp_x.append(wp_x[-1] + dst*(X[i] - wp_x[-1])/dist)\n",
    "        wp_y.append(wp_y[-1] + dst*(Y[i] - wp_y[-1])/dist)\n",
    "        wp_yaw.append(wp_yaw[-1] + dst*(YAW[i] - wp_yaw[-1])/dist)\n",
    "        dist = np.sqrt((X[i] - wp_x[-1])**2 + (Y[i] - wp_y[-1])**2)\n",
    "wp_x = np.array(wp_x)\n",
    "wp_y = np.array(wp_y)\n",
    "wp_yaw = np.array(wp_yaw)\n",
    "temp = np.copy(wp_yaw)\n",
    "wp_yaw = np.zeros_like(wp_x)\n",
    "diffx = wp_x[2:] - wp_x[:-2]\n",
    "diffy = wp_y[2:] - wp_y[:-2]\n",
    "wp_yaw[1:-1] = np.arctan2(diffy, diffx)\n",
    "wp_yaw[0] = wp_yaw[1]\n",
    "wp_yaw[-1] = wp_yaw[-2]\n",
    "\n",
    "wp_x_f = savgol_filter(wp_x, num_f, 3)\n",
    "wp_y_f = savgol_filter(wp_y, num_f, 3)\n",
    "wp_yaw_f = savgol_filter(np.unwrap(wp_yaw), num_f, 3)\n",
    "\n",
    "s = np.zeros(wp_x.shape[0])\n",
    "for i in range(1, s.shape[0]):\n",
    "    s[i] = s[i-1] + np.sqrt((wp_x[i] - wp_x[i-1])**2 + (wp_y[i] - wp_y[i-1])**2)\n",
    "\n",
    "curvature = np.gradient(np.unwrap(wp_yaw_f), s)\n",
    "curvaturef = savgol_filter(curvature, num_f, 3)\n",
    "steer = np.arcsin(1.7 * curvaturef)*180/np.pi\n",
    "\n",
    "# Limiting the steering angle\n",
    "steer[steer > 35.] = 35\n",
    "steer[steer < -28.] = -28.\n",
    "\n",
    "wp_yaw = np.copy(temp)\n",
    "wp_yaw_f = wrap_angle(savgol_filter(np.unwrap(wp_yaw), num_f, 3))\n",
    "\n",
    "width = 15\n",
    "height = 15\n",
    "plt.figure(figsize=(width, height))\n",
    "\n",
    "plt.subplot(2,2,1)\n",
    "plt.plot(wp_x, wp_y, label='Processed')\n",
    "plt.scatter(x, y, color='red',s=2., label='RAW')\n",
    "plt.xlabel(\"X (m)\")\n",
    "plt.ylabel(\"Y (m)\")\n",
    "plt.legend()\n",
    "plt.title(\"PATH\")\n",
    "\n",
    "plt.subplot(2,2,2)\n",
    "plt.plot(s, wp_yaw)\n",
    "plt.plot(s, wp_yaw_f, label='post filtered')\n",
    "plt.title(\"YAW\")\n",
    "plt.xlabel('s (m)')\n",
    "plt.ylabel('rad')\n",
    "plt.legend()\n",
    "\n",
    "plt.subplot(2,2,3)\n",
    "plt.plot(s, curvature)\n",
    "plt.plot(s, curvaturef, label='post filtered')\n",
    "plt.legend()\n",
    "plt.title(\"CURVATURE\")\n",
    "plt.xlabel('s (m)')\n",
    "plt.ylabel(r'$\\kappa\\;(1/m)$')\n",
    "\n",
    "plt.subplot(2,2,4)\n",
    "plt.plot(s, steer)\n",
    "plt.title(\"FEED FORWARD STEERING ANGLE\")\n",
    "plt.xlabel('s (m)')\n",
    "plt.ylabel(r'$(\\degree)$')\n",
    "\n",
    "#plt.savefig('waypoints.png', dpi=600, transparent=True)\n",
    "plt.show()"
   ]
  },
  {
   "cell_type": "markdown",
   "metadata": {},
   "source": [
    "## INTERPOLATING THE WAYPOINTS"
   ]
  },
  {
   "cell_type": "code",
   "execution_count": null,
   "metadata": {},
   "outputs": [],
   "source": [
    "# # THROTTLEEEEE\n",
    "\n",
    "# # Generate the velocity\n",
    "v0 = 0.085 #m/s ~ 1.8 km/jam\n",
    "vstop = 0.085\n",
    "vmax = 0.25 #m/s ~ 5.4 km/jam\n",
    "accel = 0.005 #m/s2\n",
    "num = wp_x_f.shape[0]\n",
    "vel = [v0]\n",
    "const = 20.\n",
    "for i in range(1, num):\n",
    "    vel.append(min(np.sqrt(vel[-1]**2 + 2*accel*dst), vmax / (1 + const*curvaturef[i]**2)))\n",
    "vel = np.array(vel)\n",
    "\n",
    "for i in range(num):\n",
    "    if s[i] >= 25:\n",
    "        vel[i] = 0.0\n",
    "    elif s[i] >= 17:\n",
    "        vel[i] = max(np.sqrt(max(vel[i-1]**2 - 2*accel*dst, 0.0)), vstop)\n",
    "\n",
    "plt.plot(s, vel)"
   ]
  },
  {
   "cell_type": "code",
   "execution_count": null,
   "metadata": {},
   "outputs": [],
   "source": [
    "# # VELOCITY\n",
    "\n",
    "# # Generate the velocity\n",
    "# v0 = 0.5 #m/s ~ 1.8 km/jam\n",
    "# vstop = 0.5\n",
    "# vmax = 1.5 #m/s ~ 5.4 km/jam\n",
    "# accel = 0.15 #m/s2\n",
    "# num = wp_x_f.shape[0]\n",
    "# vel = [v0]\n",
    "# const = 20.\n",
    "# for i in range(1, num):\n",
    "#     vel.append(min(np.sqrt(vel[-1]**2 + 2*accel*dst), vmax / (1 + const*curvaturef[i]**2)))\n",
    "# vel = np.array(vel)\n",
    "\n",
    "# for i in range(num):\n",
    "#     if s[i] >= 25:\n",
    "#         vel[i] = 0.0\n",
    "#     elif s[i] >= 17:\n",
    "#         vel[i] = max(np.sqrt(max(vel[i-1]**2 - 2*accel*dst, 0.0)), vstop)\n",
    "\n",
    "# plt.plot(s, vel)"
   ]
  },
  {
   "cell_type": "code",
   "execution_count": null,
   "metadata": {},
   "outputs": [],
   "source": [
    "waypoints_np = np.empty((wp_x_f.shape[0], 5))\n",
    "waypoints_np[:,0] = wp_x_f\n",
    "waypoints_np[:,1] = wp_y_f\n",
    "waypoints_np[:,2] = wp_yaw_f\n",
    "waypoints_np[:,3] = vel\n",
    "waypoints_np[:,4] = curvaturef"
   ]
  },
  {
   "cell_type": "code",
   "execution_count": null,
   "metadata": {},
   "outputs": [],
   "source": [
    "INTERP_DISTANCE_RES = 0.01 # distance between interpolated points\n",
    "\n",
    "# Linear interpolation computations\n",
    "# Compute a list of distances between waypoints\n",
    "wp_distance = []   # distance array\n",
    "for i in range(1, waypoints_np.shape[0]):\n",
    "    wp_distance.append(\n",
    "            np.sqrt((waypoints_np[i, 0] - waypoints_np[i-1, 0])**2 +\n",
    "                    (waypoints_np[i, 1] - waypoints_np[i-1, 1])**2))\n",
    "wp_distance.append(0)  # last distance is 0 because it is the distance\n",
    "                       # from the last waypoint to the last waypoint\n",
    "\n",
    "# Linearly interpolate between waypoints and store in a list\n",
    "wp_interp      = []    # interpolated values \n",
    "                       # (rows = waypoints, columns = [x, y, v])\n",
    "wp_interp_hash = []    # hash table which indexes waypoints_np\n",
    "                       # to the index of the waypoint in wp_interp\n",
    "interp_counter = 0     # counter for current interpolated point index\n",
    "for i in range(waypoints_np.shape[0] - 1):\n",
    "    # Add original waypoint to interpolated waypoints list (and append\n",
    "    # it to the hash table)\n",
    "    wp_interp.append(list(waypoints_np[i]))\n",
    "    wp_interp_hash.append(interp_counter)   \n",
    "    interp_counter+=1\n",
    "\n",
    "    # Interpolate to the next waypoint. First compute the number of\n",
    "    # points to interpolate based on the desired resolution and\n",
    "    # incrementally add interpolated points until the next waypoint\n",
    "    # is about to be reached.\n",
    "    num_pts_to_interp = int(np.floor(wp_distance[i] /\\\n",
    "                                 float(INTERP_DISTANCE_RES)) - 1)\n",
    "    wp_vector = waypoints_np[i+1] - waypoints_np[i]\n",
    "    wp_uvector = wp_vector / np.linalg.norm(wp_vector)\n",
    "    for j in range(num_pts_to_interp):\n",
    "        next_wp_vector = INTERP_DISTANCE_RES * float(j+1) * wp_uvector\n",
    "        wp_interp.append(list(waypoints_np[i] + next_wp_vector))\n",
    "        interp_counter+=1\n",
    "# add last waypoint at the end\n",
    "wp_interp.append(list(waypoints_np[-1]))\n",
    "wp_interp_hash.append(interp_counter)   \n",
    "wp_interp = np.array(wp_interp)\n",
    "wp_interp_hash = np.array(wp_interp_hash)\n",
    "interp_counter+=1"
   ]
  },
  {
   "cell_type": "code",
   "execution_count": null,
   "metadata": {},
   "outputs": [],
   "source": [
    "np.save('waypoints/31_agus_wp_lurus', wp_interp)\n",
    "wp_interp.shape"
   ]
  },
  {
   "cell_type": "markdown",
   "metadata": {
    "collapsed": "true"
   },
   "source": [
    "# S"
   ]
  },
  {
   "cell_type": "code",
   "execution_count": null,
   "metadata": {},
   "outputs": [],
   "source": [
    "bag = rosbag.Bag('bag/get_31_S.bag')\n",
    "# print(bag)"
   ]
  },
  {
   "cell_type": "markdown",
   "metadata": {},
   "source": [
    "## CHECK "
   ]
  },
  {
   "cell_type": "code",
   "execution_count": null,
   "metadata": {},
   "outputs": [],
   "source": [
    "lat0, lon0, h0 = -6.8712, 107.5738, 768\n",
    "gps_t = []\n",
    "gps_pos = []\n",
    "gps_cov = []\n",
    "for topic, msg, _ in bag.read_messages(topics=['/fix']):\n",
    "    gps_t.append(msg.header.stamp.to_sec())\n",
    "    gps_pos.append(pm.geodetic2enu(msg.latitude, msg.longitude, msg.altitude, lat0, lon0, h0))\n",
    "    gps_cov.append(msg.position_covariance)\n",
    "gps_t = np.array(gps_t)\n",
    "gps_pos = np.array(gps_pos)\n",
    "gps_cov = np.array(gps_cov).reshape(-1,3,3)\n",
    "\n",
    "# Ambil sb. x & sb. y saja sampai limm\n",
    "limm = -1\n",
    "#X_fm = (-1) * np.copy(gps_pos[:limm,:2])\n",
    "X_fm = np.copy(gps_pos[:limm,:2])\n",
    "ttime = np.copy(gps_t[:limm])\n",
    "\n",
    "x = []\n",
    "y = []\n",
    "yaw = []\n",
    "t = []\n",
    "for topic, msg, _ in bag.read_messages(topics=['/get_waypoints']):\n",
    "    x.append(msg.x)\n",
    "    y.append(msg.y)\n",
    "    yaw.append(msg.yaw)\n",
    "    t.append(msg.header.stamp.to_sec())\n",
    "x = np.array(x)\n",
    "y = np.array(y)\n",
    "yaw = wrap_angle(np.array(yaw) * (-1) - np.pi*3/2)\n",
    "t = np.array(t)\n",
    "\n",
    "lim = [0, -1]\n",
    "plt.scatter(X_fm[lim[0]:lim[1],0], X_fm[lim[0]:lim[1],1], s=3., label='gps')\n",
    "plt.scatter(x,y,s=2., label='get_wp_gps_imu')\n",
    "plt.legend()\n",
    "plt.show()"
   ]
  },
  {
   "cell_type": "code",
   "execution_count": null,
   "metadata": {},
   "outputs": [],
   "source": [
    "# Filter the waypoints and remove the outlier !\n",
    "X = np.copy(x)\n",
    "Y = np.copy(y)\n",
    "T = np.copy(t)\n",
    "YAW = np.copy(yaw)\n",
    "\n",
    "for m in range(6):\n",
    "    X_filtered = savgol_filter(X, 51, 3)\n",
    "    Y_filtered = savgol_filter(Y, 51, 3)\n",
    "    dist = np.sqrt((X_filtered - X)**2 + (Y_filtered - Y)**2)\n",
    "    X = X[dist <= 0.5]\n",
    "    Y = Y[dist <= 0.5]\n",
    "    T = T[dist <= 0.5]\n",
    "    YAW = YAW[dist <= 0.5]\n",
    "    if m % 1 == 0:\n",
    "        None\n",
    "#         plt.scatter(x, y, label='Raw Data', s=0.5,color='red')\n",
    "#         plt.plot(X, Y, label='Outlier Rejection')\n",
    "#         plt.legend()\n",
    "#         plt.title('Iterasi ke-{}'.format(m))\n",
    "#         plt.show()\n",
    "plt.scatter(x, y, label='Raw Data', s=0.5,color='red')\n",
    "plt.plot(X, Y, label='Outlier Rejection')\n",
    "plt.legend()\n",
    "plt.title('Iterasi ke-{}'.format(m))\n",
    "plt.show()"
   ]
  },
  {
   "cell_type": "code",
   "execution_count": null,
   "metadata": {},
   "outputs": [],
   "source": [
    "wp_x.shape"
   ]
  },
  {
   "cell_type": "code",
   "execution_count": null,
   "metadata": {},
   "outputs": [],
   "source": [
    "num_f = 161\n",
    "\n",
    "dst = 0.1\n",
    "\n",
    "wp_x = [X[0]]\n",
    "wp_y = [Y[0]]\n",
    "wp_yaw = [YAW[0]]\n",
    "for i in range(1, X.shape[0]):\n",
    "    dist = np.sqrt((X[i] - wp_x[-1])**2 + (Y[i] - wp_y[-1])**2)\n",
    "    while dist >= dst:\n",
    "    #if dist >= dst:\n",
    "        wp_x.append(wp_x[-1] + dst*(X[i] - wp_x[-1])/dist)\n",
    "        wp_y.append(wp_y[-1] + dst*(Y[i] - wp_y[-1])/dist)\n",
    "        wp_yaw.append(wp_yaw[-1] + dst*(YAW[i] - wp_yaw[-1])/dist)\n",
    "        dist = np.sqrt((X[i] - wp_x[-1])**2 + (Y[i] - wp_y[-1])**2)\n",
    "wp_x = np.array(wp_x)\n",
    "wp_y = np.array(wp_y)\n",
    "wp_yaw = np.array(wp_yaw)\n",
    "temp = np.copy(wp_yaw)\n",
    "wp_yaw = np.zeros_like(wp_x)\n",
    "diffx = wp_x[2:] - wp_x[:-2]\n",
    "diffy = wp_y[2:] - wp_y[:-2]\n",
    "wp_yaw[1:-1] = np.arctan2(diffy, diffx)\n",
    "wp_yaw[0] = wp_yaw[1]\n",
    "wp_yaw[-1] = wp_yaw[-2]\n",
    "\n",
    "wp_x_f = savgol_filter(wp_x, num_f, 3)\n",
    "wp_y_f = savgol_filter(wp_y, num_f, 3)\n",
    "wp_yaw_f = savgol_filter(np.unwrap(wp_yaw), num_f, 3)\n",
    "\n",
    "s = np.zeros(wp_x.shape[0])\n",
    "for i in range(1, s.shape[0]):\n",
    "    s[i] = s[i-1] + np.sqrt((wp_x[i] - wp_x[i-1])**2 + (wp_y[i] - wp_y[i-1])**2)\n",
    "\n",
    "curvature = np.gradient(np.unwrap(wp_yaw_f), s)\n",
    "curvaturef = savgol_filter(curvature, num_f, 3)\n",
    "steer = np.arcsin(1.7 * curvaturef)*180/np.pi\n",
    "\n",
    "# Limiting the steering angle\n",
    "steer[steer > 35.] = 35\n",
    "steer[steer < -28.] = -28.\n",
    "\n",
    "wp_yaw = np.copy(temp)\n",
    "wp_yaw_f = wrap_angle(savgol_filter(np.unwrap(wp_yaw), num_f, 3))\n",
    "\n",
    "width = 15\n",
    "height = 15\n",
    "plt.figure(figsize=(width, height))\n",
    "\n",
    "plt.subplot(2,2,1)\n",
    "plt.plot(wp_x, wp_y, label='Processed')\n",
    "plt.scatter(x, y, color='red',s=2., label='RAW')\n",
    "plt.xlabel(\"X (m)\")\n",
    "plt.ylabel(\"Y (m)\")\n",
    "plt.legend()\n",
    "plt.title(\"PATH\")\n",
    "\n",
    "plt.subplot(2,2,2)\n",
    "plt.plot(s, wp_yaw)\n",
    "plt.plot(s, wp_yaw_f, label='post filtered')\n",
    "plt.title(\"YAW\")\n",
    "plt.xlabel('s (m)')\n",
    "plt.ylabel('rad')\n",
    "plt.legend()\n",
    "\n",
    "plt.subplot(2,2,3)\n",
    "plt.plot(s, curvature)\n",
    "plt.plot(s, curvaturef, label='post filtered')\n",
    "plt.legend()\n",
    "plt.title(\"CURVATURE\")\n",
    "plt.xlabel('s (m)')\n",
    "plt.ylabel(r'$\\kappa\\;(1/m)$')\n",
    "\n",
    "plt.subplot(2,2,4)\n",
    "plt.plot(s, steer)\n",
    "plt.title(\"FEED FORWARD STEERING ANGLE\")\n",
    "plt.xlabel('s (m)')\n",
    "plt.ylabel(r'$(\\degree)$')\n",
    "\n",
    "#plt.savefig('waypoints.png', dpi=600, transparent=True)\n",
    "plt.show()"
   ]
  },
  {
   "cell_type": "markdown",
   "metadata": {},
   "source": [
    "## INTERPOLATING THE WAYPOINTS"
   ]
  },
  {
   "cell_type": "code",
   "execution_count": null,
   "metadata": {},
   "outputs": [],
   "source": [
    "# # THROTTLEEEEE\n",
    "\n",
    "# # Generate the velocity\n",
    "v0 = 0.085 #m/s ~ 1.8 km/jam\n",
    "vstop = 0.085\n",
    "vmax = 0.25 #m/s ~ 5.4 km/jam\n",
    "accel = 0.005 #m/s2\n",
    "num = wp_x_f.shape[0]\n",
    "vel = [v0]\n",
    "const = 20.\n",
    "for i in range(1, num):\n",
    "    vel.append(min(np.sqrt(vel[-1]**2 + 2*accel*dst), vmax / (1 + const*curvaturef[i]**2)))\n",
    "vel = np.array(vel)\n",
    "\n",
    "for i in range(num):\n",
    "    if s[i] >= 25:\n",
    "        vel[i] = 0.0\n",
    "    elif s[i] >= 17:\n",
    "        vel[i] = max(np.sqrt(max(vel[i-1]**2 - 2*accel*dst, 0.0)), vstop)\n",
    "\n",
    "plt.plot(s, vel)"
   ]
  },
  {
   "cell_type": "code",
   "execution_count": null,
   "metadata": {},
   "outputs": [],
   "source": [
    "# # VELOCITY\n",
    "\n",
    "# # Generate the velocity\n",
    "# v0 = 0.5 #m/s ~ 1.8 km/jam\n",
    "# vstop = 0.5\n",
    "# vmax = 1.5 #m/s ~ 5.4 km/jam\n",
    "# accel = 0.15 #m/s2\n",
    "# num = wp_x_f.shape[0]\n",
    "# vel = [v0]\n",
    "# const = 20.\n",
    "# for i in range(1, num):\n",
    "#     vel.append(min(np.sqrt(vel[-1]**2 + 2*accel*dst), vmax / (1 + const*curvaturef[i]**2)))\n",
    "# vel = np.array(vel)\n",
    "\n",
    "# for i in range(num):\n",
    "#     if s[i] >= 25:\n",
    "#         vel[i] = 0.0\n",
    "#     elif s[i] >= 17:\n",
    "#         vel[i] = max(np.sqrt(max(vel[i-1]**2 - 2*accel*dst, 0.0)), vstop)\n",
    "\n",
    "# plt.plot(s, vel)"
   ]
  },
  {
   "cell_type": "code",
   "execution_count": null,
   "metadata": {},
   "outputs": [],
   "source": [
    "waypoints_np = np.empty((wp_x_f.shape[0], 5))\n",
    "waypoints_np[:,0] = wp_x_f\n",
    "waypoints_np[:,1] = wp_y_f\n",
    "waypoints_np[:,2] = wp_yaw_f\n",
    "waypoints_np[:,3] = vel\n",
    "waypoints_np[:,4] = curvaturef"
   ]
  },
  {
   "cell_type": "code",
   "execution_count": null,
   "metadata": {},
   "outputs": [],
   "source": [
    "INTERP_DISTANCE_RES = 0.01 # distance between interpolated points\n",
    "\n",
    "# Linear interpolation computations\n",
    "# Compute a list of distances between waypoints\n",
    "wp_distance = []   # distance array\n",
    "for i in range(1, waypoints_np.shape[0]):\n",
    "    wp_distance.append(\n",
    "            np.sqrt((waypoints_np[i, 0] - waypoints_np[i-1, 0])**2 +\n",
    "                    (waypoints_np[i, 1] - waypoints_np[i-1, 1])**2))\n",
    "wp_distance.append(0)  # last distance is 0 because it is the distance\n",
    "                       # from the last waypoint to the last waypoint\n",
    "\n",
    "# Linearly interpolate between waypoints and store in a list\n",
    "wp_interp      = []    # interpolated values \n",
    "                       # (rows = waypoints, columns = [x, y, v])\n",
    "wp_interp_hash = []    # hash table which indexes waypoints_np\n",
    "                       # to the index of the waypoint in wp_interp\n",
    "interp_counter = 0     # counter for current interpolated point index\n",
    "for i in range(waypoints_np.shape[0] - 1):\n",
    "    # Add original waypoint to interpolated waypoints list (and append\n",
    "    # it to the hash table)\n",
    "    wp_interp.append(list(waypoints_np[i]))\n",
    "    wp_interp_hash.append(interp_counter)   \n",
    "    interp_counter+=1\n",
    "\n",
    "    # Interpolate to the next waypoint. First compute the number of\n",
    "    # points to interpolate based on the desired resolution and\n",
    "    # incrementally add interpolated points until the next waypoint\n",
    "    # is about to be reached.\n",
    "    num_pts_to_interp = int(np.floor(wp_distance[i] /\\\n",
    "                                 float(INTERP_DISTANCE_RES)) - 1)\n",
    "    wp_vector = waypoints_np[i+1] - waypoints_np[i]\n",
    "    wp_uvector = wp_vector / np.linalg.norm(wp_vector)\n",
    "    for j in range(num_pts_to_interp):\n",
    "        next_wp_vector = INTERP_DISTANCE_RES * float(j+1) * wp_uvector\n",
    "        wp_interp.append(list(waypoints_np[i] + next_wp_vector))\n",
    "        interp_counter+=1\n",
    "# add last waypoint at the end\n",
    "wp_interp.append(list(waypoints_np[-1]))\n",
    "wp_interp_hash.append(interp_counter)   \n",
    "wp_interp = np.array(wp_interp)\n",
    "wp_interp_hash = np.array(wp_interp_hash)\n",
    "interp_counter+=1"
   ]
  },
  {
   "cell_type": "code",
   "execution_count": null,
   "metadata": {},
   "outputs": [],
   "source": [
    "np.save('waypoints/31_agus_wp_S', wp_interp)\n",
    "wp_interp.shape"
   ]
  },
  {
   "cell_type": "markdown",
   "metadata": {},
   "source": [
    "# BELOK"
   ]
  },
  {
   "cell_type": "code",
   "execution_count": 3,
   "metadata": {},
   "outputs": [],
   "source": [
    "bag = rosbag.Bag('bag/get_31_BELOK.bag')\n",
    "# print(bag)"
   ]
  },
  {
   "cell_type": "markdown",
   "metadata": {},
   "source": [
    "## CHECK "
   ]
  },
  {
   "cell_type": "code",
   "execution_count": 4,
   "metadata": {},
   "outputs": [
    {
     "data": {
      "image/png": "[encoded data removed]",
      "text/plain": [
       "<Figure size 432x288 with 1 Axes>"
      ]
     },
     "metadata": {
      "needs_background": "light"
     },
     "output_type": "display_data"
    }
   ],
   "source": [
    "lat0, lon0, h0 = -6.8712, 107.5738, 768\n",
    "gps_t = []\n",
    "gps_pos = []\n",
    "gps_cov = []\n",
    "for topic, msg, _ in bag.read_messages(topics=['/fix']):\n",
    "    gps_t.append(msg.header.stamp.to_sec())\n",
    "    gps_pos.append(pm.geodetic2enu(msg.latitude, msg.longitude, msg.altitude, lat0, lon0, h0))\n",
    "    gps_cov.append(msg.position_covariance)\n",
    "gps_t = np.array(gps_t)\n",
    "gps_pos = np.array(gps_pos)\n",
    "gps_cov = np.array(gps_cov).reshape(-1,3,3)\n",
    "\n",
    "# Ambil sb. x & sb. y saja sampai limm\n",
    "limm = -1\n",
    "#X_fm = (-1) * np.copy(gps_pos[:limm,:2])\n",
    "X_fm = np.copy(gps_pos[:limm,:2])\n",
    "ttime = np.copy(gps_t[:limm])\n",
    "\n",
    "x = []\n",
    "y = []\n",
    "yaw = []\n",
    "t = []\n",
    "for topic, msg, _ in bag.read_messages(topics=['/get_waypoints']):\n",
    "    x.append(msg.x)\n",
    "    y.append(msg.y)\n",
    "    yaw.append(msg.yaw)\n",
    "    t.append(msg.header.stamp.to_sec())\n",
    "x = np.array(x)\n",
    "y = np.array(y)\n",
    "yaw = wrap_angle(np.array(yaw) * (-1) - np.pi*3/2)\n",
    "t = np.array(t)\n",
    "\n",
    "lim = [0, -1]\n",
    "plt.scatter(X_fm[lim[0]:lim[1],0], X_fm[lim[0]:lim[1],1], s=3., label='gps')\n",
    "plt.scatter(x,y,s=2., label='get_wp_gps_imu')\n",
    "plt.legend()\n",
    "plt.show()"
   ]
  },
  {
   "cell_type": "code",
   "execution_count": 5,
   "metadata": {},
   "outputs": [
    {
     "data": {
      "image/png": "[encoded data removed]",
      "text/plain": [
       "<Figure size 432x288 with 1 Axes>"
      ]
     },
     "metadata": {
      "needs_background": "light"
     },
     "output_type": "display_data"
    }
   ],
   "source": [
    "# Filter the waypoints and remove the outlier !\n",
    "X = np.copy(x)\n",
    "Y = np.copy(y)\n",
    "T = np.copy(t)\n",
    "YAW = np.copy(yaw)\n",
    "\n",
    "for m in range(6):\n",
    "    X_filtered = savgol_filter(X, 51, 3)\n",
    "    Y_filtered = savgol_filter(Y, 51, 3)\n",
    "    dist = np.sqrt((X_filtered - X)**2 + (Y_filtered - Y)**2)\n",
    "    X = X[dist <= 0.5]\n",
    "    Y = Y[dist <= 0.5]\n",
    "    T = T[dist <= 0.5]\n",
    "    YAW = YAW[dist <= 0.5]\n",
    "    if m % 1 == 0:\n",
    "        None\n",
    "#         plt.scatter(x, y, label='Raw Data', s=0.5,color='red')\n",
    "#         plt.plot(X, Y, label='Outlier Rejection')\n",
    "#         plt.legend()\n",
    "#         plt.title('Iterasi ke-{}'.format(m))\n",
    "#         plt.show()\n",
    "plt.scatter(x, y, label='Raw Data', s=0.5,color='red')\n",
    "plt.plot(X, Y, label='Outlier Rejection')\n",
    "plt.legend()\n",
    "plt.title('Iterasi ke-{}'.format(m))\n",
    "plt.show()"
   ]
  },
  {
   "cell_type": "code",
   "execution_count": 6,
   "metadata": {},
   "outputs": [
    {
     "data": {
      "image/png": "[encoded data removed]",
      "text/plain": [
       "<Figure size 1080x1080 with 4 Axes>"
      ]
     },
     "metadata": {
      "needs_background": "light"
     },
     "output_type": "display_data"
    }
   ],
   "source": [
    "num_f = 161\n",
    "\n",
    "dst = 0.1\n",
    "\n",
    "wp_x = [X[0]]\n",
    "wp_y = [Y[0]]\n",
    "wp_yaw = [YAW[0]]\n",
    "for i in range(1, X.shape[0]):\n",
    "    dist = np.sqrt((X[i] - wp_x[-1])**2 + (Y[i] - wp_y[-1])**2)\n",
    "    while dist >= dst:\n",
    "    #if dist >= dst:\n",
    "        wp_x.append(wp_x[-1] + dst*(X[i] - wp_x[-1])/dist)\n",
    "        wp_y.append(wp_y[-1] + dst*(Y[i] - wp_y[-1])/dist)\n",
    "        wp_yaw.append(wp_yaw[-1] + dst*(YAW[i] - wp_yaw[-1])/dist)\n",
    "        dist = np.sqrt((X[i] - wp_x[-1])**2 + (Y[i] - wp_y[-1])**2)\n",
    "wp_x = np.array(wp_x)\n",
    "wp_y = np.array(wp_y)\n",
    "wp_yaw = np.array(wp_yaw)\n",
    "temp = np.copy(wp_yaw)\n",
    "wp_yaw = np.zeros_like(wp_x)\n",
    "diffx = wp_x[2:] - wp_x[:-2]\n",
    "diffy = wp_y[2:] - wp_y[:-2]\n",
    "wp_yaw[1:-1] = np.arctan2(diffy, diffx)\n",
    "wp_yaw[0] = wp_yaw[1]\n",
    "wp_yaw[-1] = wp_yaw[-2]\n",
    "\n",
    "wp_x_f = savgol_filter(wp_x, num_f, 3)\n",
    "wp_y_f = savgol_filter(wp_y, num_f, 3)\n",
    "wp_yaw_f = savgol_filter(np.unwrap(wp_yaw), num_f, 3)\n",
    "\n",
    "s = np.zeros(wp_x.shape[0])\n",
    "for i in range(1, s.shape[0]):\n",
    "    s[i] = s[i-1] + np.sqrt((wp_x[i] - wp_x[i-1])**2 + (wp_y[i] - wp_y[i-1])**2)\n",
    "\n",
    "curvature = np.gradient(np.unwrap(wp_yaw_f), s)\n",
    "curvaturef = savgol_filter(curvature, num_f, 3)\n",
    "steer = np.arcsin(1.7 * curvaturef)*180/np.pi\n",
    "\n",
    "# Limiting the steering angle\n",
    "steer[steer > 35.] = 35\n",
    "steer[steer < -28.] = -28.\n",
    "\n",
    "wp_yaw = np.copy(temp)\n",
    "wp_yaw_f = wrap_angle(savgol_filter(np.unwrap(wp_yaw), num_f, 3))\n",
    "\n",
    "width = 15\n",
    "height = 15\n",
    "plt.figure(figsize=(width, height))\n",
    "\n",
    "plt.subplot(2,2,1)\n",
    "plt.plot(wp_x, wp_y, label='Processed')\n",
    "plt.scatter(x, y, color='red',s=2., label='RAW')\n",
    "plt.xlabel(\"X (m)\")\n",
    "plt.ylabel(\"Y (m)\")\n",
    "plt.legend()\n",
    "plt.title(\"PATH\")\n",
    "\n",
    "plt.subplot(2,2,2)\n",
    "plt.plot(s, wp_yaw)\n",
    "plt.plot(s, wp_yaw_f, label='post filtered')\n",
    "plt.title(\"YAW\")\n",
    "plt.xlabel('s (m)')\n",
    "plt.ylabel('rad')\n",
    "plt.legend()\n",
    "\n",
    "plt.subplot(2,2,3)\n",
    "plt.plot(s, curvature)\n",
    "plt.plot(s, curvaturef, label='post filtered')\n",
    "plt.legend()\n",
    "plt.title(\"CURVATURE\")\n",
    "plt.xlabel('s (m)')\n",
    "plt.ylabel(r'$\\kappa\\;(1/m)$')\n",
    "\n",
    "plt.subplot(2,2,4)\n",
    "plt.plot(s, steer)\n",
    "plt.title(\"FEED FORWARD STEERING ANGLE\")\n",
    "plt.xlabel('s (m)')\n",
    "plt.ylabel(r'$(\\degree)$')\n",
    "\n",
    "#plt.savefig('waypoints.png', dpi=600, transparent=True)\n",
    "plt.show()"
   ]
  },
  {
   "cell_type": "markdown",
   "metadata": {},
   "source": [
    "## INTERPOLATING THE WAYPOINTS"
   ]
  },
  {
   "cell_type": "code",
   "execution_count": 7,
   "metadata": {},
   "outputs": [],
   "source": [
    "# # # THROTTLEEEEE\n",
    "\n",
    "# # # Generate the velocity\n",
    "# v0 = 0.085 #m/s ~ 1.8 km/jam\n",
    "# vstop = 0.085\n",
    "# vmax = 0.25 #m/s ~ 5.4 km/jam\n",
    "# accel = 0.005 #m/s2\n",
    "# num = wp_x_f.shape[0]\n",
    "# vel = [v0]\n",
    "# const = 20.\n",
    "# for i in range(1, num):\n",
    "#     vel.append(min(np.sqrt(vel[-1]**2 + 2*accel*dst), vmax / (1 + const*curvaturef[i]**2)))\n",
    "# vel = np.array(vel)\n",
    "\n",
    "# for i in range(num):\n",
    "#     if s[i] >= 28:\n",
    "#         vel[i] = 0.0\n",
    "#     elif s[i] >= 19:\n",
    "#         vel[i] = max(np.sqrt(max(vel[i-1]**2 - 2*accel*dst, 0.0)), vstop)\n",
    "\n",
    "# plt.plot(s, vel)"
   ]
  },
  {
   "cell_type": "code",
   "execution_count": 8,
   "metadata": {},
   "outputs": [
    {
     "data": {
      "text/plain": [
       "[<matplotlib.lines.Line2D at 0x7f11be6a7f50>]"
      ]
     },
     "execution_count": 8,
     "metadata": {},
     "output_type": "execute_result"
    },
    {
     "data": {
      "image/png": "[encoded data removed]",
      "text/plain": [
       "<Figure size 432x288 with 1 Axes>"
      ]
     },
     "metadata": {
      "needs_background": "light"
     },
     "output_type": "display_data"
    }
   ],
   "source": [
    "# VELOCITY\n",
    "\n",
    "# Generate the velocity\n",
    "v0 = 0.5 #m/s ~ 1.8 km/jam\n",
    "vstop = 0.5\n",
    "vmax = 1.5 #m/s ~ 5.4 km/jam\n",
    "accel = 0.15 #m/s2\n",
    "num = wp_x_f.shape[0]\n",
    "vel = [v0]\n",
    "const = 20.\n",
    "for i in range(1, num):\n",
    "    vel.append(min(np.sqrt(vel[-1]**2 + 2*accel*dst), vmax / (1 + const*curvaturef[i]**2)))\n",
    "vel = np.array(vel)\n",
    "\n",
    "for i in range(num):\n",
    "    if s[i] >= 28:\n",
    "        vel[i] = 0.0\n",
    "    elif s[i] >= 19:\n",
    "        vel[i] = max(np.sqrt(max(vel[i-1]**2 - 2*accel*dst, 0.0)), vstop)\n",
    "\n",
    "plt.plot(s, vel)"
   ]
  },
  {
   "cell_type": "code",
   "execution_count": 9,
   "metadata": {},
   "outputs": [],
   "source": [
    "waypoints_np = np.empty((wp_x_f.shape[0], 5))\n",
    "waypoints_np[:,0] = wp_x_f\n",
    "waypoints_np[:,1] = wp_y_f\n",
    "waypoints_np[:,2] = wp_yaw_f\n",
    "waypoints_np[:,3] = vel\n",
    "waypoints_np[:,4] = curvaturef"
   ]
  },
  {
   "cell_type": "code",
   "execution_count": 10,
   "metadata": {},
   "outputs": [],
   "source": [
    "INTERP_DISTANCE_RES = 0.01 # distance between interpolated points\n",
    "\n",
    "# Linear interpolation computations\n",
    "# Compute a list of distances between waypoints\n",
    "wp_distance = []   # distance array\n",
    "for i in range(1, waypoints_np.shape[0]):\n",
    "    wp_distance.append(\n",
    "            np.sqrt((waypoints_np[i, 0] - waypoints_np[i-1, 0])**2 +\n",
    "                    (waypoints_np[i, 1] - waypoints_np[i-1, 1])**2))\n",
    "wp_distance.append(0)  # last distance is 0 because it is the distance\n",
    "                       # from the last waypoint to the last waypoint\n",
    "\n",
    "# Linearly interpolate between waypoints and store in a list\n",
    "wp_interp      = []    # interpolated values \n",
    "                       # (rows = waypoints, columns = [x, y, v])\n",
    "wp_interp_hash = []    # hash table which indexes waypoints_np\n",
    "                       # to the index of the waypoint in wp_interp\n",
    "interp_counter = 0     # counter for current interpolated point index\n",
    "for i in range(waypoints_np.shape[0] - 1):\n",
    "    # Add original waypoint to interpolated waypoints list (and append\n",
    "    # it to the hash table)\n",
    "    wp_interp.append(list(waypoints_np[i]))\n",
    "    wp_interp_hash.append(interp_counter)   \n",
    "    interp_counter+=1\n",
    "\n",
    "    # Interpolate to the next waypoint. First compute the number of\n",
    "    # points to interpolate based on the desired resolution and\n",
    "    # incrementally add interpolated points until the next waypoint\n",
    "    # is about to be reached.\n",
    "    num_pts_to_interp = int(np.floor(wp_distance[i] /\\\n",
    "                                 float(INTERP_DISTANCE_RES)) - 1)\n",
    "    wp_vector = waypoints_np[i+1] - waypoints_np[i]\n",
    "    wp_uvector = wp_vector / np.linalg.norm(wp_vector)\n",
    "    for j in range(num_pts_to_interp):\n",
    "        next_wp_vector = INTERP_DISTANCE_RES * float(j+1) * wp_uvector\n",
    "        wp_interp.append(list(waypoints_np[i] + next_wp_vector))\n",
    "        interp_counter+=1\n",
    "# add last waypoint at the end\n",
    "wp_interp.append(list(waypoints_np[-1]))\n",
    "wp_interp_hash.append(interp_counter)   \n",
    "wp_interp = np.array(wp_interp)\n",
    "wp_interp_hash = np.array(wp_interp_hash)\n",
    "interp_counter+=1"
   ]
  },
  {
   "cell_type": "code",
   "execution_count": 11,
   "metadata": {},
   "outputs": [],
   "source": [
    "# np.save('waypoints/31_agus_wp_belok', wp_interp)\n",
    "# wp_interp.shape"
   ]
  },
  {
   "cell_type": "code",
   "execution_count": 12,
   "metadata": {},
   "outputs": [
    {
     "data": {
      "image/png": "[encoded data removed]",
      "text/plain": [
       "<Figure size 432x288 with 1 Axes>"
      ]
     },
     "metadata": {
      "needs_background": "light"
     },
     "output_type": "display_data"
    }
   ],
   "source": [
    "plt.scatter(X, Y, s=0.5, color='red')\n",
    "plt.axis('square')\n",
    "plt.xlabel('X (m)')\n",
    "plt.ylabel('Y (m)')\n",
    "plt.title('Data GNSS')\n",
    "plt.savefig('img/x_y_gnss.png', transparent=True, dpi=600)\n",
    "plt.show()"
   ]
  },
  {
   "cell_type": "code",
   "execution_count": 13,
   "metadata": {},
   "outputs": [
    {
     "data": {
      "image/png": "[encoded data removed]",
      "text/plain": [
       "<Figure size 432x288 with 1 Axes>"
      ]
     },
     "metadata": {
      "needs_background": "light"
     },
     "output_type": "display_data"
    }
   ],
   "source": [
    "plt.scatter(wp_x, wp_y, color='red', s=0.5)\n",
    "plt.axis('square')\n",
    "plt.xlabel('X (m)')\n",
    "plt.ylabel('Y (m)')\n",
    "plt.savefig('img/x_y_eq_spaced.png', transparent=True, dpi=600)\n",
    "plt.show()"
   ]
  },
  {
   "cell_type": "code",
   "execution_count": 14,
   "metadata": {},
   "outputs": [
    {
     "data": {
      "image/png": "[encoded data removed]",
      "text/plain": [
       "<Figure size 432x288 with 1 Axes>"
      ]
     },
     "metadata": {
      "needs_background": "light"
     },
     "output_type": "display_data"
    }
   ],
   "source": [
    "plt.plot(wp_interp[:,0], wp_interp[:,1])\n",
    "plt.axis('square')\n",
    "plt.xlabel('X (m)')\n",
    "plt.ylabel('Y (m)')\n",
    "plt.title('Referensi Jalur')\n",
    "plt.savefig('img/x_y_interp.png', transparent=True, dpi=600)\n",
    "plt.show()"
   ]
  },
  {
   "cell_type": "code",
   "execution_count": 15,
   "metadata": {},
   "outputs": [
    {
     "data": {
      "image/png": "[encoded data removed]",
      "text/plain": [
       "<Figure size 432x288 with 1 Axes>"
      ]
     },
     "metadata": {
      "needs_background": "light"
     },
     "output_type": "display_data"
    }
   ],
   "source": [
    "plt.plot(s, waypoints_np[:,2]*180/np.pi)\n",
    "plt.xlabel('Panjang lintasan (m)')\n",
    "plt.ylabel(r'yaw $(\\degree)$')\n",
    "plt.title('Referensi Yaw')\n",
    "plt.savefig('img/yaw_ref.png', transparent=True, dpi=600)\n",
    "plt.show()"
   ]
  },
  {
   "cell_type": "code",
   "execution_count": 16,
   "metadata": {},
   "outputs": [
    {
     "data": {
      "image/png": "[encoded data removed]",
      "text/plain": [
       "<Figure size 432x288 with 1 Axes>"
      ]
     },
     "metadata": {
      "needs_background": "light"
     },
     "output_type": "display_data"
    }
   ],
   "source": [
    "plt.plot(s, waypoints_np[:, 3])\n",
    "plt.xlabel('Panjang lintasan (m)')\n",
    "plt.ylabel(r'Kelajuan $(m/s)$')\n",
    "plt.title('Referensi Kelajuan')\n",
    "plt.savefig('img/kelajuan_ref.png', transparent=True, dpi=600)\n",
    "plt.show()"
   ]
  },
  {
   "cell_type": "code",
   "execution_count": 17,
   "metadata": {},
   "outputs": [
    {
     "data": {
      "image/png": "[encoded data removed]",
      "text/plain": [
       "<Figure size 432x288 with 1 Axes>"
      ]
     },
     "metadata": {
      "needs_background": "light"
     },
     "output_type": "display_data"
    }
   ],
   "source": [
    "plt.plot(s, waypoints_np[:, 4])\n",
    "plt.xlabel('Panjang lintasan (m)')\n",
    "plt.ylabel(r'Kurvatur $(1/m)$')\n",
    "plt.title('Referensi Kurvatur')\n",
    "plt.savefig('img/kurvatur_ref.png', transparent=True, dpi=600)\n",
    "plt.show()"
   ]
  },
  {
   "cell_type": "markdown",
   "metadata": {},
   "source": [
    "# BELOK BESAR"
   ]
  },
  {
   "cell_type": "code",
   "execution_count": null,
   "metadata": {},
   "outputs": [],
   "source": [
    "bag = rosbag.Bag('bag/get_31_BELOK_BESAR.bag')\n",
    "# print(bag)"
   ]
  },
  {
   "cell_type": "markdown",
   "metadata": {},
   "source": [
    "## CHECK "
   ]
  },
  {
   "cell_type": "code",
   "execution_count": null,
   "metadata": {},
   "outputs": [],
   "source": [
    "lat0, lon0, h0 = -6.8712, 107.5738, 768\n",
    "gps_t = []\n",
    "gps_pos = []\n",
    "gps_cov = []\n",
    "for topic, msg, _ in bag.read_messages(topics=['/fix']):\n",
    "    gps_t.append(msg.header.stamp.to_sec())\n",
    "    gps_pos.append(pm.geodetic2enu(msg.latitude, msg.longitude, msg.altitude, lat0, lon0, h0))\n",
    "    gps_cov.append(msg.position_covariance)\n",
    "gps_t = np.array(gps_t)\n",
    "gps_pos = np.array(gps_pos)\n",
    "gps_cov = np.array(gps_cov).reshape(-1,3,3)\n",
    "\n",
    "# Ambil sb. x & sb. y saja sampai limm\n",
    "limm = -1\n",
    "#X_fm = (-1) * np.copy(gps_pos[:limm,:2])\n",
    "X_fm = np.copy(gps_pos[:limm,:2])\n",
    "ttime = np.copy(gps_t[:limm])\n",
    "\n",
    "x = []\n",
    "y = []\n",
    "yaw = []\n",
    "t = []\n",
    "for topic, msg, _ in bag.read_messages(topics=['/get_waypoints']):\n",
    "    x.append(msg.x)\n",
    "    y.append(msg.y)\n",
    "    yaw.append(msg.yaw)\n",
    "    t.append(msg.header.stamp.to_sec())\n",
    "x = np.array(x)\n",
    "y = np.array(y)\n",
    "yaw = wrap_angle(np.array(yaw) * (-1) - np.pi*3/2)\n",
    "t = np.array(t)\n",
    "\n",
    "lim = [0, -1]\n",
    "plt.scatter(X_fm[lim[0]:lim[1],0], X_fm[lim[0]:lim[1],1], s=3., label='gps')\n",
    "plt.scatter(x,y,s=2., label='get_wp_gps_imu')\n",
    "plt.legend()\n",
    "plt.show()"
   ]
  },
  {
   "cell_type": "code",
   "execution_count": null,
   "metadata": {},
   "outputs": [],
   "source": [
    "# Filter the waypoints and remove the outlier !\n",
    "X = np.copy(x)\n",
    "Y = np.copy(y)\n",
    "T = np.copy(t)\n",
    "YAW = np.copy(yaw)\n",
    "\n",
    "for m in range(6):\n",
    "    X_filtered = savgol_filter(X, 51, 3)\n",
    "    Y_filtered = savgol_filter(Y, 51, 3)\n",
    "    dist = np.sqrt((X_filtered - X)**2 + (Y_filtered - Y)**2)\n",
    "    X = X[dist <= 0.5]\n",
    "    Y = Y[dist <= 0.5]\n",
    "    T = T[dist <= 0.5]\n",
    "    YAW = YAW[dist <= 0.5]\n",
    "    if m % 1 == 0:\n",
    "        None\n",
    "#         plt.scatter(x, y, label='Raw Data', s=0.5,color='red')\n",
    "#         plt.plot(X, Y, label='Outlier Rejection')\n",
    "#         plt.legend()\n",
    "#         plt.title('Iterasi ke-{}'.format(m))\n",
    "#         plt.show()\n",
    "plt.scatter(x, y, label='Raw Data', s=0.5,color='red')\n",
    "plt.plot(X, Y, label='Outlier Rejection')\n",
    "plt.legend()\n",
    "plt.title('Iterasi ke-{}'.format(m))\n",
    "plt.show()"
   ]
  },
  {
   "cell_type": "code",
   "execution_count": null,
   "metadata": {},
   "outputs": [],
   "source": [
    "wp_x.shape"
   ]
  },
  {
   "cell_type": "code",
   "execution_count": null,
   "metadata": {},
   "outputs": [],
   "source": [
    "num_f = 121\n",
    "\n",
    "dst = 0.2\n",
    "\n",
    "wp_x = [X[0]]\n",
    "wp_y = [Y[0]]\n",
    "wp_yaw = [YAW[0]]\n",
    "for i in range(1, X.shape[0]):\n",
    "    dist = np.sqrt((X[i] - wp_x[-1])**2 + (Y[i] - wp_y[-1])**2)\n",
    "    while dist >= dst:\n",
    "    #if dist >= dst:\n",
    "        wp_x.append(wp_x[-1] + dst*(X[i] - wp_x[-1])/dist)\n",
    "        wp_y.append(wp_y[-1] + dst*(Y[i] - wp_y[-1])/dist)\n",
    "        wp_yaw.append(wp_yaw[-1] + dst*(YAW[i] - wp_yaw[-1])/dist)\n",
    "        dist = np.sqrt((X[i] - wp_x[-1])**2 + (Y[i] - wp_y[-1])**2)\n",
    "wp_x = np.array(wp_x)\n",
    "wp_y = np.array(wp_y)\n",
    "wp_yaw = np.array(wp_yaw)\n",
    "temp = np.copy(wp_yaw)\n",
    "wp_yaw = np.zeros_like(wp_x)\n",
    "diffx = wp_x[2:] - wp_x[:-2]\n",
    "diffy = wp_y[2:] - wp_y[:-2]\n",
    "wp_yaw[1:-1] = np.arctan2(diffy, diffx)\n",
    "wp_yaw[0] = wp_yaw[1]\n",
    "wp_yaw[-1] = wp_yaw[-2]\n",
    "\n",
    "wp_x_f = savgol_filter(wp_x, num_f, 3)\n",
    "wp_y_f = savgol_filter(wp_y, num_f, 3)\n",
    "wp_yaw_f = savgol_filter(np.unwrap(wp_yaw), num_f, 3)\n",
    "\n",
    "s = np.zeros(wp_x.shape[0])\n",
    "for i in range(1, s.shape[0]):\n",
    "    s[i] = s[i-1] + np.sqrt((wp_x[i] - wp_x[i-1])**2 + (wp_y[i] - wp_y[i-1])**2)\n",
    "\n",
    "curvature = np.gradient(np.unwrap(wp_yaw_f), s)\n",
    "curvaturef = savgol_filter(curvature, num_f, 3)\n",
    "steer = np.arcsin(1.7 * curvaturef)*180/np.pi\n",
    "\n",
    "# Limiting the steering angle\n",
    "steer[steer > 35.] = 35\n",
    "steer[steer < -28.] = -28.\n",
    "\n",
    "wp_yaw = np.copy(temp)\n",
    "wp_yaw_f = wrap_angle(savgol_filter(np.unwrap(wp_yaw), num_f, 3))\n",
    "\n",
    "width = 15\n",
    "height = 15\n",
    "plt.figure(figsize=(width, height))\n",
    "\n",
    "plt.subplot(2,2,1)\n",
    "plt.plot(wp_x, wp_y, label='Processed')\n",
    "plt.scatter(x, y, color='red',s=2., label='RAW')\n",
    "plt.xlabel(\"X (m)\")\n",
    "plt.ylabel(\"Y (m)\")\n",
    "plt.legend()\n",
    "plt.title(\"PATH\")\n",
    "\n",
    "plt.subplot(2,2,2)\n",
    "plt.plot(s, wp_yaw)\n",
    "plt.plot(s, wp_yaw_f, label='post filtered')\n",
    "plt.title(\"YAW\")\n",
    "plt.xlabel('s (m)')\n",
    "plt.ylabel('rad')\n",
    "plt.legend()\n",
    "\n",
    "plt.subplot(2,2,3)\n",
    "plt.plot(s, curvature)\n",
    "plt.plot(s, curvaturef, label='post filtered')\n",
    "plt.legend()\n",
    "plt.title(\"CURVATURE\")\n",
    "plt.xlabel('s (m)')\n",
    "plt.ylabel(r'$\\kappa\\;(1/m)$')\n",
    "\n",
    "plt.subplot(2,2,4)\n",
    "plt.plot(s, steer)\n",
    "plt.title(\"FEED FORWARD STEERING ANGLE\")\n",
    "plt.xlabel('s (m)')\n",
    "plt.ylabel(r'$(\\degree)$')\n",
    "\n",
    "#plt.savefig('waypoints.png', dpi=600, transparent=True)\n",
    "plt.show()"
   ]
  },
  {
   "cell_type": "markdown",
   "metadata": {},
   "source": [
    "## INTERPOLATING THE WAYPOINTS"
   ]
  },
  {
   "cell_type": "code",
   "execution_count": null,
   "metadata": {},
   "outputs": [],
   "source": [
    "# # THROTTLEEEEE\n",
    "\n",
    "# # Generate the velocity\n",
    "v0 = 0.085 #m/s ~ 1.8 km/jam\n",
    "vstop = 0.085\n",
    "vmax = 0.25 #m/s ~ 5.4 km/jam\n",
    "accel = 0.005 #m/s2\n",
    "num = wp_x_f.shape[0]\n",
    "vel = [v0]\n",
    "cost = 20.\n",
    "for i in range(1, num):\n",
    "    vel.append(min(np.sqrt(vel[-1]**2 + 2*accel*dst), vmax / (1 + const*curvaturef[i]**2)))\n",
    "vel = np.array(vel)\n",
    "\n",
    "for i in range(num):\n",
    "    if s[i] >= 50:\n",
    "        vel[i] = 0.0\n",
    "    elif s[i] >= 41:\n",
    "        vel[i] = max(np.sqrt(max(vel[i-1]**2 - 2*accel*dst, 0.0)), vstop)\n",
    "\n",
    "plt.plot(s, vel)"
   ]
  },
  {
   "cell_type": "code",
   "execution_count": null,
   "metadata": {},
   "outputs": [],
   "source": [
    "# # VELOCITY\n",
    "\n",
    "# # Generate the velocity\n",
    "# v0 = 0.5 #m/s ~ 1.8 km/jam\n",
    "# vstop = 0.5\n",
    "# vmax = 1.5 #m/s ~ 5.4 km/jam\n",
    "# accel = 0.15 #m/s2\n",
    "# num = wp_x_f.shape[0]\n",
    "# vel = [v0]\n",
    "# const = 20.\n",
    "# for i in range(1, num):\n",
    "#     vel.append(min(np.sqrt(vel[-1]**2 + 2*accel*dst), vmax / (1 + const*curvaturef[i]**2)))\n",
    "# vel = np.array(vel)\n",
    "\n",
    "# for i in range(num):\n",
    "#     if s[i] >= 50:\n",
    "#         vel[i] = 0.0\n",
    "#     elif s[i] >= 41:\n",
    "#         vel[i] = max(np.sqrt(max(vel[i-1]**2 - 2*accel*dst, 0.0)), vstop)\n",
    "\n",
    "# plt.plot(s, vel)"
   ]
  },
  {
   "cell_type": "code",
   "execution_count": null,
   "metadata": {},
   "outputs": [],
   "source": [
    "waypoints_np = np.empty((wp_x_f.shape[0], 5))\n",
    "waypoints_np[:,0] = wp_x_f\n",
    "waypoints_np[:,1] = wp_y_f\n",
    "waypoints_np[:,2] = wp_yaw_f\n",
    "waypoints_np[:,3] = vel\n",
    "waypoints_np[:,4] = curvaturef"
   ]
  },
  {
   "cell_type": "code",
   "execution_count": null,
   "metadata": {},
   "outputs": [],
   "source": [
    "INTERP_DISTANCE_RES = 0.01 # distance between interpolated points\n",
    "\n",
    "# Linear interpolation computations\n",
    "# Compute a list of distances between waypoints\n",
    "wp_distance = []   # distance array\n",
    "for i in range(1, waypoints_np.shape[0]):\n",
    "    wp_distance.append(\n",
    "            np.sqrt((waypoints_np[i, 0] - waypoints_np[i-1, 0])**2 +\n",
    "                    (waypoints_np[i, 1] - waypoints_np[i-1, 1])**2))\n",
    "wp_distance.append(0)  # last distance is 0 because it is the distance\n",
    "                       # from the last waypoint to the last waypoint\n",
    "\n",
    "# Linearly interpolate between waypoints and store in a list\n",
    "wp_interp      = []    # interpolated values \n",
    "                       # (rows = waypoints, columns = [x, y, v])\n",
    "wp_interp_hash = []    # hash table which indexes waypoints_np\n",
    "                       # to the index of the waypoint in wp_interp\n",
    "interp_counter = 0     # counter for current interpolated point index\n",
    "for i in range(waypoints_np.shape[0] - 1):\n",
    "    # Add original waypoint to interpolated waypoints list (and append\n",
    "    # it to the hash table)\n",
    "    wp_interp.append(list(waypoints_np[i]))\n",
    "    wp_interp_hash.append(interp_counter)   \n",
    "    interp_counter+=1\n",
    "\n",
    "    # Interpolate to the next waypoint. First compute the number of\n",
    "    # points to interpolate based on the desired resolution and\n",
    "    # incrementally add interpolated points until the next waypoint\n",
    "    # is about to be reached.\n",
    "    num_pts_to_interp = int(np.floor(wp_distance[i] /\\\n",
    "                                 float(INTERP_DISTANCE_RES)) - 1)\n",
    "    wp_vector = waypoints_np[i+1] - waypoints_np[i]\n",
    "    wp_uvector = wp_vector / np.linalg.norm(wp_vector)\n",
    "    for j in range(num_pts_to_interp):\n",
    "        next_wp_vector = INTERP_DISTANCE_RES * float(j+1) * wp_uvector\n",
    "        wp_interp.append(list(waypoints_np[i] + next_wp_vector))\n",
    "        interp_counter+=1\n",
    "# add last waypoint at the end\n",
    "wp_interp.append(list(waypoints_np[-1]))\n",
    "wp_interp_hash.append(interp_counter)   \n",
    "wp_interp = np.array(wp_interp)\n",
    "wp_interp_hash = np.array(wp_interp_hash)\n",
    "interp_counter+=1"
   ]
  },
  {
   "cell_type": "code",
   "execution_count": null,
   "metadata": {},
   "outputs": [],
   "source": [
    "np.save('waypoints/31_agus_wp_belok_besar', wp_interp)\n",
    "wp_interp.shape"
   ]
  },
  {
   "cell_type": "code",
   "execution_count": null,
   "metadata": {},
   "outputs": [],
   "source": []
  }
 ],
 "metadata": {
  "kernelspec": {
   "display_name": "Python 3",
   "language": "python",
   "name": "python3"
  },
  "language_info": {
   "codemirror_mode": {
    "name": "ipython",
    "version": 3
   },
   "file_extension": ".py",
   "mimetype": "text/x-python",
   "name": "python",
   "nbconvert_exporter": "python",
   "pygments_lexer": "ipython3",
   "version": "3.7.7"
  },
  "toc-autonumbering": true
 },
 "nbformat": 4,
 "nbformat_minor": 4
}

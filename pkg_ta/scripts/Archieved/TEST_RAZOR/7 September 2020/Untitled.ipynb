{
 "cells": [
  {
   "cell_type": "code",
   "execution_count": 7,
   "metadata": {},
   "outputs": [],
   "source": [
    "import numpy as np\n",
    "import matplotlib.pyplot as plt\n",
    "import numba as nb\n",
    "import rosbag\n",
    "import pymap3d as pm"
   ]
  },
  {
   "cell_type": "code",
   "execution_count": 16,
   "metadata": {},
   "outputs": [],
   "source": [
    "def wrap_angle(angle):\n",
    "    return (angle + np.pi) % (2 * np.pi) - np.pi\n",
    "\n",
    "@nb.njit()\n",
    "def to_euler(x, y, z, w):\n",
    "    \"\"\"Dari Coursera: Return as xyz (roll pitch yaw) Euler angles.\"\"\"\n",
    "    roll = np.arctan2(2 * (w * x + y * z), 1 - 2 * (x**2 + y**2))\n",
    "    pitch = np.arcsin(2 * (w * y - z * x))\n",
    "    yaw = np.arctan2(2 * (w * z + x * y), 1 - 2 * (y**2 + z**2))\n",
    "    return np.array([roll, pitch, yaw])\n",
    "# Compile the to_euler\n",
    "_ = to_euler(1.5352300785980803e-15, -1.3393747145983517e-15, -0.7692164172827881, 0.638988343698562)\n",
    "\n",
    "def calculate_s(wp_x, wp_y):\n",
    "    s = np.zeros(wp_x.shape[0])\n",
    "    for i in range(1, s.shape[0]):\n",
    "        s[i] = s[i-1] + np.sqrt((wp_x[i] - wp_x[i-1])**2 + (wp_y[i] - wp_y[i-1])**2)\n",
    "    return s"
   ]
  },
  {
   "cell_type": "code",
   "execution_count": 17,
   "metadata": {},
   "outputs": [
    {
     "name": "stdout",
     "output_type": "stream",
     "text": [
      "TEST_RAZOR_2.bag  TEST_RAZOR_4.bag  Untitled.ipynb\n",
      "TEST_RAZOR_3.bag  TEST_RAZOR.bag\n"
     ]
    }
   ],
   "source": [
    "ls"
   ]
  },
  {
   "cell_type": "code",
   "execution_count": 20,
   "metadata": {},
   "outputs": [],
   "source": [
    "bag = rosbag.Bag('TEST_RAZOR_4.bag')"
   ]
  },
  {
   "cell_type": "code",
   "execution_count": 21,
   "metadata": {},
   "outputs": [],
   "source": [
    "imu_t = []\n",
    "imu_a = []\n",
    "imu_w = []\n",
    "imu_q = []\n",
    "imu_rpy = []\n",
    "for topic, msg, _ in bag.read_messages(topics=['/imu']):\n",
    "    imu_t.append(msg.header.stamp.to_sec())\n",
    "    acc = msg.linear_acceleration\n",
    "    imu_a.append([acc.x, acc.y, acc.z])\n",
    "    acc = msg.angular_velocity\n",
    "    imu_w.append([acc.x, acc.y, acc.z])\n",
    "    q = msg.orientation\n",
    "    imu_q.append([q.x, q.y, q.z, q.w])\n",
    "    imu_rpy.append(to_euler(q.x, q.y, q.z, q.w))\n",
    "imu_t = np.array(imu_t)\n",
    "imu_a = np.array(imu_a)\n",
    "imu_w = np.array(imu_w)\n",
    "imu_q = np.array(imu_q)\n",
    "imu_rpy = np.array(imu_rpy)"
   ]
  },
  {
   "cell_type": "code",
   "execution_count": 22,
   "metadata": {},
   "outputs": [
    {
     "data": {
      "text/plain": [
       "[<matplotlib.lines.Line2D at 0x7fb8d85af290>]"
      ]
     },
     "execution_count": 22,
     "metadata": {},
     "output_type": "execute_result"
    },
    {
     "data": {
      "image/png": "[encoded data removed]",
      "text/plain": [
       "<Figure size 432x288 with 1 Axes>"
      ]
     },
     "metadata": {
      "needs_background": "light"
     },
     "output_type": "display_data"
    }
   ],
   "source": [
    "plt.plot(imu_rpy[:,-1])"
   ]
  },
  {
   "cell_type": "code",
   "execution_count": null,
   "metadata": {},
   "outputs": [],
   "source": []
  }
 ],
 "metadata": {
  "kernelspec": {
   "display_name": "Python 3",
   "language": "python",
   "name": "python3"
  },
  "language_info": {
   "codemirror_mode": {
    "name": "ipython",
    "version": 3
   },
   "file_extension": ".py",
   "mimetype": "text/x-python",
   "name": "python",
   "nbconvert_exporter": "python",
   "pygments_lexer": "ipython3",
   "version": "3.7.7"
  }
 },
 "nbformat": 4,
 "nbformat_minor": 4
}

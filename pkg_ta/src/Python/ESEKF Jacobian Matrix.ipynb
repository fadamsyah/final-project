{
 "cells": [
  {
   "cell_type": "code",
   "execution_count": 1,
   "metadata": {},
   "outputs": [],
   "source": [
    "import sympy as sy"
   ]
  },
  {
   "cell_type": "code",
   "execution_count": 2,
   "metadata": {},
   "outputs": [],
   "source": [
    "w, x, y, z = sy.symbols('w x y z')"
   ]
  },
  {
   "cell_type": "code",
   "execution_count": 3,
   "metadata": {},
   "outputs": [],
   "source": [
    "roll = sy.atan2(2*(w*x + y*z), w**2 - x**2 - y**2 + z**2)\n",
    "pitch = sy.asin(2*(-w*y - x*z))\n",
    "yaw = sy.atan2(2*(w*z + x*y), w**2 + x**2 - y**2 - z**2)"
   ]
  },
  {
   "cell_type": "code",
   "execution_count": 4,
   "metadata": {},
   "outputs": [
    {
     "data": {
      "text/latex": [
       "$\\displaystyle \\operatorname{atan_{2}}{\\left(2 w x + 2 y z,w^{2} - x^{2} - y^{2} + z^{2} \\right)}$"
      ],
      "text/plain": [
       "atan2(2*w*x + 2*y*z, w**2 - x**2 - y**2 + z**2)"
      ]
     },
     "execution_count": 4,
     "metadata": {},
     "output_type": "execute_result"
    }
   ],
   "source": [
    "roll"
   ]
  },
  {
   "cell_type": "code",
   "execution_count": 5,
   "metadata": {},
   "outputs": [
    {
     "data": {
      "text/latex": [
       "$\\displaystyle - \\operatorname{asin}{\\left(2 w y + 2 x z \\right)}$"
      ],
      "text/plain": [
       "-asin(2*w*y + 2*x*z)"
      ]
     },
     "execution_count": 5,
     "metadata": {},
     "output_type": "execute_result"
    }
   ],
   "source": [
    "pitch"
   ]
  },
  {
   "cell_type": "code",
   "execution_count": 6,
   "metadata": {},
   "outputs": [
    {
     "data": {
      "text/latex": [
       "$\\displaystyle \\operatorname{atan_{2}}{\\left(2 w z + 2 x y,w^{2} + x^{2} - y^{2} - z^{2} \\right)}$"
      ],
      "text/plain": [
       "atan2(2*w*z + 2*x*y, w**2 + x**2 - y**2 - z**2)"
      ]
     },
     "execution_count": 6,
     "metadata": {},
     "output_type": "execute_result"
    }
   ],
   "source": [
    "yaw"
   ]
  },
  {
   "cell_type": "code",
   "execution_count": 7,
   "metadata": {},
   "outputs": [
    {
     "name": "stdout",
     "output_type": "stream",
     "text": [
      "Matrix([[2*w*(-2*w*x - 2*y*z)/((2*w*x + 2*y*z)**2 + (w**2 - x**2 - y**2 + z**2)**2) + 2*x*(w**2 - x**2 - y**2 + z**2)/((2*w*x + 2*y*z)**2 + (w**2 - x**2 - y**2 + z**2)**2), 2*w*(w**2 - x**2 - y**2 + z**2)/((2*w*x + 2*y*z)**2 + (w**2 - x**2 - y**2 + z**2)**2) - 2*x*(-2*w*x - 2*y*z)/((2*w*x + 2*y*z)**2 + (w**2 - x**2 - y**2 + z**2)**2), -2*y*(-2*w*x - 2*y*z)/((2*w*x + 2*y*z)**2 + (w**2 - x**2 - y**2 + z**2)**2) + 2*z*(w**2 - x**2 - y**2 + z**2)/((2*w*x + 2*y*z)**2 + (w**2 - x**2 - y**2 + z**2)**2), 2*y*(w**2 - x**2 - y**2 + z**2)/((2*w*x + 2*y*z)**2 + (w**2 - x**2 - y**2 + z**2)**2) + 2*z*(-2*w*x - 2*y*z)/((2*w*x + 2*y*z)**2 + (w**2 - x**2 - y**2 + z**2)**2)]])\n"
     ]
    },
    {
     "data": {
      "text/latex": [
       "$\\displaystyle \\left[\\begin{matrix}\\frac{2 w \\left(- 2 w x - 2 y z\\right)}{\\left(2 w x + 2 y z\\right)^{2} + \\left(w^{2} - x^{2} - y^{2} + z^{2}\\right)^{2}} + \\frac{2 x \\left(w^{2} - x^{2} - y^{2} + z^{2}\\right)}{\\left(2 w x + 2 y z\\right)^{2} + \\left(w^{2} - x^{2} - y^{2} + z^{2}\\right)^{2}} & \\frac{2 w \\left(w^{2} - x^{2} - y^{2} + z^{2}\\right)}{\\left(2 w x + 2 y z\\right)^{2} + \\left(w^{2} - x^{2} - y^{2} + z^{2}\\right)^{2}} - \\frac{2 x \\left(- 2 w x - 2 y z\\right)}{\\left(2 w x + 2 y z\\right)^{2} + \\left(w^{2} - x^{2} - y^{2} + z^{2}\\right)^{2}} & - \\frac{2 y \\left(- 2 w x - 2 y z\\right)}{\\left(2 w x + 2 y z\\right)^{2} + \\left(w^{2} - x^{2} - y^{2} + z^{2}\\right)^{2}} + \\frac{2 z \\left(w^{2} - x^{2} - y^{2} + z^{2}\\right)}{\\left(2 w x + 2 y z\\right)^{2} + \\left(w^{2} - x^{2} - y^{2} + z^{2}\\right)^{2}} & \\frac{2 y \\left(w^{2} - x^{2} - y^{2} + z^{2}\\right)}{\\left(2 w x + 2 y z\\right)^{2} + \\left(w^{2} - x^{2} - y^{2} + z^{2}\\right)^{2}} + \\frac{2 z \\left(- 2 w x - 2 y z\\right)}{\\left(2 w x + 2 y z\\right)^{2} + \\left(w^{2} - x^{2} - y^{2} + z^{2}\\right)^{2}}\\end{matrix}\\right]$"
      ],
      "text/plain": [
       "Matrix([[2*w*(-2*w*x - 2*y*z)/((2*w*x + 2*y*z)**2 + (w**2 - x**2 - y**2 + z**2)**2) + 2*x*(w**2 - x**2 - y**2 + z**2)/((2*w*x + 2*y*z)**2 + (w**2 - x**2 - y**2 + z**2)**2), 2*w*(w**2 - x**2 - y**2 + z**2)/((2*w*x + 2*y*z)**2 + (w**2 - x**2 - y**2 + z**2)**2) - 2*x*(-2*w*x - 2*y*z)/((2*w*x + 2*y*z)**2 + (w**2 - x**2 - y**2 + z**2)**2), -2*y*(-2*w*x - 2*y*z)/((2*w*x + 2*y*z)**2 + (w**2 - x**2 - y**2 + z**2)**2) + 2*z*(w**2 - x**2 - y**2 + z**2)/((2*w*x + 2*y*z)**2 + (w**2 - x**2 - y**2 + z**2)**2), 2*y*(w**2 - x**2 - y**2 + z**2)/((2*w*x + 2*y*z)**2 + (w**2 - x**2 - y**2 + z**2)**2) + 2*z*(-2*w*x - 2*y*z)/((2*w*x + 2*y*z)**2 + (w**2 - x**2 - y**2 + z**2)**2)]])"
      ]
     },
     "execution_count": 7,
     "metadata": {},
     "output_type": "execute_result"
    }
   ],
   "source": [
    "print(sy.Matrix([roll]).jacobian([w,x,y,z]))\n",
    "sy.Matrix([roll]).jacobian([w,x,y,z])"
   ]
  },
  {
   "cell_type": "code",
   "execution_count": 8,
   "metadata": {},
   "outputs": [
    {
     "name": "stdout",
     "output_type": "stream",
     "text": [
      "Matrix([[-2*y/sqrt(1 - (2*w*y + 2*x*z)**2), -2*z/sqrt(1 - (2*w*y + 2*x*z)**2), -2*w/sqrt(1 - (2*w*y + 2*x*z)**2), -2*x/sqrt(1 - (2*w*y + 2*x*z)**2)]])\n"
     ]
    },
    {
     "data": {
      "text/latex": [
       "$\\displaystyle \\left[\\begin{matrix}- \\frac{2 y}{\\sqrt{1 - \\left(2 w y + 2 x z\\right)^{2}}} & - \\frac{2 z}{\\sqrt{1 - \\left(2 w y + 2 x z\\right)^{2}}} & - \\frac{2 w}{\\sqrt{1 - \\left(2 w y + 2 x z\\right)^{2}}} & - \\frac{2 x}{\\sqrt{1 - \\left(2 w y + 2 x z\\right)^{2}}}\\end{matrix}\\right]$"
      ],
      "text/plain": [
       "Matrix([[-2*y/sqrt(1 - (2*w*y + 2*x*z)**2), -2*z/sqrt(1 - (2*w*y + 2*x*z)**2), -2*w/sqrt(1 - (2*w*y + 2*x*z)**2), -2*x/sqrt(1 - (2*w*y + 2*x*z)**2)]])"
      ]
     },
     "execution_count": 8,
     "metadata": {},
     "output_type": "execute_result"
    }
   ],
   "source": [
    "print(sy.Matrix([pitch]).jacobian([w,x,y,z]))\n",
    "sy.Matrix([pitch]).jacobian([w,x,y,z])"
   ]
  },
  {
   "cell_type": "code",
   "execution_count": 9,
   "metadata": {},
   "outputs": [
    {
     "name": "stdout",
     "output_type": "stream",
     "text": [
      "Matrix([[2*w*(-2*w*z - 2*x*y)/((2*w*z + 2*x*y)**2 + (w**2 + x**2 - y**2 - z**2)**2) + 2*z*(w**2 + x**2 - y**2 - z**2)/((2*w*z + 2*x*y)**2 + (w**2 + x**2 - y**2 - z**2)**2), 2*x*(-2*w*z - 2*x*y)/((2*w*z + 2*x*y)**2 + (w**2 + x**2 - y**2 - z**2)**2) + 2*y*(w**2 + x**2 - y**2 - z**2)/((2*w*z + 2*x*y)**2 + (w**2 + x**2 - y**2 - z**2)**2), 2*x*(w**2 + x**2 - y**2 - z**2)/((2*w*z + 2*x*y)**2 + (w**2 + x**2 - y**2 - z**2)**2) - 2*y*(-2*w*z - 2*x*y)/((2*w*z + 2*x*y)**2 + (w**2 + x**2 - y**2 - z**2)**2), 2*w*(w**2 + x**2 - y**2 - z**2)/((2*w*z + 2*x*y)**2 + (w**2 + x**2 - y**2 - z**2)**2) - 2*z*(-2*w*z - 2*x*y)/((2*w*z + 2*x*y)**2 + (w**2 + x**2 - y**2 - z**2)**2)]])\n"
     ]
    },
    {
     "data": {
      "text/latex": [
       "$\\displaystyle \\left[\\begin{matrix}\\frac{2 w \\left(- 2 w z - 2 x y\\right)}{\\left(2 w z + 2 x y\\right)^{2} + \\left(w^{2} + x^{2} - y^{2} - z^{2}\\right)^{2}} + \\frac{2 z \\left(w^{2} + x^{2} - y^{2} - z^{2}\\right)}{\\left(2 w z + 2 x y\\right)^{2} + \\left(w^{2} + x^{2} - y^{2} - z^{2}\\right)^{2}} & \\frac{2 x \\left(- 2 w z - 2 x y\\right)}{\\left(2 w z + 2 x y\\right)^{2} + \\left(w^{2} + x^{2} - y^{2} - z^{2}\\right)^{2}} + \\frac{2 y \\left(w^{2} + x^{2} - y^{2} - z^{2}\\right)}{\\left(2 w z + 2 x y\\right)^{2} + \\left(w^{2} + x^{2} - y^{2} - z^{2}\\right)^{2}} & \\frac{2 x \\left(w^{2} + x^{2} - y^{2} - z^{2}\\right)}{\\left(2 w z + 2 x y\\right)^{2} + \\left(w^{2} + x^{2} - y^{2} - z^{2}\\right)^{2}} - \\frac{2 y \\left(- 2 w z - 2 x y\\right)}{\\left(2 w z + 2 x y\\right)^{2} + \\left(w^{2} + x^{2} - y^{2} - z^{2}\\right)^{2}} & \\frac{2 w \\left(w^{2} + x^{2} - y^{2} - z^{2}\\right)}{\\left(2 w z + 2 x y\\right)^{2} + \\left(w^{2} + x^{2} - y^{2} - z^{2}\\right)^{2}} - \\frac{2 z \\left(- 2 w z - 2 x y\\right)}{\\left(2 w z + 2 x y\\right)^{2} + \\left(w^{2} + x^{2} - y^{2} - z^{2}\\right)^{2}}\\end{matrix}\\right]$"
      ],
      "text/plain": [
       "Matrix([[2*w*(-2*w*z - 2*x*y)/((2*w*z + 2*x*y)**2 + (w**2 + x**2 - y**2 - z**2)**2) + 2*z*(w**2 + x**2 - y**2 - z**2)/((2*w*z + 2*x*y)**2 + (w**2 + x**2 - y**2 - z**2)**2), 2*x*(-2*w*z - 2*x*y)/((2*w*z + 2*x*y)**2 + (w**2 + x**2 - y**2 - z**2)**2) + 2*y*(w**2 + x**2 - y**2 - z**2)/((2*w*z + 2*x*y)**2 + (w**2 + x**2 - y**2 - z**2)**2), 2*x*(w**2 + x**2 - y**2 - z**2)/((2*w*z + 2*x*y)**2 + (w**2 + x**2 - y**2 - z**2)**2) - 2*y*(-2*w*z - 2*x*y)/((2*w*z + 2*x*y)**2 + (w**2 + x**2 - y**2 - z**2)**2), 2*w*(w**2 + x**2 - y**2 - z**2)/((2*w*z + 2*x*y)**2 + (w**2 + x**2 - y**2 - z**2)**2) - 2*z*(-2*w*z - 2*x*y)/((2*w*z + 2*x*y)**2 + (w**2 + x**2 - y**2 - z**2)**2)]])"
      ]
     },
     "execution_count": 9,
     "metadata": {},
     "output_type": "execute_result"
    }
   ],
   "source": [
    "print(sy.Matrix([yaw]).jacobian([w,x,y,z]))\n",
    "sy.Matrix([yaw]).jacobian([w,x,y,z])"
   ]
  },
  {
   "cell_type": "code",
   "execution_count": null,
   "metadata": {},
   "outputs": [],
   "source": []
  }
 ],
 "metadata": {
  "kernelspec": {
   "display_name": "Python 3",
   "language": "python",
   "name": "python3"
  },
  "language_info": {
   "codemirror_mode": {
    "name": "ipython",
    "version": 3
   },
   "file_extension": ".py",
   "mimetype": "text/x-python",
   "name": "python",
   "nbconvert_exporter": "python",
   "pygments_lexer": "ipython3",
   "version": "3.7.9"
  }
 },
 "nbformat": 4,
 "nbformat_minor": 4
}

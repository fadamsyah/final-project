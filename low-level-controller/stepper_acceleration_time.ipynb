{
 "cells": [
  {
   "cell_type": "markdown",
   "metadata": {},
   "source": [
    "# Accelerating Stepper Motor"
   ]
  },
  {
   "cell_type": "markdown",
   "metadata": {},
   "source": [
    "Here, we try to estimate how long the Arduino Nano takes to accelerate the stepper motor from the idle state to the maximum speed."
   ]
  },
  {
   "cell_type": "code",
   "execution_count": 1,
   "metadata": {},
   "outputs": [],
   "source": [
    "import numpy as np"
   ]
  },
  {
   "cell_type": "code",
   "execution_count": 2,
   "metadata": {},
   "outputs": [
    {
     "name": "stdout",
     "output_type": "stream",
     "text": [
      "total: 1.062101 s\n"
     ]
    }
   ],
   "source": [
    "#limit = [450, 200, 150, 130]\n",
    "#increment = [-1., -2., -0.5, -0.1]\n",
    "limit = [450, 350, 250, 200, 150, 125]\n",
    "increment = [-1., -0.25, -0.05, -0.1, -0.2, -0.05]\n",
    "delay = 600\n",
    "\n",
    "total = 0\n",
    "\n",
    "while delay > limit[-1]:\n",
    "    total += int(delay)\n",
    "    for i in range(len(limit)):\n",
    "        if delay > limit[i]:\n",
    "            delay += increment[i]\n",
    "            break\n",
    "\n",
    "print(\"total: {} s\".format(total/1e6))"
   ]
  },
  {
   "cell_type": "code",
   "execution_count": null,
   "metadata": {},
   "outputs": [],
   "source": []
  }
 ],
 "metadata": {
  "kernelspec": {
   "display_name": "Python 3",
   "language": "python",
   "name": "python3"
  },
  "language_info": {
   "codemirror_mode": {
    "name": "ipython",
    "version": 3
   },
   "file_extension": ".py",
   "mimetype": "text/x-python",
   "name": "python",
   "nbconvert_exporter": "python",
   "pygments_lexer": "ipython3",
   "version": "3.7.7"
  }
 },
 "nbformat": 4,
 "nbformat_minor": 4
}

{
 "cells": [
  {
   "cell_type": "code",
   "execution_count": 1,
   "metadata": {},
   "outputs": [
    {
     "name": "stderr",
     "output_type": "stream",
     "text": [
      "Failed to load Python extension for LZ4 support. LZ4 compression will not be available.\n"
     ]
    }
   ],
   "source": [
    "import numpy as np\n",
    "import matplotlib.pyplot as plt\n",
    "import pandas as pd\n",
    "import rosbag\n",
    "import pymap3d as pm\n",
    "import numba as nb\n",
    "\n",
    "from scipy.signal import savgol_filter\n",
    "%matplotlib inline"
   ]
  },
  {
   "cell_type": "code",
   "execution_count": 2,
   "metadata": {},
   "outputs": [],
   "source": [
    "def wrap_angle(angle):\n",
    "    return (angle + np.pi) % (2 * np.pi) - np.pi\n",
    "\n",
    "@nb.njit()\n",
    "def to_euler(x, y, z, w):\n",
    "    \"\"\"Dari Coursera: Return as xyz (roll pitch yaw) Euler angles.\"\"\"\n",
    "    roll = np.arctan2(2 * (w * x + y * z), 1 - 2 * (x**2 + y**2))\n",
    "    pitch = np.arcsin(2 * (w * y - z * x))\n",
    "    yaw = np.arctan2(2 * (w * z + x * y), 1 - 2 * (y**2 + z**2))\n",
    "    return np.array([roll, pitch, yaw])\n",
    "# Compile the to_euler\n",
    "_ = to_euler(1.5352300785980803e-15, -1.3393747145983517e-15, -0.7692164172827881, 0.638988343698562)"
   ]
  },
  {
   "cell_type": "code",
   "execution_count": 3,
   "metadata": {},
   "outputs": [
    {
     "name": "stdout",
     "output_type": "stream",
     "text": [
      "analisis_data3.ipynb   \u001b[0m\u001b[01;34mBERHASIL_PARAMETER_2\u001b[0m/\n",
      "\u001b[01;34mBERHASIL_PARAMETER_1\u001b[0m/  \u001b[01;34mBERHASIL_PARAMETER_3\u001b[0m/\n"
     ]
    }
   ],
   "source": [
    "ls"
   ]
  },
  {
   "cell_type": "code",
   "execution_count": 4,
   "metadata": {},
   "outputs": [
    {
     "name": "stdout",
     "output_type": "stream",
     "text": [
      "path:        BERHASIL_PARAMETER_2/PERCOBAAN_3_LURUS_ERROR_GEDE_2020-08-26-13-10-35.bag\n",
      "version:     2.0\n",
      "duration:    49.3s\n",
      "start:       Aug 26 2020 13:10:35.69 (1598422235.69)\n",
      "end:         Aug 26 2020 13:11:24.98 (1598422284.98)\n",
      "size:        5.4 MB\n",
      "messages:    17002\n",
      "compression: none [7/7 chunks]\n",
      "types:       diagnostic_msgs/DiagnosticArray       [60810da900de1dd6ddd437c3503511da]\n",
      "             dynamic_reconfigure/Config            [958f16a05573709014982821e6822580]\n",
      "             dynamic_reconfigure/ConfigDescription [757ce9d44ba8ddd801bb30bc456f946f]\n",
      "             geometry_msgs/Twist                   [9f195f881246fdfa2798d1d3eebca84a]\n",
      "             geometry_msgs/TwistStamped            [98d34b0043a2093cf9d9345ab6eef12e]\n",
      "             nav_msgs/Odometry                     [cd5e73d190d741a2f92e81eda573aca7]\n",
      "             pkg_ta/Control                        [f3ff5e621674977340f826fa8303fddf]\n",
      "             pkg_ta/LogArduino                     [794f6f831f1064c1b29b65087ebb232f]\n",
      "             rosgraph_msgs/Log                     [acffd30cd6b6de30f120938c17c593fb]\n",
      "             sensor_msgs/Imu                       [6a62c6daae103f4ff57a132d6f95cec2]\n",
      "             sensor_msgs/NavSatFix                 [2d3a8cd499b9b4a0249fb98fd05cfa48]\n",
      "             sensor_msgs/TimeReference             [fded64a0265108ba86c3d38fb11c0c16]\n",
      "             tf2_msgs/TFMessage                    [94810edda583a504dfda3829e70d7eec]\n",
      "topics:      /control_signal                     903 msgs @  20.0 Hz : pkg_ta/Control                       \n",
      "             /diagnostics                         97 msgs @   2.0 Hz : diagnostic_msgs/DiagnosticArray       (2 connections)\n",
      "             /fix                                246 msgs @   5.0 Hz : sensor_msgs/NavSatFix                \n",
      "             /gps/filtered                      1063 msgs @  29.9 Hz : sensor_msgs/NavSatFix                \n",
      "             /gps_data                           246 msgs @   5.0 Hz : sensor_msgs/NavSatFix                \n",
      "             /imu                               2460 msgs @  50.1 Hz : sensor_msgs/Imu                      \n",
      "             /imu_node/parameter_descriptions      1 msg             : dynamic_reconfigure/ConfigDescription\n",
      "             /imu_node/parameter_updates           1 msg             : dynamic_reconfigure/Config           \n",
      "             /logging_arduino                   2446 msgs @  49.4 Hz : pkg_ta/LogArduino                    \n",
      "             /odom                               982 msgs @  20.0 Hz : nav_msgs/Odometry                    \n",
      "             /odometry/filtered_map             1472 msgs @  22.8 Hz : nav_msgs/Odometry                    \n",
      "             /odometry/gps                       246 msgs @   5.0 Hz : nav_msgs/Odometry                    \n",
      "             /odometry/utm_filtered             1063 msgs @  22.7 Hz : nav_msgs/Odometry                    \n",
      "             /odometry/utm_fix                   245 msgs @   5.0 Hz : nav_msgs/Odometry                    \n",
      "             /rosout                              22 msgs @ 76.3 kHz : rosgraph_msgs/Log                     (7 connections)\n",
      "             /rosout_agg                           1 msg             : rosgraph_msgs/Log                    \n",
      "             /sensor_velocity                   2313 msgs @  48.7 Hz : geometry_msgs/Twist                  \n",
      "             /tf                                2456 msgs @  48.0 Hz : tf2_msgs/TFMessage                    (2 connections)\n",
      "             /tf_static                            4 msgs @  3.9 kHz : tf2_msgs/TFMessage                    (4 connections)\n",
      "             /time_reference                     245 msgs @   5.0 Hz : sensor_msgs/TimeReference            \n",
      "             /vel                                490 msgs @  49.2 Hz : geometry_msgs/TwistStamped\n"
     ]
    }
   ],
   "source": [
    "bag = rosbag.Bag('BERHASIL_PARAMETER_2/PERCOBAAN_3_LURUS_ERROR_GEDE_2020-08-26-13-10-35.bag')\n",
    "print(bag)"
   ]
  },
  {
   "cell_type": "code",
   "execution_count": 5,
   "metadata": {},
   "outputs": [],
   "source": [
    "cs_t = []\n",
    "cs_action_throttle = []\n",
    "cs_action_steer = []\n",
    "cs_error_lateral = []\n",
    "cs_error_yaw = []\n",
    "cs_actual_x = []\n",
    "cs_actual_y = []\n",
    "cs_actual_yaw = []\n",
    "cs_actual_speed = []\n",
    "cs_ref_x = []\n",
    "cs_ref_y = []\n",
    "cs_ref_yaw = []\n",
    "cs_ref_curvature = []\n",
    "cs_wp_idx = []\n",
    "for topic, msg, _ in bag.read_messages(topics=['/control_signal']):\n",
    "    cs_t.append(msg.header.stamp.to_sec())\n",
    "    cs_action_throttle.append(msg.action_throttle)\n",
    "    cs_action_steer.append(msg.action_steer)\n",
    "    cs_error_lateral.append(msg.error_lateral)\n",
    "    cs_error_yaw.append(msg.error_yaw)\n",
    "    cs_actual_x.append(msg.actual_x)\n",
    "    cs_actual_y.append(msg.actual_y)\n",
    "    cs_actual_yaw.append(msg.actual_yaw)\n",
    "    cs_actual_speed.append(msg.actual_speed)\n",
    "    cs_ref_x.append(msg.ref_x)\n",
    "    cs_ref_y.append(msg.ref_y)\n",
    "    cs_ref_yaw.append(msg.ref_yaw)\n",
    "    cs_ref_curvature.append(msg.ref_curvature)\n",
    "    cs_wp_idx.append(msg.wp_idx)\n",
    "cs_t = np.array(cs_t)\n",
    "cs_action_throttle = np.array(cs_action_throttle)\n",
    "cs_action_steer = np.array(cs_action_steer)\n",
    "cs_error_lateral = np.array(cs_error_lateral)\n",
    "cs_error_yaw = np.array(cs_error_yaw)\n",
    "cs_actual_x = np.array(cs_actual_x)\n",
    "cs_actual_y = np.array(cs_actual_y)\n",
    "cs_actual_yaw = np.array(cs_actual_yaw)\n",
    "cs_actual_speed = np.array(cs_actual_speed)\n",
    "cs_ref_x = np.array(cs_ref_x)\n",
    "cs_ref_y = np.array(cs_ref_y)\n",
    "cs_ref_yaw = np.array(cs_ref_yaw)\n",
    "cs_ref_curvature = np.array(cs_ref_curvature)\n",
    "cs_wp_idx = np.array(cs_wp_idx)"
   ]
  },
  {
   "cell_type": "code",
   "execution_count": 6,
   "metadata": {},
   "outputs": [],
   "source": [
    "a_t = []\n",
    "a_steering_setpoint = []\n",
    "a_steering_angle = []\n",
    "a_throttle_voltage = []\n",
    "for topic, msg, _ in bag.read_messages(topics=['/logging_arduino']):\n",
    "    a_t.append(msg.header.stamp.to_sec())\n",
    "    a_steering_setpoint.append(msg.steering_setpoint )\n",
    "    a_steering_angle.append(msg.steering_angle)\n",
    "    a_throttle_voltage.append(msg.throttle_voltage)\n",
    "a_t = np.array(a_t)\n",
    "a_steering_setpoint = np.array(a_steering_setpoint)\n",
    "a_steering_angle = np.array(a_steering_angle)\n",
    "a_throttle_voltage = np.array(a_throttle_voltage)"
   ]
  },
  {
   "cell_type": "markdown",
   "metadata": {},
   "source": [
    "# PLOT HASIL"
   ]
  },
  {
   "cell_type": "code",
   "execution_count": 7,
   "metadata": {},
   "outputs": [
    {
     "data": {
      "image/png": "[encoded data removed]",
      "text/plain": [
       "<Figure size 432x288 with 1 Axes>"
      ]
     },
     "metadata": {
      "needs_background": "light"
     },
     "output_type": "display_data"
    }
   ],
   "source": [
    "lim = [0, -1]\n",
    "plt.plot(cs_ref_x[lim[0]:lim[1]], cs_ref_y[lim[0]:lim[1]], label='referensi')\n",
    "plt.plot(cs_actual_x[lim[0]:lim[1]], cs_actual_y[lim[0]:lim[1]], label='actual')\n",
    "plt.legend()\n",
    "plt.axis('square')\n",
    "plt.title('Map Posisi')\n",
    "plt.show()"
   ]
  },
  {
   "cell_type": "code",
   "execution_count": 8,
   "metadata": {},
   "outputs": [],
   "source": [
    "# plt.plot(cs_ref_yaw[lim[0]:lim[1]]*180/np.pi)\n",
    "# plt.plot(cs_actual_yaw[lim[0]:lim[1]]*180/np.pi)"
   ]
  },
  {
   "cell_type": "code",
   "execution_count": 9,
   "metadata": {},
   "outputs": [],
   "source": [
    "# fig, ax1 = plt.subplots()\n",
    "# ax1.plot(cs_error_yaw[lim[0]:lim[1]]*180/np.pi)\n",
    "# ax2 = ax1.twinx()\n",
    "# ax2.plot(cs_error_lateral[lim[0]:lim[1]], color='tab:red')"
   ]
  },
  {
   "cell_type": "code",
   "execution_count": 11,
   "metadata": {},
   "outputs": [
    {
     "data": {
      "image/png": "[encoded data removed]",
      "text/plain": [
       "<Figure size 432x288 with 1 Axes>"
      ]
     },
     "metadata": {
      "needs_background": "light"
     },
     "output_type": "display_data"
    }
   ],
   "source": [
    "plt.plot(cs_t, cs_error_lateral, label='e_lat')\n",
    "# plt.plot(cs_t, cs_error_yaw, label='e_yaw')\n",
    "plt.legend()\n",
    "# plt.title('Error Lateral dan Yaw')\n",
    "plt.title('Error Lateral')\n",
    "plt.show()"
   ]
  },
  {
   "cell_type": "code",
   "execution_count": null,
   "metadata": {},
   "outputs": [],
   "source": [
    "# plt.plot(cs_ref_yaw)\n",
    "# plt.plot(cs_actual_yaw)"
   ]
  },
  {
   "cell_type": "code",
   "execution_count": null,
   "metadata": {},
   "outputs": [],
   "source": [
    "cs_actual_x.shape"
   ]
  },
  {
   "cell_type": "code",
   "execution_count": null,
   "metadata": {},
   "outputs": [],
   "source": [
    "# # CEK PERBEDAAN ERROR YAW\n",
    "\n",
    "# dcsx = cs_actual_x[2:] - cs_actual_x[:-2]\n",
    "# dcsy = cs_actual_y[2:] - cs_actual_y[:-2]\n",
    "# dcsx = savgol_filter(dcsx, 501, 3)\n",
    "# dcsy = savgol_filter(dcsy, 501, 3)\n",
    "# temp = np.arctan2(dcsy, dcsx)\n",
    "# temp_mean = np.mean(temp)\n",
    "# cs_ref_yaw_mean = np.mean(cs_ref_yaw)\n",
    "# plt.plot((temp - temp_mean + cs_ref_yaw_mean) - cs_ref_yaw[:-2], label='error yaw dy dx')\n",
    "# plt.plot(cs_error_yaw, label='error yaw imu')\n",
    "# plt.legend()"
   ]
  },
  {
   "cell_type": "code",
   "execution_count": null,
   "metadata": {},
   "outputs": [],
   "source": [
    "# # Ngecek apakah sesuai atau tidak\n",
    "# # Ternyata yaw nya emang ada bias, kayaknya kita harus cek si yaw nya dulu Pras\n",
    "# # Saat balik arah, apakah dia balik 180 derajatttt ?\n",
    "\n",
    "# rdx = cs_ref_x[2:]-cs_ref_x[:-2]\n",
    "# rdy = cs_ref_y[2:]-cs_ref_y[:-2]\n",
    "# rdx = savgol_filter(rdx, 501, 3)\n",
    "# rdy = savgol_filter(rdy, 501, 3)\n",
    "# ref_yaw = np.arctan2(rdy, rdx)\n",
    "\n",
    "# plt.plot(ref_yaw, label='ref yaw dari dy dx')\n",
    "# plt.plot(-cs_ref_yaw, label='cs_ref_yaw')\n",
    "# plt.plot(-cs_ref_yaw[:-2]-ref_yaw, label='bias')\n",
    "# plt.legend()"
   ]
  },
  {
   "cell_type": "markdown",
   "metadata": {},
   "source": [
    "# Sinyal Aktuator"
   ]
  },
  {
   "cell_type": "code",
   "execution_count": null,
   "metadata": {},
   "outputs": [],
   "source": [
    "plt.plot(np.arcsin(2.*cs_ref_curvature)*180/np.pi)"
   ]
  },
  {
   "cell_type": "code",
   "execution_count": null,
   "metadata": {},
   "outputs": [],
   "source": [
    "# Ga ketinggalan-ketinggalan banget Pras\n",
    "plt.plot(cs_t, cs_action_steer)\n",
    "plt.plot(a_t, a_steering_angle)"
   ]
  },
  {
   "cell_type": "code",
   "execution_count": null,
   "metadata": {},
   "outputs": [],
   "source": [
    "plt.plot(cs_t, cs_action_throttle)"
   ]
  },
  {
   "cell_type": "code",
   "execution_count": null,
   "metadata": {},
   "outputs": [],
   "source": [
    "f_t = []\n",
    "f_v = []\n",
    "for topic, msg, _ in bag.read_messages(topics=['/odometry/filtered_map']):\n",
    "    f_t.append(msg.header.stamp.to_sec())\n",
    "    v = msg.twist.twist.linear\n",
    "    f_v.append(np.sqrt(v.x**2 + v.y**2))\n",
    "f_t = np.array(f_t)\n",
    "f_v = np.array(f_v)"
   ]
  },
  {
   "cell_type": "code",
   "execution_count": null,
   "metadata": {},
   "outputs": [],
   "source": [
    "# SPEED\n",
    "plt.plot(f_t, f_v)"
   ]
  },
  {
   "cell_type": "code",
   "execution_count": null,
   "metadata": {},
   "outputs": [],
   "source": [
    "plt.plot(cs_action_steer)"
   ]
  },
  {
   "cell_type": "code",
   "execution_count": null,
   "metadata": {},
   "outputs": [],
   "source": [
    "plt.plot(cs_action_throttle)"
   ]
  },
  {
   "cell_type": "code",
   "execution_count": null,
   "metadata": {},
   "outputs": [],
   "source": [
    "plt.plot(cs_action_throttle)\n",
    "plt.plot(0.2/(1 + 0.15*np.abs(cs_action_steer)))"
   ]
  },
  {
   "cell_type": "code",
   "execution_count": null,
   "metadata": {},
   "outputs": [],
   "source": []
  },
  {
   "cell_type": "code",
   "execution_count": null,
   "metadata": {},
   "outputs": [],
   "source": []
  }
 ],
 "metadata": {
  "kernelspec": {
   "display_name": "Python 3",
   "language": "python",
   "name": "python3"
  },
  "language_info": {
   "codemirror_mode": {
    "name": "ipython",
    "version": 3
   },
   "file_extension": ".py",
   "mimetype": "text/x-python",
   "name": "python",
   "nbconvert_exporter": "python",
   "pygments_lexer": "ipython3",
   "version": "3.7.7"
  }
 },
 "nbformat": 4,
 "nbformat_minor": 4
}

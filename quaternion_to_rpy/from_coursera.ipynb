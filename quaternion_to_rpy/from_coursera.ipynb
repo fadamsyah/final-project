{
 "cells": [
  {
   "cell_type": "code",
   "execution_count": 1,
   "metadata": {},
   "outputs": [
    {
     "name": "stderr",
     "output_type": "stream",
     "text": [
      "Failed to load Python extension for LZ4 support. LZ4 compression will not be available.\n"
     ]
    }
   ],
   "source": [
    "import numpy as np\n",
    "import matplotlib.pyplot as plt\n",
    "import pandas as pd\n",
    "import rosbag\n",
    "\n",
    "from scipy.signal import savgol_filter\n",
    "%matplotlib inline\n",
    "\n",
    "def wrap_angle(angle):\n",
    "    return (angle + np.pi) % (2 * np.pi) - np.pi"
   ]
  },
  {
   "cell_type": "code",
   "execution_count": 2,
   "metadata": {},
   "outputs": [],
   "source": [
    "def to_euler(x, y, z, w):\n",
    "    \"\"\"Return as xyz (roll pitch yaw) Euler angles.\"\"\"\n",
    "    roll = np.arctan2(2 * (w * x + y * z), 1 - 2 * (x**2 + y**2))\n",
    "    pitch = np.arcsin(2 * (w * y - z * x))\n",
    "    yaw = np.arctan2(2 * (w * z + x * y), 1 - 2 * (y**2 + z**2))\n",
    "    return np.array([roll, pitch, yaw])"
   ]
  },
  {
   "cell_type": "code",
   "execution_count": 11,
   "metadata": {},
   "outputs": [
    {
     "data": {
      "text/plain": [
       "header: \n",
       "  seq: 8703\n",
       "  stamp: \n",
       "    secs: 1596774972\n",
       "    nsecs: 538008928\n",
       "  frame_id: \"map\"\n",
       "child_frame_id: \"base_link\"\n",
       "pose: \n",
       "  pose: \n",
       "    position: \n",
       "      x: 0.010839348313506478\n",
       "      y: -0.4960484678926796\n",
       "      z: 2.332028003649553e-13\n",
       "    orientation: \n",
       "      x: 1.5352300785980803e-15\n",
       "      y: -1.3393747145983517e-15\n",
       "      z: -0.7692164172827881\n",
       "      w: 0.638988343698562\n",
       "  covariance: [2.222792580038317, -4.753675825728559e-14, 1.2358331579834487e-12, 7.646560609043103e-26, -6.794970137184983e-26, -4.7533370249045735e-21, -4.7536758257298516e-14, 2.222792580038292, 4.680773790537265e-12, -9.590369842174718e-26, -8.333917234573875e-26, -5.149736782635326e-19, 1.2358331579834495e-12, 4.680773790537271e-12, 1.757768983225433e-06, -3.858431031499947e-26, -8.592091572827528e-26, 1.3641446671303528e-25, 7.646560609026646e-26, -8.944135460482256e-26, -3.8584479809341835e-26, 1.9990008131329055e-06, 4.604495540765822e-20, -2.1439419642984003e-16, -6.789921426179634e-26, -8.333917239064263e-26, -8.592096095885287e-26, 4.604495540765822e-20, 1.9990008131316045e-06, -4.671154407584905e-16, -4.753131037543154e-21, -5.149471826353187e-19, 1.390435082334115e-25, -2.1439419646276866e-16, -4.671154407914253e-16, 7.643508674693882]\n",
       "twist: \n",
       "  twist: \n",
       "    linear: \n",
       "      x: -0.0015099764652844745\n",
       "      y: -0.004861224343317269\n",
       "      z: 2.9707755242613514e-15\n",
       "    angular: \n",
       "      x: -4.990072763272005e-15\n",
       "      y: 4.3580506245725184e-15\n",
       "      z: 0.5966087269002929\n",
       "  covariance: [3.184577369034537, 3.5931150926880785e-14, -1.5838009107280272e-17, -3.2747360239387436e-29, 2.908416706308076e-28, 7.668410313225069e-23, 3.6042227439451874e-14, 3.184577369034507, -2.1921404124594656e-17, 3.6306429502227927e-28, -1.0232350090646261e-29, 3.457802382781479e-22, -1.5838009107277116e-17, -2.192140412459308e-17, 1.9970073105802025e-06, -4.055193471381349e-23, 1.994380662084779e-24, 7.502516786443285e-22, -3.274734931337515e-29, 3.630643013954905e-28, -4.055193156428161e-23, 1.9990008131164257e-06, -2.6594652879489974e-24, 3.246153094061847e-13, 2.845213287909459e-28, 2.3752126035423284e-30, 1.994377510809581e-24, -2.6594715926732634e-24, 1.9990008131164257e-06, -8.444489374877113e-14, 7.668410312831516e-23, 3.325453484761488e-22, 7.502452162966954e-22, 3.246153094061847e-13, -8.444489374880435e-14, 0.4401813294052059]"
      ]
     },
     "execution_count": 11,
     "metadata": {},
     "output_type": "execute_result"
    }
   ],
   "source": [
    "msg"
   ]
  },
  {
   "cell_type": "code",
   "execution_count": 4,
   "metadata": {},
   "outputs": [
    {
     "data": {
      "text/plain": [
       "TypesAndTopicsTuple(msg_types={'diagnostic_msgs/DiagnosticArray': '60810da900de1dd6ddd437c3503511da', 'dynamic_reconfigure/Config': '958f16a05573709014982821e6822580', 'dynamic_reconfigure/ConfigDescription': '757ce9d44ba8ddd801bb30bc456f946f', 'geometry_msgs/TwistStamped': '98d34b0043a2093cf9d9345ab6eef12e', 'nav_msgs/Odometry': 'cd5e73d190d741a2f92e81eda573aca7', 'rosgraph_msgs/Log': 'acffd30cd6b6de30f120938c17c593fb', 'sensor_msgs/Imu': '6a62c6daae103f4ff57a132d6f95cec2', 'sensor_msgs/NavSatFix': '2d3a8cd499b9b4a0249fb98fd05cfa48', 'sensor_msgs/TimeReference': 'fded64a0265108ba86c3d38fb11c0c16', 'tf2_msgs/TFMessage': '94810edda583a504dfda3829e70d7eec'}, topics={'/diagnostics': TopicTuple(msg_type='diagnostic_msgs/DiagnosticArray', message_count=767, connections=3, frequency=3.8358004961304113), '/fix': TopicTuple(msg_type='sensor_msgs/NavSatFix', message_count=1069, connections=1, frequency=4.9971185848004005), '/gps/filtered': TopicTuple(msg_type='sensor_msgs/NavSatFix', message_count=6747, connections=1, frequency=29.983729608395407), '/gps_data': TopicTuple(msg_type='sensor_msgs/NavSatFix', message_count=5558, connections=1, frequency=20.000019073504518), '/imu': TopicTuple(msg_type='sensor_msgs/Imu', message_count=11091, connections=1, frequency=50.093204347306816), '/imu_node/parameter_descriptions': TopicTuple(msg_type='dynamic_reconfigure/ConfigDescription', message_count=1, connections=1, frequency=None), '/imu_node/parameter_updates': TopicTuple(msg_type='dynamic_reconfigure/Config', message_count=1, connections=1, frequency=None), '/odometry/filtered_map': TopicTuple(msg_type='nav_msgs/Odometry', message_count=8337, connections=1, frequency=22.75000135600575), '/odometry/filtered_odom': TopicTuple(msg_type='nav_msgs/Odometry', message_count=8336, connections=1, frequency=22.754197611904672), '/odometry/gps': TopicTuple(msg_type='nav_msgs/Odometry', message_count=4762, connections=1, frequency=16.93033394015476), '/rosout': TopicTuple(msg_type='rosgraph_msgs/Log', message_count=21, connections=8, frequency=41734.36815920398), '/tf': TopicTuple(msg_type='tf2_msgs/TFMessage', message_count=16673, connections=2, frequency=60.04300336411137), '/tf_static': TopicTuple(msg_type='tf2_msgs/TFMessage', message_count=6, connections=6, frequency=2955.816772374912), '/time_reference': TopicTuple(msg_type='sensor_msgs/TimeReference', message_count=1069, connections=1, frequency=4.99644294294652), '/vel': TopicTuple(msg_type='geometry_msgs/TwistStamped', message_count=2138, connections=1, frequency=43.272813560720955)})"
      ]
     },
     "execution_count": 4,
     "metadata": {},
     "output_type": "execute_result"
    }
   ],
   "source": [
    "bag = rosbag.Bag('bag_output_ukf_polban0807_02.bag')\n",
    "bag.get_type_and_topic_info()"
   ]
  },
  {
   "cell_type": "code",
   "execution_count": 5,
   "metadata": {},
   "outputs": [],
   "source": [
    "rpy = []\n",
    "for topic, msg, t in bag.read_messages(topics=['/odometry/filtered_map']):\n",
    "    q = msg.pose.pose.orientation\n",
    "    euler = to_euler(q.x, q.y, q.z, q.w)\n",
    "    rpy.append(euler)\n",
    "rpy = np.array(rpy)"
   ]
  },
  {
   "cell_type": "code",
   "execution_count": 10,
   "metadata": {},
   "outputs": [
    {
     "data": {
      "text/plain": [
       "[<matplotlib.lines.Line2D at 0x7fafb9e60c10>]"
      ]
     },
     "execution_count": 10,
     "metadata": {},
     "output_type": "execute_result"
    },
    {
     "data": {
      "image/png": "[encoded data removed]",
      "text/plain": [
       "<Figure size 432x288 with 1 Axes>"
      ]
     },
     "metadata": {
      "needs_background": "light"
     },
     "output_type": "display_data"
    }
   ],
   "source": [
    "plt.plot(rpy[:, 2])"
   ]
  },
  {
   "cell_type": "code",
   "execution_count": null,
   "metadata": {},
   "outputs": [],
   "source": []
  }
 ],
 "metadata": {
  "kernelspec": {
   "display_name": "Python 3",
   "language": "python",
   "name": "python3"
  },
  "language_info": {
   "codemirror_mode": {
    "name": "ipython",
    "version": 3
   },
   "file_extension": ".py",
   "mimetype": "text/x-python",
   "name": "python",
   "nbconvert_exporter": "python",
   "pygments_lexer": "ipython3",
   "version": "3.7.7"
  }
 },
 "nbformat": 4,
 "nbformat_minor": 4
}

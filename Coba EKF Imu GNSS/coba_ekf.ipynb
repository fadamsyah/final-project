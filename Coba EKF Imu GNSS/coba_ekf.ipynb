{
 "cells": [
  {
   "cell_type": "code",
   "execution_count": 1,
   "metadata": {},
   "outputs": [
    {
     "name": "stderr",
     "output_type": "stream",
     "text": [
      "Failed to load Python extension for LZ4 support. LZ4 compression will not be available.\n"
     ]
    }
   ],
   "source": [
    "import numpy as np\n",
    "import matplotlib.pyplot as plt\n",
    "import numba as nb\n",
    "import rosbag\n",
    "import pymap3d as pm"
   ]
  },
  {
   "cell_type": "code",
   "execution_count": 2,
   "metadata": {},
   "outputs": [],
   "source": [
    "def wrap_angle(angle):\n",
    "    return (angle + np.pi) % (2 * np.pi) - np.pi\n",
    "\n",
    "@nb.njit()\n",
    "def to_euler(x, y, z, w):\n",
    "    \"\"\"Dari Coursera: Return as xyz (roll pitch yaw) Euler angles.\"\"\"\n",
    "    roll = np.arctan2(2 * (w * x + y * z), 1 - 2 * (x**2 + y**2))\n",
    "    pitch = np.arcsin(2 * (w * y - z * x))\n",
    "    yaw = np.arctan2(2 * (w * z + x * y), 1 - 2 * (y**2 + z**2))\n",
    "    return np.array([roll, pitch, yaw])\n",
    "# Compile the to_euler\n",
    "_ = to_euler(1.5352300785980803e-15, -1.3393747145983517e-15, -0.7692164172827881, 0.638988343698562)\n",
    "\n",
    "def calculate_s(wp_x, wp_y):\n",
    "    s = np.zeros(wp_x.shape[0])\n",
    "    for i in range(1, s.shape[0]):\n",
    "        s[i] = s[i-1] + np.sqrt((wp_x[i] - wp_x[i-1])**2 + (wp_y[i] - wp_y[i-1])**2)\n",
    "    return s"
   ]
  },
  {
   "cell_type": "code",
   "execution_count": 3,
   "metadata": {},
   "outputs": [],
   "source": [
    "bag = rosbag.Bag('data_fixed/belok_1.bag')\n",
    "# bag = rosbag.Bag('data_fixed/lurus_s_1.bag')\n",
    "# bag = rosbag.Bag('data_fixed/lurus_s_2.bag')\n",
    "# bag = rosbag.Bag('data_fixed/lurus_s_3.bag')\n",
    "# bag = rosbag.Bag('data_fixed/lurus_s_4.bag')\n",
    "# bag = rosbag.Bag('data_fixed/lurus_s_5.bag')\n",
    "# print(bag)"
   ]
  },
  {
   "cell_type": "markdown",
   "metadata": {},
   "source": [
    "# DATA"
   ]
  },
  {
   "cell_type": "markdown",
   "metadata": {},
   "source": [
    "## GNSS"
   ]
  },
  {
   "cell_type": "code",
   "execution_count": 4,
   "metadata": {},
   "outputs": [],
   "source": [
    "lat0, lon0, h0 = -6.8712, 107.5738, 768\n",
    "gps_t = []\n",
    "gps_pos = []\n",
    "gps_cov = []\n",
    "for topic, msg, _ in bag.read_messages(topics=['/fix']):\n",
    "    gps_t.append(msg.header.stamp.to_sec())\n",
    "    gps_pos.append(pm.geodetic2enu(msg.latitude, msg.longitude, msg.altitude, lat0, lon0, h0))\n",
    "    gps_cov.append(msg.position_covariance)\n",
    "gps_t = np.array(gps_t)\n",
    "gps_pos = np.array(gps_pos)\n",
    "gps_cov = np.array(gps_cov).reshape(-1,3,3)\n",
    "\n",
    "# Ambil sb. x & sb. y saja sampai limm\n",
    "limm = -1\n",
    "#X_fm = (-1) * np.copy(gps_pos[:limm,:2])\n",
    "X_fm = np.copy(gps_pos[:limm,:2])\n",
    "ttime = np.copy(gps_t[:limm])\n",
    "\n",
    "gnss_t = np.copy(gps_t[:limm])\n",
    "gnss_p = np.copy(gps_pos[:limm, :2])"
   ]
  },
  {
   "cell_type": "markdown",
   "metadata": {},
   "source": [
    "## Android Fix"
   ]
  },
  {
   "cell_type": "code",
   "execution_count": 5,
   "metadata": {},
   "outputs": [],
   "source": [
    "# a_gnss_t = []\n",
    "# a_gnss_pos = []\n",
    "# a_gnss_cov = []\n",
    "# for topic, msg, _ in bag.read_messages(topics=['/android/fix']):\n",
    "#     a_gnss_t.append(msg.header.stamp.to_sec())\n",
    "#     a_gnss_pos.append(pm.geodetic2enu(msg.latitude, msg.longitude, msg.altitude, lat0, lon0, h0))\n",
    "#     a_gnss_cov.append(msg.position_covariance)\n",
    "# a_gnss_t = np.array(a_gnss_t)\n",
    "# a_gnss_pos = np.array(a_gnss_pos)[:,:2]\n",
    "# a_gnss_cov = np.array(gps_cov).reshape(-1,3,3)\n",
    "\n",
    "# gnss_t = np.copy(gps_t[:limm])\n",
    "# gnss_p = np.copy(gps_pos[:limm, :2])"
   ]
  },
  {
   "cell_type": "markdown",
   "metadata": {},
   "source": [
    "## Android IMU"
   ]
  },
  {
   "cell_type": "code",
   "execution_count": 6,
   "metadata": {},
   "outputs": [],
   "source": [
    "imu_t = []\n",
    "imu_a = []\n",
    "imu_w = []\n",
    "imu_q = []\n",
    "imu_rpy = []\n",
    "for topic, msg, _ in bag.read_messages(topics=['/android/imu']):\n",
    "    imu_t.append(msg.header.stamp.to_sec())\n",
    "    acc = msg.linear_acceleration\n",
    "    imu_a.append([acc.x, acc.y, acc.z])\n",
    "    acc = msg.angular_velocity\n",
    "    imu_w.append([acc.x, acc.y, acc.z])\n",
    "    q = msg.orientation\n",
    "    imu_q.append([q.x, q.y, q.z, q.w])\n",
    "    imu_rpy.append(to_euler(q.x, q.y, q.z, q.w))\n",
    "imu_t = np.array(imu_t)\n",
    "imu_a = np.array(imu_a)\n",
    "imu_w = np.array(imu_w)\n",
    "imu_q = np.array(imu_q)\n",
    "imu_rpy = np.array(imu_rpy)"
   ]
  },
  {
   "cell_type": "markdown",
   "metadata": {
    "collapsed": "true"
   },
   "source": [
    "## Control Signal"
   ]
  },
  {
   "cell_type": "code",
   "execution_count": 7,
   "metadata": {},
   "outputs": [],
   "source": [
    "cs_t = []\n",
    "cs_action_throttle = []\n",
    "cs_action_steer = []\n",
    "cs_error_lateral = []\n",
    "cs_error_yaw = []\n",
    "cs_actual_x = []\n",
    "cs_actual_y = []\n",
    "cs_actual_yaw = []\n",
    "cs_actual_speed = []\n",
    "cs_ref_x = []\n",
    "cs_ref_y = []\n",
    "cs_ref_yaw = []\n",
    "cs_ref_curvature = []\n",
    "cs_wp_idx = []\n",
    "for topic, msg, _ in bag.read_messages(topics=['/control_signal']):\n",
    "    cs_t.append(msg.header.stamp.to_sec())\n",
    "    cs_action_throttle.append(msg.action_throttle)\n",
    "    cs_action_steer.append(msg.action_steer)\n",
    "    cs_error_lateral.append(msg.error_lateral)\n",
    "    cs_error_yaw.append(msg.error_yaw)\n",
    "    cs_actual_x.append(msg.actual_x)\n",
    "    cs_actual_y.append(msg.actual_y)\n",
    "    cs_actual_yaw.append(msg.actual_yaw)\n",
    "    cs_actual_speed.append(msg.actual_speed)\n",
    "    cs_ref_x.append(msg.ref_x)\n",
    "    cs_ref_y.append(msg.ref_y)\n",
    "    cs_ref_yaw.append(msg.ref_yaw)\n",
    "    cs_ref_curvature.append(msg.ref_curvature)\n",
    "    cs_wp_idx.append(msg.wp_idx)\n",
    "cs_t = np.array(cs_t)\n",
    "cs_action_throttle = np.array(cs_action_throttle)\n",
    "cs_action_steer = np.array(cs_action_steer)\n",
    "cs_error_lateral = np.array(cs_error_lateral)\n",
    "cs_error_yaw = np.array(cs_error_yaw)\n",
    "cs_actual_x = np.array(cs_actual_x)\n",
    "cs_actual_y = np.array(cs_actual_y)\n",
    "cs_actual_yaw = np.array(cs_actual_yaw)\n",
    "cs_actual_speed = np.array(cs_actual_speed)\n",
    "cs_ref_x = np.array(cs_ref_x)\n",
    "cs_ref_y = np.array(cs_ref_y)\n",
    "cs_ref_yaw = np.array(cs_ref_yaw)\n",
    "cs_ref_curvature = np.array(cs_ref_curvature)\n",
    "cs_wp_idx = np.array(cs_wp_idx)"
   ]
  },
  {
   "cell_type": "markdown",
   "metadata": {},
   "source": [
    "# Test Code"
   ]
  },
  {
   "cell_type": "markdown",
   "metadata": {
    "collapsed": "true"
   },
   "source": [
    "## Cek Data"
   ]
  },
  {
   "cell_type": "code",
   "execution_count": 8,
   "metadata": {},
   "outputs": [
    {
     "data": {
      "text/plain": [
       "[<matplotlib.lines.Line2D at 0x7fe6a053de10>,\n",
       " <matplotlib.lines.Line2D at 0x7fe6a0618750>]"
      ]
     },
     "execution_count": 8,
     "metadata": {},
     "output_type": "execute_result"
    },
    {
     "data": {
      "image/png": "[encoded data removed]",
      "text/plain": [
       "<Figure size 432x288 with 1 Axes>"
      ]
     },
     "metadata": {
      "needs_background": "light"
     },
     "output_type": "display_data"
    }
   ],
   "source": [
    "plt.plot(imu_a[:,:-1])"
   ]
  },
  {
   "cell_type": "code",
   "execution_count": 9,
   "metadata": {},
   "outputs": [],
   "source": [
    "lim_b = 200\n",
    "imu_a_2d = np.copy(imu_a[:,:-1])\n",
    "imu_w_2d = np.copy(imu_w[:,-1])\n",
    "bias_a_2d = np.mean(imu_a_2d[:lim_b], axis=0)\n",
    "bias_w_2d = np.mean(imu_w[:lim_b])"
   ]
  },
  {
   "cell_type": "code",
   "execution_count": 10,
   "metadata": {},
   "outputs": [
    {
     "name": "stdout",
     "output_type": "stream",
     "text": [
      "[-0.00977362 -1.44911645]\n",
      "-0.00018316499772481621\n"
     ]
    }
   ],
   "source": [
    "print(bias_a_2d)\n",
    "print(bias_w_2d)"
   ]
  },
  {
   "cell_type": "markdown",
   "metadata": {},
   "source": [
    "## EKF"
   ]
  },
  {
   "cell_type": "code",
   "execution_count": 11,
   "metadata": {},
   "outputs": [
    {
     "name": "stdout",
     "output_type": "stream",
     "text": [
      "Please Wait ...\n",
      "The imu_ekf_2d class is being compiled ...\n"
     ]
    },
    {
     "name": "stderr",
     "output_type": "stream",
     "text": [
      "<string>:3: NumbaPerformanceWarning: '@' is faster on contiguous arrays, called on (array(float64, 2d, C), array(float64, 2d, A))\n",
      "<string>:3: NumbaPerformanceWarning: '@' is faster on contiguous arrays, called on (array(float64, 2d, A), array(float64, 2d, F))\n",
      "<string>:3: NumbaPerformanceWarning: '@' is faster on contiguous arrays, called on (array(float64, 2d, C), array(float64, 2d, A))\n",
      "<string>:3: NumbaPerformanceWarning: '@' is faster on contiguous arrays, called on (array(float64, 2d, C), array(float64, 2d, A))\n",
      "<string>:3: NumbaPerformanceWarning: '@' is faster on contiguous arrays, called on (array(float64, 2d, A), array(float64, 2d, A))\n",
      "<string>:3: NumbaPerformanceWarning: '@' is faster on contiguous arrays, called on (array(float64, 2d, C), array(float64, 2d, A))\n"
     ]
    },
    {
     "name": "stdout",
     "output_type": "stream",
     "text": [
      "The imu_ekf_2d class has been compiled !\n"
     ]
    }
   ],
   "source": [
    "from lib.ekf_imu_2d import imu_ekf_2d"
   ]
  },
  {
   "cell_type": "code",
   "execution_count": 12,
   "metadata": {},
   "outputs": [],
   "source": [
    "yawc_imu = np.pi/2\n",
    "yawc_compass = np.pi*3/2\n",
    "\n",
    "imu_t_n = imu_t - imu_t[0]\n",
    "gnss_t_n = gnss_t - gnss_t[0]\n",
    "\n",
    "cp_2d = np.zeros_like(imu_a_2d)\n",
    "cv_2d = np.zeros_like(imu_a_2d)\n",
    "cyaw = np.zeros(imu_a_2d.shape[0])\n",
    "cP_2d = np.ones((cv_2d.shape[0], 11, 11)) * 0.1\n",
    "cba_2d = np.zeros_like(cp_2d)\n",
    "cbw_2d = np.zeros_like(cyaw)\n",
    "cbc = np.zeros_like(cyaw)\n",
    "cbg = np.zeros_like(cp_2d)\n",
    "\n",
    "cp_2d[0,0] = cs_actual_x[0]\n",
    "cp_2d[0,1] = cs_actual_y[0]\n",
    "cyaw[0] = wrap_angle(imu_rpy[0,-1] - yawc_compass)\n",
    "cba_2d[0] = bias_a_2d\n",
    "cbw_2d[0] = bias_w_2d\n",
    "cbc[0] = yawc_compass\n",
    "\n",
    "var_a = 0.5\n",
    "var_w = 0.1\n",
    "var_ba = 0.5\n",
    "var_bw = 0.001\n",
    "var_bc =  0.01\n",
    "var_bg = 0.05#0.05#0.01#0.05\n",
    "\n",
    "Q = np.zeros((9,9))\n",
    "Q[:2,:2] = np.eye(2) * var_a\n",
    "Q[2,2] = var_w\n",
    "Q[3:5, 3:5] = np.eye(2) * var_ba\n",
    "Q[5, 5] = var_bw\n",
    "Q[6, 6] = var_bc\n",
    "Q[7:,7:] = np.eye(2) * var_bg\n",
    "\n",
    "J_gnss = np.eye(2) * 4.\n",
    "J_compass = np.array([[0.075]])"
   ]
  },
  {
   "cell_type": "code",
   "execution_count": 13,
   "metadata": {},
   "outputs": [],
   "source": [
    "ekf = imu_ekf_2d(cp_2d[0], cv_2d[0], cyaw[0], bias_a_2d, bias_w_2d, cP_2d[0], cbc[0], cbg[0], Q, yawc_imu)\n",
    "\n",
    "gnss_idx = 1\n",
    "for k in range(1, imu_a.shape[0]):\n",
    "    dt = imu_t[k] - imu_t[k - 1]\n",
    "    \n",
    "    if (gnss_idx <= gnss_t.shape[0]) and (gnss_t_n[gnss_idx] <= imu_t_n[k-1]):\n",
    "        ekf.correct_gnss_2d(gnss_p[gnss_idx], J_gnss)\n",
    "        gnss_idx = gnss_idx + 3\n",
    "    ekf.predict(dt, imu_a_2d[k-1], imu_w_2d[k-1])\n",
    "    ekf.correct_compass(imu_rpy[k,-1], J_compass)\n",
    "    \n",
    "    cp_2d[k], cv_2d[k], cyaw[k], cba_2d[k], cbw_2d[k], cbc[k], cbg[k] = ekf.get_state()\n",
    "    cP_2d[k] = ekf.get_cov_sys()"
   ]
  },
  {
   "cell_type": "code",
   "execution_count": 14,
   "metadata": {},
   "outputs": [
    {
     "data": {
      "image/png": "[encoded data removed]",
      "text/plain": [
       "<Figure size 432x288 with 1 Axes>"
      ]
     },
     "metadata": {
      "needs_background": "light"
     },
     "output_type": "display_data"
    }
   ],
   "source": [
    "plt.plot(cp_2d[:,0], cp_2d[:,1])\n",
    "plt.scatter(gnss_p[:,0], gnss_p[:,1],s=2.,color='black')\n",
    "plt.xlim(-90.35,-90)\n",
    "plt.ylim(192.5,198)\n",
    "plt.show()"
   ]
  },
  {
   "cell_type": "code",
   "execution_count": 15,
   "metadata": {},
   "outputs": [],
   "source": [
    "# plt.plot(cbg)"
   ]
  },
  {
   "cell_type": "code",
   "execution_count": 16,
   "metadata": {},
   "outputs": [
    {
     "data": {
      "text/plain": [
       "[<matplotlib.lines.Line2D at 0x7fe69db62890>]"
      ]
     },
     "execution_count": 16,
     "metadata": {},
     "output_type": "execute_result"
    },
    {
     "data": {
      "image/png": "[encoded data removed]",
      "text/plain": [
       "<Figure size 432x288 with 1 Axes>"
      ]
     },
     "metadata": {
      "needs_background": "light"
     },
     "output_type": "display_data"
    }
   ],
   "source": [
    "plt.plot(np.linalg.norm(cv_2d,axis=-1))\n",
    "# plt.plot(cbw_2d)\n",
    "# plt.plot(cba_2d)"
   ]
  },
  {
   "cell_type": "markdown",
   "metadata": {},
   "source": [
    "## Yaw Comparison"
   ]
  },
  {
   "cell_type": "code",
   "execution_count": 17,
   "metadata": {},
   "outputs": [],
   "source": [
    "dgnss = gnss_p[2:] - gnss_p[:-2]\n",
    "gnss_yaw = np.zeros(gnss_t.shape[0])\n",
    "gnss_yaw[1:-1] = np.arctan2(dgnss[:,-1], dgnss[:,0])\n",
    "gnss_yaw[0] = gnss_yaw[1]\n",
    "gnss_yaw[-1] = gnss_yaw[-2]"
   ]
  },
  {
   "cell_type": "code",
   "execution_count": 18,
   "metadata": {},
   "outputs": [
    {
     "data": {
      "text/plain": [
       "(528,)"
      ]
     },
     "execution_count": 18,
     "metadata": {},
     "output_type": "execute_result"
    }
   ],
   "source": [
    "gnss_yaw[1:-1].shape"
   ]
  },
  {
   "cell_type": "code",
   "execution_count": 19,
   "metadata": {},
   "outputs": [
    {
     "data": {
      "text/plain": [
       "[<matplotlib.lines.Line2D at 0x7fe69d8ae150>]"
      ]
     },
     "execution_count": 19,
     "metadata": {},
     "output_type": "execute_result"
    },
    {
     "data": {
      "image/png": "[encoded data removed]",
      "text/plain": [
       "<Figure size 432x288 with 1 Axes>"
      ]
     },
     "metadata": {
      "needs_background": "light"
     },
     "output_type": "display_data"
    }
   ],
   "source": [
    "plt.plot(imu_t-imu_t[0], wrap_angle(cyaw)*180/np.pi)\n",
    "plt.plot(imu_t-imu_t[0], wrap_angle(imu_rpy[:,-1]-np.pi*3/2)*180/np.pi)\n",
    "lim1 = 110\n",
    "lim2 = -1\n",
    "plt.plot(gnss_t[lim1:lim2]-gnss_t[0], (gnss_yaw*180./np.pi)[lim1:lim2])\n",
    "# plt.xlim(10,15)\n",
    "# plt.ylim(-160,-70)"
   ]
  },
  {
   "cell_type": "code",
   "execution_count": 20,
   "metadata": {},
   "outputs": [
    {
     "data": {
      "text/plain": [
       "[<matplotlib.lines.Line2D at 0x7fe69efea490>]"
      ]
     },
     "execution_count": 20,
     "metadata": {},
     "output_type": "execute_result"
    },
    {
     "data": {
      "image/png": "[encoded data removed]",
      "text/plain": [
       "<Figure size 432x288 with 1 Axes>"
      ]
     },
     "metadata": {
      "needs_background": "light"
     },
     "output_type": "display_data"
    }
   ],
   "source": [
    "plt.plot((cbc-np.mean(cbc))*180/np.pi)"
   ]
  },
  {
   "cell_type": "code",
   "execution_count": null,
   "metadata": {},
   "outputs": [],
   "source": []
  },
  {
   "cell_type": "code",
   "execution_count": null,
   "metadata": {},
   "outputs": [],
   "source": []
  },
  {
   "cell_type": "code",
   "execution_count": null,
   "metadata": {},
   "outputs": [],
   "source": []
  }
 ],
 "metadata": {
  "kernelspec": {
   "display_name": "Python 3",
   "language": "python",
   "name": "python3"
  },
  "language_info": {
   "codemirror_mode": {
    "name": "ipython",
    "version": 3
   },
   "file_extension": ".py",
   "mimetype": "text/x-python",
   "name": "python",
   "nbconvert_exporter": "python",
   "pygments_lexer": "ipython3",
   "version": "3.7.7"
  }
 },
 "nbformat": 4,
 "nbformat_minor": 4
}

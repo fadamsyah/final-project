{
 "cells": [
  {
   "cell_type": "code",
   "execution_count": 2,
   "metadata": {},
   "outputs": [],
   "source": [
    "import numpy as np\n",
    "from numba import jitclass, float64, int64"
   ]
  },
  {
   "cell_type": "code",
   "execution_count": null,
   "metadata": {},
   "outputs": [],
   "source": [
    "class imu_ekf_2d(object):\n",
    "    def __init__(self, p0, v0, yaw0, ba0, bw0):\n",
    "        self.p = p0\n",
    "        self.v = v0\n",
    "        self.yaw = yaw0\n",
    "        self.ba = ba0\n",
    "        self.bw = bw0\n",
    "#         self.P = P0\n",
    "    def _wrap_angle(self, angle):\n",
    "        return (angle + np.pi) % (2 * np.pi) - np.pi\n",
    "    def _yaw_to_rot(self, y):\n",
    "        return np.array([[np.cos(y), -np.sin(y)],\n",
    "                         [np.sin(y), np.cos(y)]])\n",
    "    def get_state(self):\n",
    "        return self.p, self.v, self.yaw, self.ba, self.bw\n",
    "    def get_cov_sys(self):\n",
    "        return self.P\n",
    "    def predict(self, dt, a, w):\n",
    "        C = self._yaw_to_rot(self.yaw)\n",
    "        \n",
    "        self.p = self.p + dt*self.v + dt**2/2 * C@(a - self.ba)\n",
    "        self.v = self.v + dt* C@(a - self.ba)\n",
    "        self.yaw = self.yaw + dt*(w - self.bw)\n",
    "        \n",
    "#         self.P = ...\n",
    "        \n",
    "    def correct_compass(self, y):\n",
    "        None\n",
    "    def correct_gnss_2d(self, g2d):\n",
    "        None\n",
    "    "
   ]
  },
  {
   "cell_type": "code",
   "execution_count": null,
   "metadata": {},
   "outputs": [],
   "source": [
    "yaw[k] = yaw[k-1] + dt*(imu_w_2d[k-1] - bias_w_2d)"
   ]
  }
 ],
 "metadata": {
  "kernelspec": {
   "display_name": "Python 3",
   "language": "python",
   "name": "python3"
  },
  "language_info": {
   "codemirror_mode": {
    "name": "ipython",
    "version": 3
   },
   "file_extension": ".py",
   "mimetype": "text/x-python",
   "name": "python",
   "nbconvert_exporter": "python",
   "pygments_lexer": "ipython3",
   "version": "3.7.7"
  }
 },
 "nbformat": 4,
 "nbformat_minor": 4
}

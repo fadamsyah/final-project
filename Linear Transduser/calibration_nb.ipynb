{
 "cells": [
  {
   "cell_type": "code",
   "execution_count": 1,
   "metadata": {
    "execution": {
     "iopub.status.idle": "2020-08-06T12:57:16.965054Z",
     "shell.execute_reply": "2020-08-06T12:57:16.964123Z",
     "shell.execute_reply.started": "2020-08-06T12:57:15.504809Z"
    }
   },
   "outputs": [],
   "source": [
    "import numpy as np\n",
    "import matplotlib\n",
    "import matplotlib.pyplot as plt\n",
    "import pandas as pd\n",
    "from sklearn.metrics import mean_squared_error\n",
    "from sklearn.linear_model import LinearRegression"
   ]
  },
  {
   "cell_type": "code",
   "execution_count": 2,
   "metadata": {
    "execution": {
     "iopub.execute_input": "2020-08-06T12:57:16.967062Z",
     "iopub.status.busy": "2020-08-06T12:57:16.966563Z",
     "iopub.status.idle": "2020-08-06T12:57:17.016193Z",
     "shell.execute_reply": "2020-08-06T12:57:17.013689Z",
     "shell.execute_reply.started": "2020-08-06T12:57:16.967062Z"
    }
   },
   "outputs": [
    {
     "data": {
      "text/html": [
       "<div>\n",
       "<style scoped>\n",
       "    .dataframe tbody tr th:only-of-type {\n",
       "        vertical-align: middle;\n",
       "    }\n",
       "\n",
       "    .dataframe tbody tr th {\n",
       "        vertical-align: top;\n",
       "    }\n",
       "\n",
       "    .dataframe thead th {\n",
       "        text-align: right;\n",
       "    }\n",
       "</style>\n",
       "<table border=\"1\" class=\"dataframe\">\n",
       "  <thead>\n",
       "    <tr style=\"text-align: right;\">\n",
       "      <th></th>\n",
       "      <th>Panjang (cm)</th>\n",
       "      <th>Bacaan Analog</th>\n",
       "    </tr>\n",
       "  </thead>\n",
       "  <tbody>\n",
       "    <tr>\n",
       "      <th>0</th>\n",
       "      <td>0.0</td>\n",
       "      <td>0</td>\n",
       "    </tr>\n",
       "    <tr>\n",
       "      <th>1</th>\n",
       "      <td>0.0</td>\n",
       "      <td>0</td>\n",
       "    </tr>\n",
       "    <tr>\n",
       "      <th>2</th>\n",
       "      <td>1.0</td>\n",
       "      <td>72</td>\n",
       "    </tr>\n",
       "    <tr>\n",
       "      <th>3</th>\n",
       "      <td>1.0</td>\n",
       "      <td>75</td>\n",
       "    </tr>\n",
       "    <tr>\n",
       "      <th>4</th>\n",
       "      <td>2.0</td>\n",
       "      <td>176</td>\n",
       "    </tr>\n",
       "  </tbody>\n",
       "</table>\n",
       "</div>"
      ],
      "text/plain": [
       "   Panjang (cm)  Bacaan Analog\n",
       "0           0.0              0\n",
       "1           0.0              0\n",
       "2           1.0             72\n",
       "3           1.0             75\n",
       "4           2.0            176"
      ]
     },
     "execution_count": 2,
     "metadata": {},
     "output_type": "execute_result"
    }
   ],
   "source": [
    "df = pd.read_csv('calibration_data.csv')\n",
    "df.sort_values('Panjang (cm)', inplace=True)\n",
    "df.reset_index(drop=True, inplace=True)\n",
    "\n",
    "df.head()"
   ]
  },
  {
   "cell_type": "code",
   "execution_count": 3,
   "metadata": {
    "execution": {
     "iopub.execute_input": "2020-08-06T12:57:17.021208Z",
     "iopub.status.busy": "2020-08-06T12:57:17.020206Z",
     "iopub.status.idle": "2020-08-06T12:57:17.034241Z",
     "shell.execute_reply": "2020-08-06T12:57:17.030737Z",
     "shell.execute_reply.started": "2020-08-06T12:57:17.020713Z"
    }
   },
   "outputs": [],
   "source": [
    "Y = (df['Panjang (cm)'].values)[:, np.newaxis]\n",
    "X = (df['Bacaan Analog'].values)[:, np.newaxis]"
   ]
  },
  {
   "cell_type": "code",
   "execution_count": 4,
   "metadata": {
    "execution": {
     "iopub.execute_input": "2020-08-06T12:57:17.039258Z",
     "iopub.status.busy": "2020-08-06T12:57:17.037759Z",
     "iopub.status.idle": "2020-08-06T12:57:17.327020Z",
     "shell.execute_reply": "2020-08-06T12:57:17.326086Z",
     "shell.execute_reply.started": "2020-08-06T12:57:17.039258Z"
    }
   },
   "outputs": [
    {
     "data": {
      "text/plain": [
       "<matplotlib.collections.PathCollection at 0x25611b77788>"
      ]
     },
     "execution_count": 4,
     "metadata": {},
     "output_type": "execute_result"
    },
    {
     "data": {
      "image/png": "[encoded data removed]",
      "text/plain": [
       "<Figure size 432x288 with 1 Axes>"
      ]
     },
     "metadata": {
      "needs_background": "light"
     },
     "output_type": "display_data"
    }
   ],
   "source": [
    "plt.scatter(X, Y)"
   ]
  },
  {
   "cell_type": "code",
   "execution_count": 5,
   "metadata": {
    "execution": {
     "iopub.execute_input": "2020-08-06T12:57:17.329024Z",
     "iopub.status.busy": "2020-08-06T12:57:17.328523Z",
     "iopub.status.idle": "2020-08-06T12:57:17.345068Z",
     "shell.execute_reply": "2020-08-06T12:57:17.342061Z",
     "shell.execute_reply.started": "2020-08-06T12:57:17.329024Z"
    }
   },
   "outputs": [],
   "source": [
    "# We use RANSAC (Random Sample Consensus) to make the linear regression more robust to the outlier\n",
    "model = LinearRegression(fit_intercept=False).fit(X, Y)\n",
    "pred = model.predict(X)"
   ]
  },
  {
   "cell_type": "code",
   "execution_count": 6,
   "metadata": {
    "execution": {
     "iopub.execute_input": "2020-08-06T12:57:17.351088Z",
     "iopub.status.busy": "2020-08-06T12:57:17.349582Z",
     "iopub.status.idle": "2020-08-06T12:57:17.389186Z",
     "shell.execute_reply": "2020-08-06T12:57:17.388183Z",
     "shell.execute_reply.started": "2020-08-06T12:57:17.351088Z"
    }
   },
   "outputs": [
    {
     "name": "stdout",
     "output_type": "stream",
     "text": [
      "0.010130890038843222\n",
      "0.0\n",
      "0.9979835513252476\n"
     ]
    }
   ],
   "source": [
    "print(model.coef_[0,0])\n",
    "print(model.intercept_)\n",
    "print(model.score(X, Y))"
   ]
  },
  {
   "cell_type": "code",
   "execution_count": 7,
   "metadata": {
    "execution": {
     "iopub.execute_input": "2020-08-06T12:57:17.392193Z",
     "iopub.status.busy": "2020-08-06T12:57:17.390692Z",
     "iopub.status.idle": "2020-08-06T12:57:18.709193Z",
     "shell.execute_reply": "2020-08-06T12:57:18.708190Z",
     "shell.execute_reply.started": "2020-08-06T12:57:17.392193Z"
    }
   },
   "outputs": [
    {
     "data": {
      "image/png": "[encoded data removed]",
      "text/plain": [
       "<Figure size 432x288 with 1 Axes>"
      ]
     },
     "metadata": {
      "needs_background": "light"
     },
     "output_type": "display_data"
    }
   ],
   "source": [
    "plt.plot(X, model.predict(X), linewidth=2.0, label='Regresi Linier')\n",
    "plt.scatter(X, Y, label='Data Kalibrasi', linewidth=0.5, color='black')\n",
    "plt.legend()\n",
    "plt.xlabel('Bacaan Analog')\n",
    "plt.ylabel('Perpindahan (cm)')\n",
    "plt.title(r'Kalibrasi Sensor Transduser Linier', fontweight=\"bold\")\n",
    "pos = [700,2]\n",
    "plt.text(pos[0], pos[1]+1., r'$y={:.2}\\,x$'.format(model.coef_[0,0]), fontsize=13, color='tab:blue')\n",
    "plt.text(pos[0], pos[1], r'$r^2={:.4}$'.format(model.score(X,Y)), fontsize=13, color='tab:blue')\n",
    "plt.savefig('kalibrasi_transduser_linier.png', dpi=400, transparent=True)\n",
    "plt.show()"
   ]
  },
  {
   "cell_type": "code",
   "execution_count": null,
   "metadata": {},
   "outputs": [],
   "source": []
  },
  {
   "cell_type": "code",
   "execution_count": null,
   "metadata": {},
   "outputs": [],
   "source": []
  }
 ],
 "metadata": {
  "kernelspec": {
   "display_name": "Python 3",
   "language": "python",
   "name": "python3"
  },
  "language_info": {
   "codemirror_mode": {
    "name": "ipython",
    "version": 3
   },
   "file_extension": ".py",
   "mimetype": "text/x-python",
   "name": "python",
   "nbconvert_exporter": "python",
   "pygments_lexer": "ipython3",
   "version": "3.7.7"
  }
 },
 "nbformat": 4,
 "nbformat_minor": 4
}

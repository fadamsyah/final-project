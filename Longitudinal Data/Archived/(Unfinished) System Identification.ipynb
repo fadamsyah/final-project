{
 "cells": [
  {
   "cell_type": "code",
   "execution_count": 1,
   "metadata": {
    "ExecuteTime": {
     "end_time": "2020-05-04T16:45:17.351160Z",
     "start_time": "2020-05-04T16:45:15.171974Z"
    }
   },
   "outputs": [],
   "source": [
    "import numpy as np\n",
    "import numba as nb\n",
    "import math\n",
    "import matplotlib.pyplot as plt\n",
    "import pandas as pd\n",
    "import time\n",
    "from numba import jit, njit, prange"
   ]
  },
  {
   "cell_type": "markdown",
   "metadata": {},
   "source": [
    "# GROUND TRUTH DATA"
   ]
  },
  {
   "cell_type": "code",
   "execution_count": 2,
   "metadata": {},
   "outputs": [
    {
     "data": {
      "image/png": "[encoded data removed]",
      "text/plain": [
       "<Figure size 432x288 with 1 Axes>"
      ]
     },
     "metadata": {
      "needs_background": "light"
     },
     "output_type": "display_data"
    }
   ],
   "source": [
    "df = pd.read_csv('csv/0,15.csv')\n",
    "t0 = np.array(df['f_t'].values).astype('float64')\n",
    "t0 = t0 - t0[0]\n",
    "v0 = np.array(df['f_v'].values).astype('float64')\n",
    "u0 = np.array(df['f_u'].values).astype('float64')\n",
    "\n",
    "plt.plot(t0, v0, label='speed')\n",
    "plt.plot(t0, u0, label='throttle')\n",
    "plt.legend()\n",
    "plt.show()"
   ]
  },
  {
   "cell_type": "code",
   "execution_count": 3,
   "metadata": {},
   "outputs": [],
   "source": [
    "# KALAU ERROR, BERARTI ADA YANG BELUM BENER\n",
    "_ = t0 + u0 + v0"
   ]
  },
  {
   "cell_type": "code",
   "execution_count": 4,
   "metadata": {},
   "outputs": [],
   "source": [
    "# plt.clf()\n",
    "# for i in range(1,13):\n",
    "#     if i== 11:\n",
    "#         plt.plot(gt[i]['t'], gt[i]['v'], label='Data-{}'.format(i), color='black')\n",
    "#     elif i == 12:\n",
    "        \n",
    "#         plt.plot(gt[i]['t'], gt[i]['v'], label='Data-{}'.format(i), color='greenyellow')\n",
    "#     else:\n",
    "#         plt.plot(gt[i]['t'], gt[i]['v'], label='Data-{}'.format(i))\n",
    "# plt.legend()\n",
    "# plt.title('Ground Truth Data')\n",
    "# plt.xlabel('Time (s)')\n",
    "# plt.ylabel('Speed (m/s)')\n",
    "# plt.savefig('results/ground_truth', dpi=600)"
   ]
  },
  {
   "cell_type": "markdown",
   "metadata": {},
   "source": [
    "# MAKE FUNCTION"
   ]
  },
  {
   "cell_type": "markdown",
   "metadata": {
    "heading_collapsed": true
   },
   "source": [
    "## Generate population"
   ]
  },
  {
   "cell_type": "code",
   "execution_count": 5,
   "metadata": {
    "ExecuteTime": {
     "end_time": "2020-05-04T16:45:17.731486Z",
     "start_time": "2020-05-04T16:45:17.710275Z"
    },
    "hidden": true
   },
   "outputs": [],
   "source": [
    "def generate_population(num, dim, rng):\n",
    "    \"\"\"\n",
    "    Generate flowers:\n",
    "        Input:\n",
    "            num: number of flowers (integer)\n",
    "            dim: number of parameters (integer)\n",
    "            rng: range number used in initialization (list or numpy array)\n",
    "        Output:\n",
    "            flws: initial position of the flowers (numpy array)\n",
    "    \"\"\"\n",
    "    flws = np.zeros((num,dim))\n",
    "    for i in range(dim):\n",
    "        lim = rng[i]\n",
    "        flws[:, i] = np.random.uniform(lim[0], lim[1], size=num)\n",
    "    return flws"
   ]
  },
  {
   "cell_type": "markdown",
   "metadata": {
    "heading_collapsed": true
   },
   "source": [
    "## Constraint"
   ]
  },
  {
   "cell_type": "code",
   "execution_count": 6,
   "metadata": {
    "ExecuteTime": {
     "end_time": "2020-05-04T16:45:17.766484Z",
     "start_time": "2020-05-04T16:45:17.740671Z"
    },
    "hidden": true
   },
   "outputs": [],
   "source": [
    "@njit\n",
    "def admissible(param):\n",
    "    k, tau, L = param\n",
    "    if k < 0. or tau < 0. or L < 0.:\n",
    "        return False\n",
    "    else:\n",
    "        return True\n",
    "    \n",
    "_ = admissible(np.random.randn(3))"
   ]
  },
  {
   "cell_type": "markdown",
   "metadata": {
    "heading_collapsed": true
   },
   "source": [
    "## Forward propagation"
   ]
  },
  {
   "cell_type": "code",
   "execution_count": null,
   "metadata": {},
   "outputs": [],
   "source": [
    "@njit\n",
    "def delayed_control_signal(t, u, td):\n",
    "    n = t.shape[0]\n",
    "    if n == 0:\n",
    "        return u\n",
    "    else:\n",
    "        for j in range(n):\n",
    "            jj = n - 1 - j\n",
    "            if\n",
    "    return ut\n",
    "_ = delayed_control_signal(1, 0.1, np.array([0.1, 0.2]), 0)"
   ]
  },
  {
   "cell_type": "code",
   "execution_count": null,
   "metadata": {},
   "outputs": [],
   "source": [
    "@njit\n",
    "def delayed_control_signal(i, u, u_list, td):\n",
    "    if i < td:\n",
    "        ut = 0.0\n",
    "    else:\n",
    "        if td == 0:\n",
    "            ut = u\n",
    "        else:\n",
    "            ut = u_list[i-td]\n",
    "    return ut\n",
    "_ = delayed_control_signal(1, 0.1, np.array([0.1, 0.2]), 0)"
   ]
  },
  {
   "cell_type": "code",
   "execution_count": null,
   "metadata": {
    "ExecuteTime": {
     "end_time": "2020-05-04T16:45:17.832798Z",
     "start_time": "2020-05-04T16:45:17.775312Z"
    },
    "hidden": true
   },
   "outputs": [],
   "source": [
    "@njit\n",
    "def forward_propagation(t, u, param):\n",
    "    a1, a2, a3, b1, b2, b3, b4, c1, c2, c3, c4, td11, td12, td13, td21, td22, td23 = param\n",
    "    td11 = int(np.around(td11))\n",
    "    td12 = int(np.around(td12))\n",
    "    td13 = int(np.around(td13))\n",
    "    td21 = int(np.around(td21))\n",
    "    td22 = int(np.around(td22))\n",
    "    td23 = int(np.around(td23))\n",
    "\n",
    "    u1_list = np.empty(t.shape)\n",
    "    u2_list = np.empty(t.shape)\n",
    "    out = np.empty(t.shape)\n",
    "    y = 0.0\n",
    "    for i in range(t.shape[0]):\n",
    "        if i == 0:\n",
    "            dt = t[1] - t[0]\n",
    "        else:\n",
    "            dt = t[i] - t[i-1]\n",
    "            \n",
    "        u1, u2 = u[i]        \n",
    "        u11t = delayed_control_signal(i, u1, u1_list, td11)\n",
    "        u12t = delayed_control_signal(i, u1, u1_list, td12)\n",
    "        u13t = delayed_control_signal(i, u1, u1_list, td13)\n",
    "        u21t = delayed_control_signal(i, u2, u2_list, td21)\n",
    "        u22t = delayed_control_signal(i, u2, u2_list, td22)\n",
    "        u23t = delayed_control_signal(i, u2, u2_list, td23)\n",
    "        \n",
    "        temp = 0.\n",
    "        if y != 0.:\n",
    "            temp = a1\n",
    "                    \n",
    "        y_dot = temp + a2 * y + a3 * y**2 \\\n",
    "                + b1 * u11t + b2 * np.exp(b3 * y + b4 * u12t) * u13t  \\\n",
    "                + c1 * u21t + c2 * np.exp(c3 * y + c4 * u22t) * u23t\n",
    "        \n",
    "        y += y_dot * dt\n",
    "        if y < 0.0:\n",
    "            y = 0.0\n",
    "\n",
    "        u1_list[i] = u1\n",
    "        u2_list[i] = u2\n",
    "        out[i] = y\n",
    "\n",
    "    return out\n",
    "_ = forward_propagation(np.arange(10, dtype=float), np.random.randn(10,2), np.ones(17))"
   ]
  },
  {
   "cell_type": "markdown",
   "metadata": {
    "heading_collapsed": true
   },
   "source": [
    "## Cost and metric"
   ]
  },
  {
   "cell_type": "code",
   "execution_count": null,
   "metadata": {
    "ExecuteTime": {
     "end_time": "2020-05-04T16:45:17.859420Z",
     "start_time": "2020-05-04T16:45:17.841064Z"
    },
    "hidden": true
   },
   "outputs": [],
   "source": [
    "@njit\n",
    "def cost(t, u, v, param):\n",
    "    error = v - forward_propagation(t, u, param)\n",
    "    cost = np.dot(error.T, error)\n",
    "    return cost\n",
    "_ = cost(np.arange(10, dtype=float), np.random.randn(10,2), np.random.randn(10), np.ones(17))\n",
    "\n",
    "@njit\n",
    "def accuracy(t, u, v, param):\n",
    "    error = v - forward_propagation(t, u, param)\n",
    "    numerator = np.linalg.norm(error)\n",
    "    denumerator = np.linalg.norm(v - np.mean(v))\n",
    "    acc = 1.0 - numerator / denumerator\n",
    "    return acc\n",
    "_ = accuracy(np.arange(10, dtype=float), np.random.randn(10,2), np.random.randn(10), np.ones(17))\n",
    "\n",
    "@njit\n",
    "def mean_absolute_error(t, u, v, param):\n",
    "    error = v - forward_propagation(t, u, param)\n",
    "    out = np.mean(np.abs(error))\n",
    "    return out\n",
    "_ = mean_absolute_error(np.arange(10, dtype=float), np.random.randn(10,2), np.random.randn(10), np.ones(17))\n",
    "\n",
    "@njit\n",
    "def mean_squared_error(t, u, v, param):\n",
    "    error = v - forward_propagation(t, u, param)\n",
    "    out = np.mean(error**2)\n",
    "    return out\n",
    "_ = mean_squared_error(np.arange(10, dtype=float), np.random.randn(10,2), np.random.randn(10), np.ones(17))\n",
    "\n",
    "@njit\n",
    "def maximum_absolute_error(t, u, v, param):\n",
    "    error = v - forward_propagation(t, u, param)\n",
    "    out = np.max(np.abs(error))\n",
    "    return out\n",
    "_ = maximum_absolute_error(np.arange(10, dtype=float), np.random.randn(10,2), np.random.randn(10), np.ones(17))"
   ]
  },
  {
   "cell_type": "code",
   "execution_count": null,
   "metadata": {
    "ExecuteTime": {
     "end_time": "2020-05-04T16:45:17.886157Z",
     "start_time": "2020-05-04T16:45:17.864197Z"
    },
    "hidden": true
   },
   "outputs": [],
   "source": [
    "@njit\n",
    "def calculate_total_cost(param):\n",
    "    loss = np.Inf\n",
    "    if admissible(param):\n",
    "        loss = 0.\n",
    "        m = 0.\n",
    "        \n",
    "        loss += cost(t0, u0, v0, param)\n",
    "        loss += cost(t1, u1, v1, param)\n",
    "        loss += cost(t2, u2, v2, param)\n",
    "        loss += cost(t3, u3, v3, param)\n",
    "        loss += cost(t4, u4, v4, param)\n",
    "        loss += cost(t5, u5, v5, param)\n",
    "        loss += cost(t6, u6, v6, param)\n",
    "        loss += cost(t7, u7, v7, param)\n",
    "        loss += cost(t8, u8, v8, param)\n",
    "        loss += cost(t9, u9, v9, param)\n",
    "        loss += cost(t10, u10, v10, param)\n",
    "        loss += cost(t11, u11, v11, param)\n",
    "                \n",
    "        m += t0.shape[0]\n",
    "        m += t1.shape[0]\n",
    "        m += t2.shape[0]\n",
    "        m += t3.shape[0]\n",
    "        m += t4.shape[0]\n",
    "        m += t5.shape[0]\n",
    "        m += t6.shape[0]\n",
    "        m += t7.shape[0]\n",
    "        m += t8.shape[0]\n",
    "        m += t9.shape[0]\n",
    "        m += t10.shape[0]\n",
    "        m += t11.shape[0]\n",
    "        \n",
    "        loss = loss / m\n",
    "        \n",
    "    return loss\n",
    "_ = calculate_total_cost(np.ones(17))"
   ]
  },
  {
   "cell_type": "code",
   "execution_count": null,
   "metadata": {
    "ExecuteTime": {
     "end_time": "2020-05-04T16:45:17.899448Z",
     "start_time": "2020-05-04T16:45:17.891718Z"
    },
    "hidden": true
   },
   "outputs": [],
   "source": [
    "@njit(parallel=True)\n",
    "def flowers_cost(flowers):\n",
    "    length = flowers.shape[0]\n",
    "    losses = np.empty(length)\n",
    "    for ii in prange(length):\n",
    "        losses[ii] = calculate_total_cost(flowers[ii])\n",
    "    return losses\n",
    "_ = flowers_cost(np.ones((2,17)))"
   ]
  },
  {
   "cell_type": "markdown",
   "metadata": {
    "heading_collapsed": true
   },
   "source": [
    "## Pollination"
   ]
  },
  {
   "cell_type": "code",
   "execution_count": null,
   "metadata": {
    "ExecuteTime": {
     "end_time": "2020-05-04T16:45:17.940004Z",
     "start_time": "2020-05-04T16:45:17.904420Z"
    },
    "hidden": true
   },
   "outputs": [],
   "source": [
    "@njit(parallel = True)\n",
    "def fpa(flowers, loss_flowers, global_, global_loss_, p, alpha, gamma, var, s0):\n",
    "    num = flowers.shape[0]\n",
    "    dim = flowers.shape[1]    \n",
    "    out = np.empty(flowers.shape)\n",
    "    temp = np.empty(dim)\n",
    "    loss = np.empty(loss_flowers.shape)\n",
    "    temp_loss = 0.\n",
    "    random_number = np.random.uniform(0., 1., num)\n",
    "    for i in prange(num):\n",
    "        # GLOBAL POLLINATION\n",
    "        if random_number[i] < p:\n",
    "            # Generate Levy Flight\n",
    "            upper = np.random.normal(0., np.sqrt(var), size=dim)\n",
    "            lower = np.abs(np.random.normal(0., 1., size=dim))**(1./alpha)\n",
    "            L = np.divide(upper, lower)\n",
    "            \n",
    "            for j in range(L.shape[0]):\n",
    "                if L[j] < s0:\n",
    "                    L[j] = s0\n",
    "            \n",
    "            temp = flowers[i] + gamma * L * (global_ - flowers[i])\n",
    "        # LOCAL POLLINATION\n",
    "        else:\n",
    "            while(True):\n",
    "                i1, i2 = np.random.randint(0, num, size=2)\n",
    "                if i1==i2 or i1==i or i2==i:\n",
    "                    if num <= 5: # For breaking the loop\n",
    "                        None\n",
    "                    else:\n",
    "                        continue\n",
    "                break\n",
    "            epsilon = np.random.uniform(0.,1.)\n",
    "            \n",
    "            temp = flowers[i] + epsilon * (flowers[i1] - flowers[i2])\n",
    "        \n",
    "        # CALCULATE COST\n",
    "        temp_loss = calculate_total_cost(temp)\n",
    "        if np.isnan(temp_loss):\n",
    "            temp_loss = np.Inf\n",
    "        \n",
    "        # UPDATE\n",
    "        if temp_loss < loss_flowers[i]:\n",
    "            out[i] = temp\n",
    "            loss[i] = temp_loss\n",
    "        else:\n",
    "            out[i] = flowers[i]\n",
    "            loss[i] = loss_flowers[i]\n",
    "    \n",
    "    min_idx = np.argmin(loss)\n",
    "    min_loss = loss[min_idx]\n",
    "    if global_loss_ > min_loss:\n",
    "        global_loss_new = min_loss\n",
    "        global_new = out[min_idx, :]\n",
    "    else:\n",
    "        global_new = global_\n",
    "        global_loss_new = global_loss_\n",
    "    \n",
    "    return out, loss, global_new, global_loss_new\n",
    "\n",
    "xx1 = np.ones((2, 17))\n",
    "xx2 = np.ones(2)\n",
    "xx3 = np.random.randn(17)\n",
    "_ = fpa(xx1, xx2, xx3, 100.0, 0.8, 1.5, 0.1, 0.69, 0.1)"
   ]
  },
  {
   "cell_type": "markdown",
   "metadata": {},
   "source": [
    "# SIMULATION (OPTIMIZATION)"
   ]
  },
  {
   "cell_type": "code",
   "execution_count": null,
   "metadata": {
    "ExecuteTime": {
     "end_time": "2020-05-04T16:45:17.982152Z",
     "start_time": "2020-05-04T16:45:17.944360Z"
    }
   },
   "outputs": [],
   "source": [
    "num = 50\n",
    "\n",
    "r_a1 = [0., -2.]\n",
    "r_a2 = [0., -2.]\n",
    "r_a3 = [0., -2.]\n",
    "r_b1 = [0., 2.]\n",
    "r_b2 = [0., 2.]\n",
    "r_b3 = [-2., 2.]\n",
    "r_b4 = [-2., 2.]\n",
    "r_c1 = [0., -2.]\n",
    "r_c2 = [0., -2.]\n",
    "r_c3 = [-2., 2.]\n",
    "r_c4 = [-2., 2.]\n",
    "r_td11 = [5, 25]\n",
    "r_td12 = [5, 25]\n",
    "r_td13 = [5, 25]\n",
    "r_td21 = [0, 10]\n",
    "r_td22 = [0, 10]\n",
    "r_td23 = [0, 10]\n",
    "rng = [r_a1, r_a2, r_a3,\n",
    "       r_b1, r_b2, r_b3, r_b4,\n",
    "       r_c1, r_c2, r_c3, r_c4,\n",
    "       r_td11, r_td12, r_td13,\n",
    "       r_td21, r_td22, r_td23\n",
    "      ]\n",
    "dim = len(rng)\n",
    "\n",
    "s0 = 0.1\n",
    "p_threshold = 0.8\n",
    "alpha = 1.5\n",
    "gamma = 0.1\n",
    "var = (math.gamma(1+alpha)/alpha/math.gamma((1+alpha)/2) * np.sin(np.pi * alpha/2)/2**((alpha-1)/2))**(1/alpha)"
   ]
  },
  {
   "cell_type": "code",
   "execution_count": null,
   "metadata": {},
   "outputs": [],
   "source": [
    "start_time = time.clock()\n",
    "\n",
    "flowers = generate_population(num, dim, rng)\n",
    "global_ = None\n",
    "global_loss_ = np.Inf\n",
    "\n",
    "loss_flowers = flowers_cost(flowers)\n",
    "loss_flowers[np.isnan(loss_flowers)] = np.Inf\n",
    "min_idx = np.argmin(loss_flowers)\n",
    "min_loss = loss_flowers[min_idx]\n",
    "if global_loss_ > min_loss:\n",
    "    global_loss_ = min_loss\n",
    "    global_ = flowers[min_idx, :]\n",
    "\n",
    "# Limiting Levy Flight s0 = 0.1\n",
    "total_itr = 10000\n",
    "global_history = np.empty((total_itr, dim))\n",
    "global_history[0] = global_\n",
    "global_loss_history = np.empty(total_itr)\n",
    "global_loss_history[0] = global_loss_\n",
    "for i in range(1, total_itr):\n",
    "    # Flower Pollination Algorithm\n",
    "    flowers, loss_flowers, global_, global_loss_ = fpa(flowers, loss_flowers, global_, global_loss_, p_threshold, alpha, gamma, var, s0)\n",
    "    \n",
    "    print('iteration: {} || global_loss: {:.5f}'.format(i, global_loss_))\n",
    "     \n",
    "    global_history[i] = global_\n",
    "    global_loss_history[i] = global_loss_\n",
    "\n",
    "end_time = time.clock()"
   ]
  },
  {
   "cell_type": "code",
   "execution_count": null,
   "metadata": {},
   "outputs": [],
   "source": [
    "# Save the simulation\n",
    "'''\n",
    "np.save('global_history.npy', global_history)\n",
    "np.save('global_loss_history.npy', global_loss_history)\n",
    "'''"
   ]
  },
  {
   "cell_type": "code",
   "execution_count": null,
   "metadata": {},
   "outputs": [],
   "source": [
    "print('Simulation time: {}'.format(end_time - start_time))\n",
    "print('The minimum loss: {}'.format(global_loss_))\n",
    "print('Parameters: ')\n",
    "print(global_)"
   ]
  },
  {
   "cell_type": "code",
   "execution_count": null,
   "metadata": {},
   "outputs": [],
   "source": [
    "print(global_)"
   ]
  },
  {
   "cell_type": "markdown",
   "metadata": {},
   "source": [
    "# RESULT"
   ]
  },
  {
   "cell_type": "markdown",
   "metadata": {},
   "source": [
    "## Load Model"
   ]
  },
  {
   "cell_type": "code",
   "execution_count": null,
   "metadata": {},
   "outputs": [],
   "source": [
    "# Perhatikan directorynya\n",
    "global_history = np.load('results/global_history.npy') # Perhatikan directory nya\n",
    "global_loss_history = np.load('results/global_loss_history.npy') # Perhatikan directory nya\n",
    "global_ = global_history[-1]\n",
    "global_loss_ = global_loss_history[-1]"
   ]
  },
  {
   "cell_type": "code",
   "execution_count": null,
   "metadata": {},
   "outputs": [],
   "source": [
    "param_name = ['a1', 'a2', 'a3', 'b1', 'b2', 'b3', 'b4', 'c1', 'c2', 'c3', 'c4', 'd11', 'd12', 'd13', 'd21', 'd22', 'd23']\n",
    "print('The minimum loss: {}'.format(global_loss_))\n",
    "print('Parameters:')\n",
    "for i in range(len(param_name)):\n",
    "    print('{}: {}'.format(param_name[i], global_[i]))"
   ]
  },
  {
   "cell_type": "markdown",
   "metadata": {},
   "source": [
    "## Visualization"
   ]
  },
  {
   "cell_type": "code",
   "execution_count": null,
   "metadata": {},
   "outputs": [],
   "source": [
    "# Visualization\n",
    "t = t11\n",
    "u = u11\n",
    "v = v11\n",
    "test = forward_propagation(t, u, global_)\n",
    "plt.plot(t, v, label='ground-truth')\n",
    "plt.plot(t, test, label='prediction')\n",
    "plt.legend()\n",
    "plt.show()"
   ]
  },
  {
   "cell_type": "markdown",
   "metadata": {},
   "source": [
    "## Cost and Metrics"
   ]
  },
  {
   "cell_type": "code",
   "execution_count": null,
   "metadata": {},
   "outputs": [],
   "source": [
    "t = [t0, t1, t2, t3, t4, t5, t6, t7, t8, t9, t10, t11]\n",
    "u = [u0, u1, u2, u3, u4, u5, u6, u7, u8, u9, u10, u11]\n",
    "v = [v0, v1, v2, v3, v4, v5, v6, v7, v8, v9, v10, v11]\n",
    "acc = []\n",
    "mse = []\n",
    "maae = [] \n",
    "for i in range(len(t)):\n",
    "    acc.append(accuracy(t[i], u[i], v[i], global_))\n",
    "    mse.append(mean_squared_error(t[i], u[i], v[i], global_))\n",
    "    maae.append(maximum_absolute_error(t[i], u[i], v[i], global_))"
   ]
  },
  {
   "cell_type": "code",
   "execution_count": null,
   "metadata": {},
   "outputs": [],
   "source": [
    "print('Accuracy')\n",
    "for i in range(len(t)):\n",
    "    print('Data ke-{}: {:.2f}%'.format(i+1, acc[i]*100))"
   ]
  },
  {
   "cell_type": "code",
   "execution_count": null,
   "metadata": {},
   "outputs": [],
   "source": [
    "print('Mean Squared Error')\n",
    "for i in range(len(t)):\n",
    "    print('Data ke-{}: {:.5f}'.format(i+1, mse[i]))"
   ]
  },
  {
   "cell_type": "code",
   "execution_count": null,
   "metadata": {},
   "outputs": [],
   "source": [
    "print('Maximum Absolute Squared Error')\n",
    "for i in range(len(t)):\n",
    "    print('Data ke-{}: {:.3f}'.format(i+1, maae[i]))"
   ]
  },
  {
   "cell_type": "code",
   "execution_count": null,
   "metadata": {},
   "outputs": [],
   "source": [
    "num = 0\n",
    "for i in range(len(t)):\n",
    "    num += t[i].shape[0]\n",
    "vv = np.empty(num)\n",
    "vv_gt = np.empty(num)\n",
    "nn = 0\n",
    "for i in range(len(t)):\n",
    "    n = t[i].shape[0]\n",
    "    if nn == 0:\n",
    "        vv[:n] = forward_propagation(t[i], u[i], global_)\n",
    "        vv_gt[:n] = v[i]\n",
    "    else:\n",
    "        vv[nn:nn+n] = forward_propagation(t[i], u[i], global_)\n",
    "        vv_gt[nn:nn+n] = v[i]\n",
    "    nn += n\n",
    "total_accuracy = (1 - np.linalg.norm(vv_gt - vv)/np.linalg.norm(vv_gt - np.mean(vv_gt)))\n",
    "print('Total Accuracy: {:.2f}%'.format(total_accuracy*100))"
   ]
  },
  {
   "cell_type": "markdown",
   "metadata": {},
   "source": [
    "# TEST MODEL"
   ]
  },
  {
   "cell_type": "code",
   "execution_count": null,
   "metadata": {},
   "outputs": [],
   "source": [
    "df = pd.read_csv('test_data.csv')\n",
    "throttle = df.throttle\n",
    "brake = df.brake\n",
    "t99 = np.array(df.time).astype('float64')\n",
    "u99 = np.array([throttle, brake]).T.astype('float64')\n",
    "v99 = np.array(df.speed).astype('float64')"
   ]
  },
  {
   "cell_type": "code",
   "execution_count": null,
   "metadata": {},
   "outputs": [],
   "source": [
    "vp = forward_propagation(t99, u99, global_)\n",
    "print('accuracy: {:.2f}%'.format(100*accuracy(t99, u99, v99, global_)))\n",
    "print('mean_squared_error: {:.5f}'.format(mean_squared_error(t99, u99, v99, global_)))\n",
    "print('max_absolute_error: {:.3f}'.format(maximum_absolute_error(t99, u99, v99, global_)))"
   ]
  },
  {
   "cell_type": "code",
   "execution_count": null,
   "metadata": {},
   "outputs": [],
   "source": [
    "plt.plot(t99, v99, label='Real Speed', linestyle='--', color='black', linewidth=2)\n",
    "plt.plot(t99, vp, label='Estimated', linewidth=1, color='red')\n",
    "plt.legend()\n",
    "plt.xlabel('Time (s)')\n",
    "plt.ylabel('Speed (m/s)')\n",
    "plt.title('Real Speed vs Estimated Speed')\n",
    "plt.savefig('results/real_estimated', dpi=600)\n",
    "plt.show()"
   ]
  },
  {
   "cell_type": "code",
   "execution_count": null,
   "metadata": {},
   "outputs": [],
   "source": [
    "plt.plot(t99, v99-vp, linewidth=2)\n",
    "plt.xlabel('Time (s)')\n",
    "plt.ylabel('Error (m/s)')\n",
    "plt.title('Estimation Error')\n",
    "plt.savefig('results/estimation_error', dpi=600)\n",
    "plt.show()"
   ]
  },
  {
   "cell_type": "code",
   "execution_count": null,
   "metadata": {},
   "outputs": [],
   "source": [
    "err = v99 - vp\n",
    "plt.hist(v99-vp, bins=int((np.max(err) - np.min(err))/0.01))\n",
    "plt.title('Histogram of Estimation Error')\n",
    "plt.xlabel('Error (m/s)')\n",
    "plt.ylabel('Frequency')\n",
    "plt.savefig('results/estimation_error_hist', dpi=600)\n",
    "plt.show()"
   ]
  },
  {
   "cell_type": "markdown",
   "metadata": {},
   "source": [
    "## Dari Data CARLA dengan PID"
   ]
  },
  {
   "cell_type": "code",
   "execution_count": null,
   "metadata": {},
   "outputs": [],
   "source": [
    "df = pd.read_csv('test_data_pid.csv')\n",
    "throttle = df.throttle\n",
    "brake = df.brake\n",
    "mt0 = np.array(df.time).astype('float64')\n",
    "mu0 = np.array([throttle, brake]).T.astype('float64')\n",
    "mv0 = np.array(df.speed).astype('float64')"
   ]
  },
  {
   "cell_type": "code",
   "execution_count": null,
   "metadata": {},
   "outputs": [],
   "source": [
    "global_ = global_history[-1]\n",
    "vp0 = forward_propagation(mt0, mu0, global_)\n",
    "print('accuracy: {:.2f}%'.format(100*accuracy(mt0, mu0, mv0, global_)))\n",
    "print('mean_squared_error: {:.5f}'.format(mean_squared_error(mt0, mu0, mv0, global_)))\n",
    "print('max_absolute_error: {:.3f}'.format(maximum_absolute_error(mt0, mu0, mv0, global_)))"
   ]
  },
  {
   "cell_type": "code",
   "execution_count": null,
   "metadata": {},
   "outputs": [],
   "source": [
    "plt.plot(mt0, mv0, label='Real Speed', linestyle='--', color='black', linewidth=2)\n",
    "plt.plot(mt0, vp0, label='Estimated', linewidth=1, color='red')\n",
    "plt.legend()\n",
    "plt.xlabel('Time (s)')\n",
    "plt.ylabel('Speed (m/s)')\n",
    "plt.title('Real Speed vs Estimated Speed')\n",
    "plt.savefig('results/real_estimated_II', dpi=600)\n",
    "plt.show()"
   ]
  },
  {
   "cell_type": "code",
   "execution_count": null,
   "metadata": {},
   "outputs": [],
   "source": [
    "plt.plot(mt0, mv0-vp0, linewidth=2)\n",
    "plt.xlabel('Time (s)')\n",
    "plt.ylabel('Error (m/s)')\n",
    "plt.title('Estimation Error')\n",
    "plt.savefig('results/estimation_error_II', dpi=600)\n",
    "plt.show()"
   ]
  },
  {
   "cell_type": "code",
   "execution_count": null,
   "metadata": {},
   "outputs": [],
   "source": [
    "err = mv0-vp0\n",
    "plt.hist(mv0-vp0, bins=int((np.max(err) - np.min(err))/0.01))\n",
    "plt.title('Histogram of Estimation Error')\n",
    "plt.xlabel('Error (m/s)')\n",
    "plt.ylabel('Frequency')\n",
    "plt.savefig('results/estimation_error_hist_II', dpi=600)\n",
    "plt.show()"
   ]
  },
  {
   "cell_type": "code",
   "execution_count": null,
   "metadata": {},
   "outputs": [],
   "source": []
  }
 ],
 "metadata": {
  "kernelspec": {
   "display_name": "Python 3",
   "language": "python",
   "name": "python3"
  },
  "language_info": {
   "codemirror_mode": {
    "name": "ipython",
    "version": 3
   },
   "file_extension": ".py",
   "mimetype": "text/x-python",
   "name": "python",
   "nbconvert_exporter": "python",
   "pygments_lexer": "ipython3",
   "version": "3.7.7"
  },
  "latex_envs": {
   "LaTeX_envs_menu_present": true,
   "autoclose": false,
   "autocomplete": true,
   "bibliofile": "biblio.bib",
   "cite_by": "apalike",
   "current_citInitial": 1,
   "eqLabelWithNumbers": true,
   "eqNumInitial": 1,
   "hotkeys": {
    "equation": "Ctrl-E",
    "itemize": "Ctrl-I"
   },
   "labels_anchors": false,
   "latex_user_defs": false,
   "report_style_numbering": false,
   "user_envs_cfg": false
  },
  "toc": {
   "base_numbering": 1,
   "nav_menu": {},
   "number_sections": true,
   "sideBar": true,
   "skip_h1_title": false,
   "title_cell": "Table of Contents",
   "title_sidebar": "Contents",
   "toc_cell": false,
   "toc_position": {},
   "toc_section_display": true,
   "toc_window_display": false
  },
  "toc-autonumbering": true
 },
 "nbformat": 4,
 "nbformat_minor": 4
}

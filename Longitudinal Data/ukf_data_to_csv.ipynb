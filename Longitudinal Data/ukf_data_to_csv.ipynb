{
 "cells": [
  {
   "cell_type": "code",
   "execution_count": 1,
   "metadata": {},
   "outputs": [
    {
     "name": "stderr",
     "output_type": "stream",
     "text": [
      "Failed to load Python extension for LZ4 support. LZ4 compression will not be available.\n"
     ]
    }
   ],
   "source": [
    "import numpy as np\n",
    "import matplotlib.pyplot as plt\n",
    "import pandas as pd\n",
    "import rosbag\n",
    "import pymap3d as pm\n",
    "import numba as nb\n",
    "\n",
    "from scipy.signal import savgol_filter\n",
    "%matplotlib inline"
   ]
  },
  {
   "cell_type": "code",
   "execution_count": 2,
   "metadata": {},
   "outputs": [],
   "source": [
    "def wrap_angle(angle):\n",
    "    return (angle + np.pi) % (2 * np.pi) - np.pi\n",
    "\n",
    "@nb.njit()\n",
    "def to_euler(x, y, z, w):\n",
    "    \"\"\"Dari Coursera: Return as xyz (roll pitch yaw) Euler angles.\"\"\"\n",
    "    roll = np.arctan2(2 * (w * x + y * z), 1 - 2 * (x**2 + y**2))\n",
    "    pitch = np.arcsin(2 * (w * y - z * x))\n",
    "    yaw = np.arctan2(2 * (w * z + x * y), 1 - 2 * (y**2 + z**2))\n",
    "    return np.array([roll, pitch, yaw])\n",
    "# Compile the to_euler\n",
    "_ = to_euler(1.5352300785980803e-15, -1.3393747145983517e-15, -0.7692164172827881, 0.638988343698562)"
   ]
  },
  {
   "cell_type": "markdown",
   "metadata": {
    "collapsed": "true"
   },
   "source": [
    "# Import Data"
   ]
  },
  {
   "cell_type": "code",
   "execution_count": 3,
   "metadata": {},
   "outputs": [
    {
     "name": "stdout",
     "output_type": "stream",
     "text": [
      "path:        ukf_data/adam_0,15.bag\n",
      "version:     2.0\n",
      "duration:    27.6s\n",
      "start:       Aug 22 2020 16:28:16.59 (1598088496.59)\n",
      "end:         Aug 22 2020 16:28:44.18 (1598088524.18)\n",
      "size:        3.4 MB\n",
      "messages:    9088\n",
      "compression: none [5/5 chunks]\n",
      "types:       diagnostic_msgs/DiagnosticArray       [60810da900de1dd6ddd437c3503511da]\n",
      "             dynamic_reconfigure/Config            [958f16a05573709014982821e6822580]\n",
      "             dynamic_reconfigure/ConfigDescription [757ce9d44ba8ddd801bb30bc456f946f]\n",
      "             geometry_msgs/TwistStamped            [98d34b0043a2093cf9d9345ab6eef12e]\n",
      "             nav_msgs/Odometry                     [cd5e73d190d741a2f92e81eda573aca7]\n",
      "             pkg_ta/Control                        [f3ff5e621674977340f826fa8303fddf]\n",
      "             pkg_ta/LogArduino                     [794f6f831f1064c1b29b65087ebb232f]\n",
      "             rosgraph_msgs/Log                     [acffd30cd6b6de30f120938c17c593fb]\n",
      "             sensor_msgs/Imu                       [6a62c6daae103f4ff57a132d6f95cec2]\n",
      "             sensor_msgs/NavSatFix                 [2d3a8cd499b9b4a0249fb98fd05cfa48]\n",
      "             sensor_msgs/TimeReference             [fded64a0265108ba86c3d38fb11c0c16]\n",
      "             tf2_msgs/TFMessage                    [94810edda583a504dfda3829e70d7eec]\n",
      "topics:      /control_signal                     476 msgs @  20.0 Hz : pkg_ta/Control                       \n",
      "             /diagnostics                         76 msgs @  11.5 Hz : diagnostic_msgs/DiagnosticArray       (3 connections)\n",
      "             /fix                                117 msgs @   4.8 Hz : sensor_msgs/NavSatFix                \n",
      "             /gps/filtered                       528 msgs @  29.9 Hz : sensor_msgs/NavSatFix                \n",
      "             /gps_data                           133 msgs @   5.0 Hz : sensor_msgs/NavSatFix                \n",
      "             /imu                               1186 msgs @  50.0 Hz : sensor_msgs/Imu                      \n",
      "             /imu_node/parameter_descriptions      1 msg             : dynamic_reconfigure/ConfigDescription\n",
      "             /imu_node/parameter_updates           1 msg             : dynamic_reconfigure/Config           \n",
      "             /logging_arduino                   1182 msgs @  49.4 Hz : pkg_ta/LogArduino                    \n",
      "             /odom                               527 msgs @  20.0 Hz : nav_msgs/Odometry                    \n",
      "             /odometry/filtered_map              794 msgs @  22.8 Hz : nav_msgs/Odometry                    \n",
      "             /odometry/filtered_odom             791 msgs @  22.8 Hz : nav_msgs/Odometry                    \n",
      "             /odometry/gps                       123 msgs @   5.0 Hz : nav_msgs/Odometry                    \n",
      "             /odometry/utm_filtered              528 msgs @  22.7 Hz : nav_msgs/Odometry                    \n",
      "             /rosout                             118 msgs @ 526.8 Hz : rosgraph_msgs/Log                     (10 connections)\n",
      "             /rosout_agg                          44 msgs @   4.4 Hz : rosgraph_msgs/Log                    \n",
      "             /tf                                2108 msgs @ 135.9 Hz : tf2_msgs/TFMessage                    (3 connections)\n",
      "             /tf_static                            4 msgs @  4.1 kHz : tf2_msgs/TFMessage                    (4 connections)\n",
      "             /time_reference                     117 msgs @   4.8 Hz : sensor_msgs/TimeReference            \n",
      "             /vel                                234 msgs @ 107.9 Hz : geometry_msgs/TwistStamped\n"
     ]
    }
   ],
   "source": [
    "bag = rosbag.Bag('ukf_data/adam_0,15.bag')\n",
    "print(bag)"
   ]
  },
  {
   "cell_type": "markdown",
   "metadata": {
    "collapsed": "true"
   },
   "source": [
    "## Speed"
   ]
  },
  {
   "cell_type": "code",
   "execution_count": 4,
   "metadata": {},
   "outputs": [],
   "source": [
    "f_t = []\n",
    "f_x = []\n",
    "f_y = []\n",
    "f_yaw = []\n",
    "f_v = []\n",
    "for topic, msg, _ in bag.read_messages(topics=['/odometry/filtered_map']):\n",
    "    f_t.append(msg.header.stamp.to_sec())\n",
    "    pos = msg.pose.pose.position\n",
    "    f_x.append(pos.x)\n",
    "    f_y.append(pos.y)\n",
    "    q = msg.pose.pose.orientation\n",
    "    euler = to_euler(q.x, q.y, q.z, q.w)\n",
    "    f_yaw.append(euler[-1])\n",
    "    v = msg.twist.twist.linear\n",
    "    f_v.append(np.sqrt(v.x**2 + v.y**2))\n",
    "f_t = np.array(f_t)\n",
    "f_x = np.array(f_x)\n",
    "f_y = np.array(f_y)\n",
    "f_yaw = np.array(f_yaw)\n",
    "f_v = np.array(f_v)\n",
    "f_v[f_v < 0.] = 0."
   ]
  },
  {
   "cell_type": "markdown",
   "metadata": {
    "collapsed": "true"
   },
   "source": [
    "## Control Signal"
   ]
  },
  {
   "cell_type": "code",
   "execution_count": 5,
   "metadata": {},
   "outputs": [],
   "source": [
    "cs_t = []\n",
    "cs_action_throttle = []\n",
    "for topic, msg, _ in bag.read_messages(topics=['/control_signal']):\n",
    "    cs_t.append(msg.header.stamp.to_sec())\n",
    "    cs_action_throttle.append(msg.action_throttle)\n",
    "cs_t = np.array(cs_t)\n",
    "cs_action_throttle = np.array(cs_action_throttle)"
   ]
  },
  {
   "cell_type": "markdown",
   "metadata": {
    "collapsed": "true"
   },
   "source": [
    "## GPS"
   ]
  },
  {
   "cell_type": "code",
   "execution_count": 6,
   "metadata": {},
   "outputs": [],
   "source": [
    "lat0, lon0, h0 = -6.8712, 107.5738, 768\n",
    "gps_t = []\n",
    "gps_pos = []\n",
    "gps_cov = []\n",
    "for topic, msg, _ in bag.read_messages(topics=['/fix']):\n",
    "    gps_t.append(msg.header.stamp.to_sec())\n",
    "    gps_pos.append(pm.geodetic2enu(msg.latitude, msg.longitude, msg.altitude, lat0, lon0, h0))\n",
    "    gps_cov.append(msg.position_covariance)\n",
    "gps_t = np.array(gps_t)\n",
    "gps_pos = np.array(gps_pos)\n",
    "gps_cov = np.array(gps_cov).reshape(-1,3,3)"
   ]
  },
  {
   "cell_type": "markdown",
   "metadata": {},
   "source": [
    "# Get Data"
   ]
  },
  {
   "cell_type": "markdown",
   "metadata": {},
   "source": [
    "## Check"
   ]
  },
  {
   "cell_type": "code",
   "execution_count": 7,
   "metadata": {},
   "outputs": [
    {
     "data": {
      "text/plain": [
       "[<matplotlib.lines.Line2D at 0x7ff179914390>]"
      ]
     },
     "execution_count": 7,
     "metadata": {},
     "output_type": "execute_result"
    },
    {
     "data": {
      "image/png": "[encoded data removed]",
      "text/plain": [
       "<Figure size 432x288 with 1 Axes>"
      ]
     },
     "metadata": {
      "needs_background": "light"
     },
     "output_type": "display_data"
    }
   ],
   "source": [
    "plt.plot(gps_pos[:,0], gps_pos[:,1])"
   ]
  },
  {
   "cell_type": "code",
   "execution_count": 8,
   "metadata": {},
   "outputs": [
    {
     "data": {
      "image/png": "[encoded data removed]",
      "text/plain": [
       "<Figure size 432x288 with 1 Axes>"
      ]
     },
     "metadata": {
      "needs_background": "light"
     },
     "output_type": "display_data"
    }
   ],
   "source": [
    "plt.plot(cs_t - f_t[0], cs_action_throttle, label='normalized throttle')\n",
    "plt.plot(f_t - f_t[0], f_v, label='speed')\n",
    "plt.legend()\n",
    "plt.show()"
   ]
  },
  {
   "cell_type": "markdown",
   "metadata": {},
   "source": [
    "## Align the time frame"
   ]
  },
  {
   "cell_type": "code",
   "execution_count": 9,
   "metadata": {},
   "outputs": [],
   "source": [
    "idx = 0\n",
    "f_throttle = np.zeros_like(f_t)\n",
    "for i in range(1, f_t.shape[0]):\n",
    "    f_throttle[i] = f_throttle[i-1]\n",
    "    if (idx != cs_t.shape[0]):\n",
    "        if (cs_t[idx] <= f_t[i]):\n",
    "            f_throttle[i] = cs_action_throttle[idx]\n",
    "            idx += 1"
   ]
  },
  {
   "cell_type": "code",
   "execution_count": 10,
   "metadata": {},
   "outputs": [
    {
     "data": {
      "text/plain": [
       "[<matplotlib.lines.Line2D at 0x7ff178da7d90>]"
      ]
     },
     "execution_count": 10,
     "metadata": {},
     "output_type": "execute_result"
    },
    {
     "data": {
      "image/png": "[encoded data removed]",
      "text/plain": [
       "<Figure size 432x288 with 1 Axes>"
      ]
     },
     "metadata": {
      "needs_background": "light"
     },
     "output_type": "display_data"
    }
   ],
   "source": [
    "plt.plot(f_t, f_throttle)\n",
    "plt.plot(f_t, f_v)"
   ]
  },
  {
   "cell_type": "markdown",
   "metadata": {},
   "source": [
    "## Save to a .csv file"
   ]
  },
  {
   "cell_type": "code",
   "execution_count": 11,
   "metadata": {},
   "outputs": [
    {
     "data": {
      "text/html": [
       "<div>\n",
       "<style scoped>\n",
       "    .dataframe tbody tr th:only-of-type {\n",
       "        vertical-align: middle;\n",
       "    }\n",
       "\n",
       "    .dataframe tbody tr th {\n",
       "        vertical-align: top;\n",
       "    }\n",
       "\n",
       "    .dataframe thead th {\n",
       "        text-align: right;\n",
       "    }\n",
       "</style>\n",
       "<table border=\"1\" class=\"dataframe\">\n",
       "  <thead>\n",
       "    <tr style=\"text-align: right;\">\n",
       "      <th></th>\n",
       "      <th>f_t</th>\n",
       "      <th>f_v</th>\n",
       "      <th>f_u</th>\n",
       "    </tr>\n",
       "  </thead>\n",
       "  <tbody>\n",
       "    <tr>\n",
       "      <th>0</th>\n",
       "      <td>1.597822e+09</td>\n",
       "      <td>6.967514e-13</td>\n",
       "      <td>0.0</td>\n",
       "    </tr>\n",
       "    <tr>\n",
       "      <th>1</th>\n",
       "      <td>1.597822e+09</td>\n",
       "      <td>5.699555e-13</td>\n",
       "      <td>0.0</td>\n",
       "    </tr>\n",
       "    <tr>\n",
       "      <th>2</th>\n",
       "      <td>1.597822e+09</td>\n",
       "      <td>6.356330e-13</td>\n",
       "      <td>0.0</td>\n",
       "    </tr>\n",
       "    <tr>\n",
       "      <th>3</th>\n",
       "      <td>1.597822e+09</td>\n",
       "      <td>6.604265e-13</td>\n",
       "      <td>0.0</td>\n",
       "    </tr>\n",
       "    <tr>\n",
       "      <th>4</th>\n",
       "      <td>1.597822e+09</td>\n",
       "      <td>6.915332e-13</td>\n",
       "      <td>0.0</td>\n",
       "    </tr>\n",
       "  </tbody>\n",
       "</table>\n",
       "</div>"
      ],
      "text/plain": [
       "            f_t           f_v  f_u\n",
       "0  1.597822e+09  6.967514e-13  0.0\n",
       "1  1.597822e+09  5.699555e-13  0.0\n",
       "2  1.597822e+09  6.356330e-13  0.0\n",
       "3  1.597822e+09  6.604265e-13  0.0\n",
       "4  1.597822e+09  6.915332e-13  0.0"
      ]
     },
     "execution_count": 11,
     "metadata": {},
     "output_type": "execute_result"
    }
   ],
   "source": [
    "data = {'f_t': f_t,\n",
    "        'f_v': f_v,\n",
    "        'f_u': f_throttle}\n",
    "df = pd.DataFrame (data, columns = ['f_t','f_v','f_u'])\n",
    "df.to_csv('csv/0,15')\n",
    "df.head()"
   ]
  },
  {
   "cell_type": "code",
   "execution_count": null,
   "metadata": {},
   "outputs": [],
   "source": []
  }
 ],
 "metadata": {
  "kernelspec": {
   "display_name": "Python 3",
   "language": "python",
   "name": "python3"
  },
  "language_info": {
   "codemirror_mode": {
    "name": "ipython",
    "version": 3
   },
   "file_extension": ".py",
   "mimetype": "text/x-python",
   "name": "python",
   "nbconvert_exporter": "python",
   "pygments_lexer": "ipython3",
   "version": "3.7.7"
  }
 },
 "nbformat": 4,
 "nbformat_minor": 4
}

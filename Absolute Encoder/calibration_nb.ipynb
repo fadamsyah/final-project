{
 "cells": [
  {
   "cell_type": "code",
   "execution_count": 1,
   "metadata": {
    "execution": {
     "iopub.execute_input": "2020-08-06T06:15:13.209947Z",
     "iopub.status.busy": "2020-08-06T06:15:13.208943Z",
     "iopub.status.idle": "2020-08-06T06:15:18.883770Z",
     "shell.execute_reply": "2020-08-06T06:15:18.881827Z",
     "shell.execute_reply.started": "2020-08-06T06:15:13.209947Z"
    }
   },
   "outputs": [],
   "source": [
    "import numpy as np\n",
    "import matplotlib\n",
    "import matplotlib.pyplot as plt\n",
    "import pandas as pd\n",
    "from sklearn.metrics import mean_squared_error\n",
    "from sklearn.linear_model import LinearRegression, RANSACRegressor"
   ]
  },
  {
   "cell_type": "code",
   "execution_count": 2,
   "metadata": {
    "execution": {
     "iopub.execute_input": "2020-08-06T06:15:18.891290Z",
     "iopub.status.busy": "2020-08-06T06:15:18.889285Z",
     "iopub.status.idle": "2020-08-06T06:15:19.085027Z",
     "shell.execute_reply": "2020-08-06T06:15:19.083028Z",
     "shell.execute_reply.started": "2020-08-06T06:15:18.891290Z"
    }
   },
   "outputs": [
    {
     "name": "stderr",
     "output_type": "stream",
     "text": [
      "C:\\Users\\ad\\anaconda3\\envs\\py37\\lib\\site-packages\\ipykernel_launcher.py:4: SettingWithCopyWarning: \n",
      "A value is trying to be set on a copy of a slice from a DataFrame\n",
      "\n",
      "See the caveats in the documentation: https://pandas.pydata.org/pandas-docs/stable/user_guide/indexing.html#returning-a-view-versus-a-copy\n",
      "  after removing the cwd from sys.path.\n"
     ]
    },
    {
     "data": {
      "text/html": [
       "<div>\n",
       "<style scoped>\n",
       "    .dataframe tbody tr th:only-of-type {\n",
       "        vertical-align: middle;\n",
       "    }\n",
       "\n",
       "    .dataframe tbody tr th {\n",
       "        vertical-align: top;\n",
       "    }\n",
       "\n",
       "    .dataframe thead th {\n",
       "        text-align: right;\n",
       "    }\n",
       "</style>\n",
       "<table border=\"1\" class=\"dataframe\">\n",
       "  <thead>\n",
       "    <tr style=\"text-align: right;\">\n",
       "      <th></th>\n",
       "      <th>Encoder</th>\n",
       "      <th>kanan_x1</th>\n",
       "      <th>kanan_x2</th>\n",
       "      <th>kanan_theta_deg</th>\n",
       "      <th>kiri_x1</th>\n",
       "      <th>kiri_x2</th>\n",
       "      <th>kiri_theta_deg</th>\n",
       "      <th>theta_mean_deg</th>\n",
       "    </tr>\n",
       "  </thead>\n",
       "  <tbody>\n",
       "    <tr>\n",
       "      <th>0</th>\n",
       "      <td>32</td>\n",
       "      <td>20.6</td>\n",
       "      <td>3.2</td>\n",
       "      <td>-38.420532</td>\n",
       "      <td>2.1</td>\n",
       "      <td>20.8</td>\n",
       "      <td>-41.901893</td>\n",
       "      <td>-40.161212</td>\n",
       "    </tr>\n",
       "    <tr>\n",
       "      <th>1</th>\n",
       "      <td>50</td>\n",
       "      <td>18.6</td>\n",
       "      <td>1.9</td>\n",
       "      <td>-36.614539</td>\n",
       "      <td>3.3</td>\n",
       "      <td>20.6</td>\n",
       "      <td>-38.159820</td>\n",
       "      <td>-37.387179</td>\n",
       "    </tr>\n",
       "    <tr>\n",
       "      <th>2</th>\n",
       "      <td>100</td>\n",
       "      <td>16.5</td>\n",
       "      <td>1.8</td>\n",
       "      <td>-31.668243</td>\n",
       "      <td>3.3</td>\n",
       "      <td>19.4</td>\n",
       "      <td>-35.099632</td>\n",
       "      <td>-33.383938</td>\n",
       "    </tr>\n",
       "    <tr>\n",
       "      <th>3</th>\n",
       "      <td>100</td>\n",
       "      <td>17.3</td>\n",
       "      <td>2.6</td>\n",
       "      <td>-31.668243</td>\n",
       "      <td>2.4</td>\n",
       "      <td>18.3</td>\n",
       "      <td>-34.600933</td>\n",
       "      <td>-33.134588</td>\n",
       "    </tr>\n",
       "    <tr>\n",
       "      <th>4</th>\n",
       "      <td>150</td>\n",
       "      <td>13.9</td>\n",
       "      <td>2.0</td>\n",
       "      <td>-25.150663</td>\n",
       "      <td>3.6</td>\n",
       "      <td>17.6</td>\n",
       "      <td>-30.000000</td>\n",
       "      <td>-27.575332</td>\n",
       "    </tr>\n",
       "  </tbody>\n",
       "</table>\n",
       "</div>"
      ],
      "text/plain": [
       "   Encoder  kanan_x1  kanan_x2  kanan_theta_deg  kiri_x1  kiri_x2  \\\n",
       "0       32      20.6       3.2       -38.420532      2.1     20.8   \n",
       "1       50      18.6       1.9       -36.614539      3.3     20.6   \n",
       "2      100      16.5       1.8       -31.668243      3.3     19.4   \n",
       "3      100      17.3       2.6       -31.668243      2.4     18.3   \n",
       "4      150      13.9       2.0       -25.150663      3.6     17.6   \n",
       "\n",
       "   kiri_theta_deg  theta_mean_deg  \n",
       "0      -41.901893      -40.161212  \n",
       "1      -38.159820      -37.387179  \n",
       "2      -35.099632      -33.383938  \n",
       "3      -34.600933      -33.134588  \n",
       "4      -30.000000      -27.575332  "
      ]
     },
     "execution_count": 2,
     "metadata": {},
     "output_type": "execute_result"
    }
   ],
   "source": [
    "df = pd.read_csv('calibration_data.csv')\n",
    "\n",
    "# Preprocessing\n",
    "df['Encoder'][df['Encoder'] < 500] += 1024\n",
    "df['Encoder'] -= 500\n",
    "df.sort_values('Encoder', inplace=True)\n",
    "df.reset_index(drop=True, inplace=True)\n",
    "\n",
    "df.head()"
   ]
  },
  {
   "cell_type": "markdown",
   "metadata": {},
   "source": [
    "> $$\\displaystyle{\\cot(\\delta)=\\frac{\\cot(\\delta_l)+\\cot(\\delta_r)}{2}}$$\n",
    "$$\\displaystyle{\\tan(\\delta)=\\frac{2 \\tan(\\delta_l)\\tan(\\delta_r)}{\\tan(\\delta_l) + \\tan(\\delta_r)}}$$"
   ]
  },
  {
   "cell_type": "code",
   "execution_count": 3,
   "metadata": {
    "execution": {
     "iopub.execute_input": "2020-08-06T06:15:19.089037Z",
     "iopub.status.busy": "2020-08-06T06:15:19.087534Z",
     "iopub.status.idle": "2020-08-06T06:15:19.115108Z",
     "shell.execute_reply": "2020-08-06T06:15:19.113603Z",
     "shell.execute_reply.started": "2020-08-06T06:15:19.089037Z"
    }
   },
   "outputs": [],
   "source": [
    "δl = df['kiri_theta_deg'].values * np.pi / 180.\n",
    "δr = df['kanan_theta_deg'].values * np.pi / 180.\n",
    "δ = np.arctan(2*np.tan(δl)*np.tan(δr) / (np.tan(δl)+np.tan(δr)))\n",
    "δ = δ[:, np.newaxis]\n",
    "#δ * 180 / np.pi"
   ]
  },
  {
   "cell_type": "code",
   "execution_count": 4,
   "metadata": {
    "execution": {
     "iopub.execute_input": "2020-08-06T06:15:19.177774Z",
     "iopub.status.busy": "2020-08-06T06:15:19.167747Z",
     "iopub.status.idle": "2020-08-06T06:15:19.238435Z",
     "shell.execute_reply": "2020-08-06T06:15:19.236554Z",
     "shell.execute_reply.started": "2020-08-06T06:15:19.177774Z"
    }
   },
   "outputs": [
    {
     "name": "stdout",
     "output_type": "stream",
     "text": [
      "The number of outliers: 1\n"
     ]
    }
   ],
   "source": [
    "# We use RANSAC (Random Sample Consensus) to make the linear regression more robust to the outlier\n",
    "X = df['Encoder'].values[:, np.newaxis]\n",
    "model = RANSACRegressor().fit(X, δ)\n",
    "pred = model.predict(X)\n",
    "inlier_mask = model.inlier_mask_\n",
    "outlier_mask = np.logical_not(inlier_mask)\n",
    "print(\"The number of outliers: {}\".format(np.sum(outlier_mask)))"
   ]
  },
  {
   "cell_type": "code",
   "execution_count": 5,
   "metadata": {
    "execution": {
     "iopub.execute_input": "2020-08-06T06:15:19.242043Z",
     "iopub.status.busy": "2020-08-06T06:15:19.241444Z",
     "iopub.status.idle": "2020-08-06T06:15:21.404908Z",
     "shell.execute_reply": "2020-08-06T06:15:21.402902Z",
     "shell.execute_reply.started": "2020-08-06T06:15:19.242043Z"
    }
   },
   "outputs": [
    {
     "data": {
      "image/png": "[encoded data removed]",
      "text/plain": [
       "<Figure size 432x288 with 1 Axes>"
      ]
     },
     "metadata": {
      "needs_background": "light"
     },
     "output_type": "display_data"
    }
   ],
   "source": [
    "plt.scatter(df['Encoder'], δ, label='Sudut Kemudi')\n",
    "plt.xlabel(r'$\\mathbf{Absolute\\:Encoder}$')\n",
    "plt.ylabel(r'$\\mathbf{Sudut\\:Kemudi\\:\\left(\\degree\\right)}$')\n",
    "plt.show()"
   ]
  },
  {
   "cell_type": "code",
   "execution_count": 6,
   "metadata": {
    "execution": {
     "iopub.execute_input": "2020-08-06T06:15:21.412428Z",
     "iopub.status.busy": "2020-08-06T06:15:21.408920Z",
     "iopub.status.idle": "2020-08-06T06:15:21.435489Z",
     "shell.execute_reply": "2020-08-06T06:15:21.433987Z",
     "shell.execute_reply.started": "2020-08-06T06:15:21.411927Z"
    }
   },
   "outputs": [
    {
     "data": {
      "text/plain": [
       "0.9600205689051575"
      ]
     },
     "execution_count": 6,
     "metadata": {},
     "output_type": "execute_result"
    }
   ],
   "source": [
    "model.score(X, δ)"
   ]
  },
  {
   "cell_type": "code",
   "execution_count": 7,
   "metadata": {
    "execution": {
     "iopub.execute_input": "2020-08-06T06:15:21.442508Z",
     "iopub.status.busy": "2020-08-06T06:15:21.441004Z",
     "iopub.status.idle": "2020-08-06T06:15:24.982764Z",
     "shell.execute_reply": "2020-08-06T06:15:24.980988Z",
     "shell.execute_reply.started": "2020-08-06T06:15:21.442508Z"
    }
   },
   "outputs": [
    {
     "data": {
      "image/png": "[encoded data removed]",
      "text/plain": [
       "<Figure size 432x288 with 1 Axes>"
      ]
     },
     "metadata": {
      "needs_background": "light"
     },
     "output_type": "display_data"
    }
   ],
   "source": [
    "plt.plot(X, model.predict(X), linewidth=2.0, label='Regresi Linier')\n",
    "plt.scatter(X[inlier_mask], δ[inlier_mask], color='black', label=r'Inlier')\n",
    "plt.scatter(X[outlier_mask], δ[outlier_mask], color='red', label=r'Outlier')\n",
    "plt.legend()\n",
    "plt.xlabel(r'$\\mathit{Absolute\\:Encoder}$')\n",
    "plt.ylabel(r'$\\mathrm{Sudut\\:Kemudi\\:}\\left(\\degree\\right)$', fontweight=\"bold\")\n",
    "plt.title(r'Kalibrasi Sensor Absolute Encoder', fontweight=\"bold\")\n",
    "pos = [500,-0.5]\n",
    "plt.text(pos[0], pos[1]+0.1, r'$y={:.2}\\,x-{:.2}$'.format(model.estimator_.coef_[0,0], np.abs(model.estimator_.intercept_[0])), fontsize=13, color='tab:blue')\n",
    "plt.text(pos[0], pos[1], r'$r^2={:.4}$'.format(model.score(X, δ)), fontsize=13, color='tab:blue')\n",
    "plt.savefig('kalibrasi_absolute_encoder.png', dpi=400, transparent=True)\n",
    "plt.show()"
   ]
  },
  {
   "cell_type": "code",
   "execution_count": null,
   "metadata": {},
   "outputs": [],
   "source": []
  }
 ],
 "metadata": {
  "kernelspec": {
   "display_name": "Python 3",
   "language": "python",
   "name": "python3"
  },
  "language_info": {
   "codemirror_mode": {
    "name": "ipython",
    "version": 3
   },
   "file_extension": ".py",
   "mimetype": "text/x-python",
   "name": "python",
   "nbconvert_exporter": "python",
   "pygments_lexer": "ipython3",
   "version": "3.7.7"
  },
  "latex_envs": {
   "LaTeX_envs_menu_present": true,
   "autoclose": false,
   "autocomplete": true,
   "bibliofile": "biblio.bib",
   "cite_by": "apalike",
   "current_citInitial": 1,
   "eqLabelWithNumbers": true,
   "eqNumInitial": 1,
   "hotkeys": {
    "equation": "Ctrl-E",
    "itemize": "Ctrl-I"
   },
   "labels_anchors": false,
   "latex_user_defs": false,
   "report_style_numbering": false,
   "user_envs_cfg": false
  },
  "toc": {
   "base_numbering": 1,
   "nav_menu": {},
   "number_sections": true,
   "sideBar": true,
   "skip_h1_title": false,
   "title_cell": "Table of Contents",
   "title_sidebar": "Contents",
   "toc_cell": false,
   "toc_position": {},
   "toc_section_display": true,
   "toc_window_display": false
  }
 },
 "nbformat": 4,
 "nbformat_minor": 4
}
